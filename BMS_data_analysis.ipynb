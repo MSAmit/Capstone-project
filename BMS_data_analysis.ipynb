{
 "cells": [
  {
   "cell_type": "markdown",
   "metadata": {},
   "source": [
    "Set working directory"
   ]
  },
  {
   "cell_type": "code",
   "execution_count": 1,
   "metadata": {},
   "outputs": [],
   "source": [
    "import os\n",
    "import pandas as pd\n",
    "import numpy as np\n",
    "import matplotlib.pyplot as plt\n",
    "from datetime import datetime\n",
    "import logging\n",
    "\n",
    "# Change file_path as necessary\n",
    "file_path = \"../Relevant data\" \n",
    "\n",
    "os.chdir(file_path)"
   ]
  },
  {
   "cell_type": "markdown",
   "metadata": {},
   "source": [
    "Load files"
   ]
  },
  {
   "cell_type": "code",
   "execution_count": 2,
   "metadata": {},
   "outputs": [],
   "source": [
    "def identify_type_of_day(date):\n",
    "    weekno = date.weekday()\n",
    "    #Ignoring the major study breaks as this is not much importance\n",
    "    #if((date.month == 7 and week_of_month(date) < 4 ) or (date.month == 12 or date.month == 1 or date.month == 2)):\n",
    "    #    return 'Major_study_break'\n",
    "    if weekno>4:\n",
    "        return 'Weekend'\n",
    "    elif is_public_holiday(date):\n",
    "        return 'Public_holiday'\n",
    "    else:\n",
    "        return 'Normal_Weekday'\n",
    "\n",
    "#Week of month\n",
    "from math import ceil\n",
    "\n",
    "def week_of_month(dt):\n",
    "    \"\"\" Returns the week of the month for the specified date.\n",
    "    \"\"\"\n",
    "    first_day = dt.replace(day=1)\n",
    "\n",
    "    dom = dt.day\n",
    "    adjusted_dom = dom + first_day.weekday()\n",
    "\n",
    "    return int(ceil(adjusted_dom/7.0))\n",
    "\n",
    "#Returns True if it's  public holiday\n",
    "def is_public_holiday(dt):\n",
    "    #public_holiday file for year 2017, use API/ file having multiple year's records to apply for different years\n",
    "    public_holidays =  pd.read_csv('australianpublicholidays.csv', sep=',', encoding='ISO-8859-1', parse_dates=['Date'],\n",
    "                 date_parser=lambda x: pd.to_datetime(x))\n",
    "    \"\"\"\"Instead API could be used : import urllib\n",
    "    url = 'https://data.gov.au/api/3/action/datastore_search?resource_id=253d63c0-af1f-4f4c-b8d5-eb9d9b1d46ab&limit=5&q=title:jones'  \n",
    "    fileobj = urllib.urlopen(url)\n",
    "    print fileobj.read() \"\"\"\n",
    "    \n",
    "    #get public holidays of SA only\n",
    "    public_holidays_SA = public_holidays[public_holidays['Applicable To'].str.contains(\"SA\") | public_holidays['Applicable To'].str.contains(\"NAT\")]\n",
    "    \n",
    "    #Return True if each date is public holiday in SA\n",
    "    return dt in (public_holidays_SA['Date'].apply(lambda x: datetime.date(x))).values\n"
   ]
  },
  {
   "cell_type": "code",
   "execution_count": 3,
   "metadata": {},
   "outputs": [],
   "source": [
    "#reads a csv file, adds a day type column, creates a csv file with day type column and returns a dataframe object with day type\n",
    "def add_day_type_column(file, date_column):\n",
    "    data_file = pd.read_csv(file, sep=',', encoding='ISO-8859-1', parse_dates=[date_column],\n",
    "                 date_parser=lambda x: pd.to_datetime(x.rsplit(' ', 1)[0]))\n",
    "    data_file['Type_of_day'] = data_file[date_column].apply(lambda x: identify_type_of_day(datetime.date(x)))\n",
    "    file_name = file + '_with_day_type.csv'\n",
    "    #uncomment next line if you want a new file to be created with day type column\n",
    "    #data_file.to_csv(file_name, sep=',', encoding='utf-8')\n",
    "    return data_file\n"
   ]
  },
  {
   "cell_type": "code",
   "execution_count": 4,
   "metadata": {},
   "outputs": [],
   "source": [
    "import logging\n",
    "logger = logging.getLogger()\n",
    "logger.setLevel(logging.DEBUG)\n",
    "\n",
    "# ### estimate campus power\n",
    "# \n",
    "# The bulk of the data is for kVA values. Estimated the real power drawn from this based on the mean power factor for the data we did have. \n",
    "\n",
    "# In[8]:\n",
    "\n",
    "def campus_power_estimation(bms):\n",
    "    \"\"\"Estimate real power form kVA value based on average pf of the \n",
    "        small set of paired values we do have\n",
    "    \"\"\"\n",
    "    \n",
    "    #bms[bms['ML_PH/Main_11kV_kW (kW)'] > 0.0]['ML_PH/Main_11kV_kW (kW)'] / bms[bms['ML_PH/Main_11kV_kW (kW)'] > 0.0]['ML_PH/Main_11kV_kVA (kVA)']\n",
    "\n",
    "   #if logger.getEffectiveLevel() < logging.INFO: \n",
    "        #plt.scatter(bms[bms['ML_PH/Main_11kV_kW (kW)'] > 0.0]['ML_PH/Main_11kV_kW (kW)'], \n",
    "         #           bms[bms['ML_PH/Main_11kV_kW (kW)'] > 0.0]['kVA'], \n",
    "          #          alpha=0.05)\n",
    "        #plt.title('Power factor scatter plot.'); \n",
    "        #plt.show()\n",
    "    \n",
    "    bms['kW_est'] = bms['kVA'] * 0.92\n",
    "    # use original values where I have them: \n",
    "    #bms['kW_est'] = np.where(bms['kW'] == 0.0, bms['kW_est'], bms['kW'])\n",
    "    return bms\n"
   ]
  },
  {
   "cell_type": "code",
   "execution_count": 5,
   "metadata": {},
   "outputs": [],
   "source": [
    "#replace zero's with previous year values\n",
    "def replace_zeros(bms,bms_lastyear):\n",
    "    #replace year in timestamp\n",
    "    imputed_df = bms.where((bms['kVA'] == 0) & (bms['TimeStamp'] == bms_lastyear['TimeStamp']), bms_lastyear['kVA'],axis=0)\n",
    "    return imputed_df"
   ]
  },
  {
   "cell_type": "code",
   "execution_count": 6,
   "metadata": {
    "scrolled": true
   },
   "outputs": [
    {
     "ename": "KeyboardInterrupt",
     "evalue": "",
     "output_type": "error",
     "traceback": [
      "\u001b[1;31m---------------------------------------------------------------------------\u001b[0m",
      "\u001b[1;31mKeyboardInterrupt\u001b[0m                         Traceback (most recent call last)",
      "\u001b[1;32m<ipython-input-6-c34aa87edc74>\u001b[0m in \u001b[0;36m<module>\u001b[1;34m()\u001b[0m\n\u001b[0;32m      1\u001b[0m \u001b[1;31m#2016 demand plotline\u001b[0m\u001b[1;33m\u001b[0m\u001b[1;33m\u001b[0m\u001b[0m\n\u001b[1;32m----> 2\u001b[1;33m \u001b[0mbms_demand_2016\u001b[0m \u001b[1;33m=\u001b[0m \u001b[0madd_day_type_column\u001b[0m\u001b[1;33m(\u001b[0m\u001b[1;34m\"bms_2016_kva.csv\"\u001b[0m\u001b[1;33m,\u001b[0m\u001b[1;34m'?Timestamp'\u001b[0m\u001b[1;33m)\u001b[0m\u001b[1;33m\u001b[0m\u001b[0m\n\u001b[0m\u001b[0;32m      3\u001b[0m \u001b[0mbms_demand_2016\u001b[0m\u001b[1;33m.\u001b[0m\u001b[0mrename\u001b[0m\u001b[1;33m(\u001b[0m\u001b[0mcolumns\u001b[0m\u001b[1;33m=\u001b[0m\u001b[1;33m{\u001b[0m\u001b[1;34m'?Timestamp'\u001b[0m\u001b[1;33m:\u001b[0m \u001b[1;34m'TimeStamp'\u001b[0m\u001b[1;33m,\u001b[0m\u001b[1;34m'ML_PH/Main_11kV_kVA (kVA)'\u001b[0m \u001b[1;33m:\u001b[0m \u001b[1;34m'kVA'\u001b[0m\u001b[1;33m,\u001b[0m\u001b[1;34m'ML_PH/PH_Ambient_Temperature (°C)'\u001b[0m\u001b[1;33m:\u001b[0m\u001b[1;34m'Temp'\u001b[0m\u001b[1;33m,\u001b[0m\u001b[1;34m'ML_PH/PH_Ambient_Humidity (%RH)'\u001b[0m\u001b[1;33m:\u001b[0m \u001b[1;34m'Humidity'\u001b[0m\u001b[1;33m}\u001b[0m\u001b[1;33m,\u001b[0m \u001b[0minplace\u001b[0m\u001b[1;33m=\u001b[0m\u001b[1;32mTrue\u001b[0m\u001b[1;33m)\u001b[0m\u001b[1;33m\u001b[0m\u001b[0m\n\u001b[0;32m      4\u001b[0m \u001b[0mbms_demand_2016\u001b[0m\u001b[1;33m[\u001b[0m\u001b[1;34m'kVA'\u001b[0m\u001b[1;33m]\u001b[0m\u001b[1;33m.\u001b[0m\u001b[0mplot\u001b[0m\u001b[1;33m.\u001b[0m\u001b[0mline\u001b[0m\u001b[1;33m(\u001b[0m\u001b[1;33m)\u001b[0m\u001b[1;33m\u001b[0m\u001b[0m\n",
      "\u001b[1;32m<ipython-input-3-f9456d2fe847>\u001b[0m in \u001b[0;36madd_day_type_column\u001b[1;34m(file, date_column)\u001b[0m\n\u001b[0;32m      3\u001b[0m     data_file = pd.read_csv(file, sep=',', encoding='ISO-8859-1', parse_dates=[date_column],\n\u001b[0;32m      4\u001b[0m                  date_parser=lambda x: pd.to_datetime(x.rsplit(' ', 1)[0]))\n\u001b[1;32m----> 5\u001b[1;33m     \u001b[0mdata_file\u001b[0m\u001b[1;33m[\u001b[0m\u001b[1;34m'Type_of_day'\u001b[0m\u001b[1;33m]\u001b[0m \u001b[1;33m=\u001b[0m \u001b[0mdata_file\u001b[0m\u001b[1;33m[\u001b[0m\u001b[0mdate_column\u001b[0m\u001b[1;33m]\u001b[0m\u001b[1;33m.\u001b[0m\u001b[0mapply\u001b[0m\u001b[1;33m(\u001b[0m\u001b[1;32mlambda\u001b[0m \u001b[0mx\u001b[0m\u001b[1;33m:\u001b[0m \u001b[0midentify_type_of_day\u001b[0m\u001b[1;33m(\u001b[0m\u001b[0mdatetime\u001b[0m\u001b[1;33m.\u001b[0m\u001b[0mdate\u001b[0m\u001b[1;33m(\u001b[0m\u001b[0mx\u001b[0m\u001b[1;33m)\u001b[0m\u001b[1;33m)\u001b[0m\u001b[1;33m)\u001b[0m\u001b[1;33m\u001b[0m\u001b[0m\n\u001b[0m\u001b[0;32m      6\u001b[0m     \u001b[0mfile_name\u001b[0m \u001b[1;33m=\u001b[0m \u001b[0mfile\u001b[0m \u001b[1;33m+\u001b[0m \u001b[1;34m'_with_day_type.csv'\u001b[0m\u001b[1;33m\u001b[0m\u001b[0m\n\u001b[0;32m      7\u001b[0m     \u001b[1;31m#uncomment next line if you want a new file to be created with day type column\u001b[0m\u001b[1;33m\u001b[0m\u001b[1;33m\u001b[0m\u001b[0m\n",
      "\u001b[1;32m~\\Anaconda3\\lib\\site-packages\\pandas\\core\\series.py\u001b[0m in \u001b[0;36mapply\u001b[1;34m(self, func, convert_dtype, args, **kwds)\u001b[0m\n\u001b[0;32m   3190\u001b[0m             \u001b[1;32melse\u001b[0m\u001b[1;33m:\u001b[0m\u001b[1;33m\u001b[0m\u001b[0m\n\u001b[0;32m   3191\u001b[0m                 \u001b[0mvalues\u001b[0m \u001b[1;33m=\u001b[0m \u001b[0mself\u001b[0m\u001b[1;33m.\u001b[0m\u001b[0mastype\u001b[0m\u001b[1;33m(\u001b[0m\u001b[0mobject\u001b[0m\u001b[1;33m)\u001b[0m\u001b[1;33m.\u001b[0m\u001b[0mvalues\u001b[0m\u001b[1;33m\u001b[0m\u001b[0m\n\u001b[1;32m-> 3192\u001b[1;33m                 \u001b[0mmapped\u001b[0m \u001b[1;33m=\u001b[0m \u001b[0mlib\u001b[0m\u001b[1;33m.\u001b[0m\u001b[0mmap_infer\u001b[0m\u001b[1;33m(\u001b[0m\u001b[0mvalues\u001b[0m\u001b[1;33m,\u001b[0m \u001b[0mf\u001b[0m\u001b[1;33m,\u001b[0m \u001b[0mconvert\u001b[0m\u001b[1;33m=\u001b[0m\u001b[0mconvert_dtype\u001b[0m\u001b[1;33m)\u001b[0m\u001b[1;33m\u001b[0m\u001b[0m\n\u001b[0m\u001b[0;32m   3193\u001b[0m \u001b[1;33m\u001b[0m\u001b[0m\n\u001b[0;32m   3194\u001b[0m         \u001b[1;32mif\u001b[0m \u001b[0mlen\u001b[0m\u001b[1;33m(\u001b[0m\u001b[0mmapped\u001b[0m\u001b[1;33m)\u001b[0m \u001b[1;32mand\u001b[0m \u001b[0misinstance\u001b[0m\u001b[1;33m(\u001b[0m\u001b[0mmapped\u001b[0m\u001b[1;33m[\u001b[0m\u001b[1;36m0\u001b[0m\u001b[1;33m]\u001b[0m\u001b[1;33m,\u001b[0m \u001b[0mSeries\u001b[0m\u001b[1;33m)\u001b[0m\u001b[1;33m:\u001b[0m\u001b[1;33m\u001b[0m\u001b[0m\n",
      "\u001b[1;32mpandas/_libs/src\\inference.pyx\u001b[0m in \u001b[0;36mpandas._libs.lib.map_infer\u001b[1;34m()\u001b[0m\n",
      "\u001b[1;32m<ipython-input-3-f9456d2fe847>\u001b[0m in \u001b[0;36m<lambda>\u001b[1;34m(x)\u001b[0m\n\u001b[0;32m      3\u001b[0m     data_file = pd.read_csv(file, sep=',', encoding='ISO-8859-1', parse_dates=[date_column],\n\u001b[0;32m      4\u001b[0m                  date_parser=lambda x: pd.to_datetime(x.rsplit(' ', 1)[0]))\n\u001b[1;32m----> 5\u001b[1;33m     \u001b[0mdata_file\u001b[0m\u001b[1;33m[\u001b[0m\u001b[1;34m'Type_of_day'\u001b[0m\u001b[1;33m]\u001b[0m \u001b[1;33m=\u001b[0m \u001b[0mdata_file\u001b[0m\u001b[1;33m[\u001b[0m\u001b[0mdate_column\u001b[0m\u001b[1;33m]\u001b[0m\u001b[1;33m.\u001b[0m\u001b[0mapply\u001b[0m\u001b[1;33m(\u001b[0m\u001b[1;32mlambda\u001b[0m \u001b[0mx\u001b[0m\u001b[1;33m:\u001b[0m \u001b[0midentify_type_of_day\u001b[0m\u001b[1;33m(\u001b[0m\u001b[0mdatetime\u001b[0m\u001b[1;33m.\u001b[0m\u001b[0mdate\u001b[0m\u001b[1;33m(\u001b[0m\u001b[0mx\u001b[0m\u001b[1;33m)\u001b[0m\u001b[1;33m)\u001b[0m\u001b[1;33m)\u001b[0m\u001b[1;33m\u001b[0m\u001b[0m\n\u001b[0m\u001b[0;32m      6\u001b[0m     \u001b[0mfile_name\u001b[0m \u001b[1;33m=\u001b[0m \u001b[0mfile\u001b[0m \u001b[1;33m+\u001b[0m \u001b[1;34m'_with_day_type.csv'\u001b[0m\u001b[1;33m\u001b[0m\u001b[0m\n\u001b[0;32m      7\u001b[0m     \u001b[1;31m#uncomment next line if you want a new file to be created with day type column\u001b[0m\u001b[1;33m\u001b[0m\u001b[1;33m\u001b[0m\u001b[0m\n",
      "\u001b[1;32m<ipython-input-2-e5f6e2f4b14e>\u001b[0m in \u001b[0;36midentify_type_of_day\u001b[1;34m(date)\u001b[0m\n\u001b[0;32m      6\u001b[0m     \u001b[1;32mif\u001b[0m \u001b[0mweekno\u001b[0m\u001b[1;33m>\u001b[0m\u001b[1;36m4\u001b[0m\u001b[1;33m:\u001b[0m\u001b[1;33m\u001b[0m\u001b[0m\n\u001b[0;32m      7\u001b[0m         \u001b[1;32mreturn\u001b[0m \u001b[1;34m'Weekend'\u001b[0m\u001b[1;33m\u001b[0m\u001b[0m\n\u001b[1;32m----> 8\u001b[1;33m     \u001b[1;32melif\u001b[0m \u001b[0mis_public_holiday\u001b[0m\u001b[1;33m(\u001b[0m\u001b[0mdate\u001b[0m\u001b[1;33m)\u001b[0m\u001b[1;33m:\u001b[0m\u001b[1;33m\u001b[0m\u001b[0m\n\u001b[0m\u001b[0;32m      9\u001b[0m         \u001b[1;32mreturn\u001b[0m \u001b[1;34m'Public_holiday'\u001b[0m\u001b[1;33m\u001b[0m\u001b[0m\n\u001b[0;32m     10\u001b[0m     \u001b[1;32melse\u001b[0m\u001b[1;33m:\u001b[0m\u001b[1;33m\u001b[0m\u001b[0m\n",
      "\u001b[1;32m<ipython-input-2-e5f6e2f4b14e>\u001b[0m in \u001b[0;36mis_public_holiday\u001b[1;34m(dt)\u001b[0m\n\u001b[0;32m     28\u001b[0m     \u001b[1;31m#public_holiday file for year 2017, use API/ file having multiple year's records to apply for different years\u001b[0m\u001b[1;33m\u001b[0m\u001b[1;33m\u001b[0m\u001b[0m\n\u001b[0;32m     29\u001b[0m     public_holidays =  pd.read_csv('australianpublicholidays.csv', sep=',', encoding='ISO-8859-1', parse_dates=['Date'],\n\u001b[1;32m---> 30\u001b[1;33m                  date_parser=lambda x: pd.to_datetime(x))\n\u001b[0m\u001b[0;32m     31\u001b[0m     \"\"\"\"Instead API could be used : import urllib\n\u001b[0;32m     32\u001b[0m     \u001b[0murl\u001b[0m \u001b[1;33m=\u001b[0m \u001b[1;34m'https://data.gov.au/api/3/action/datastore_search?resource_id=253d63c0-af1f-4f4c-b8d5-eb9d9b1d46ab&limit=5&q=title:jones'\u001b[0m\u001b[1;33m\u001b[0m\u001b[0m\n",
      "\u001b[1;32m~\\Anaconda3\\lib\\site-packages\\pandas\\io\\parsers.py\u001b[0m in \u001b[0;36mparser_f\u001b[1;34m(filepath_or_buffer, sep, delimiter, header, names, index_col, usecols, squeeze, prefix, mangle_dupe_cols, dtype, engine, converters, true_values, false_values, skipinitialspace, skiprows, nrows, na_values, keep_default_na, na_filter, verbose, skip_blank_lines, parse_dates, infer_datetime_format, keep_date_col, date_parser, dayfirst, iterator, chunksize, compression, thousands, decimal, lineterminator, quotechar, quoting, escapechar, comment, encoding, dialect, tupleize_cols, error_bad_lines, warn_bad_lines, skipfooter, doublequote, delim_whitespace, low_memory, memory_map, float_precision)\u001b[0m\n\u001b[0;32m    676\u001b[0m                     skip_blank_lines=skip_blank_lines)\n\u001b[0;32m    677\u001b[0m \u001b[1;33m\u001b[0m\u001b[0m\n\u001b[1;32m--> 678\u001b[1;33m         \u001b[1;32mreturn\u001b[0m \u001b[0m_read\u001b[0m\u001b[1;33m(\u001b[0m\u001b[0mfilepath_or_buffer\u001b[0m\u001b[1;33m,\u001b[0m \u001b[0mkwds\u001b[0m\u001b[1;33m)\u001b[0m\u001b[1;33m\u001b[0m\u001b[0m\n\u001b[0m\u001b[0;32m    679\u001b[0m \u001b[1;33m\u001b[0m\u001b[0m\n\u001b[0;32m    680\u001b[0m     \u001b[0mparser_f\u001b[0m\u001b[1;33m.\u001b[0m\u001b[0m__name__\u001b[0m \u001b[1;33m=\u001b[0m \u001b[0mname\u001b[0m\u001b[1;33m\u001b[0m\u001b[0m\n",
      "\u001b[1;32m~\\Anaconda3\\lib\\site-packages\\pandas\\io\\parsers.py\u001b[0m in \u001b[0;36m_read\u001b[1;34m(filepath_or_buffer, kwds)\u001b[0m\n\u001b[0;32m    438\u001b[0m \u001b[1;33m\u001b[0m\u001b[0m\n\u001b[0;32m    439\u001b[0m     \u001b[1;31m# Create the parser.\u001b[0m\u001b[1;33m\u001b[0m\u001b[1;33m\u001b[0m\u001b[0m\n\u001b[1;32m--> 440\u001b[1;33m     \u001b[0mparser\u001b[0m \u001b[1;33m=\u001b[0m \u001b[0mTextFileReader\u001b[0m\u001b[1;33m(\u001b[0m\u001b[0mfilepath_or_buffer\u001b[0m\u001b[1;33m,\u001b[0m \u001b[1;33m**\u001b[0m\u001b[0mkwds\u001b[0m\u001b[1;33m)\u001b[0m\u001b[1;33m\u001b[0m\u001b[0m\n\u001b[0m\u001b[0;32m    441\u001b[0m \u001b[1;33m\u001b[0m\u001b[0m\n\u001b[0;32m    442\u001b[0m     \u001b[1;32mif\u001b[0m \u001b[0mchunksize\u001b[0m \u001b[1;32mor\u001b[0m \u001b[0miterator\u001b[0m\u001b[1;33m:\u001b[0m\u001b[1;33m\u001b[0m\u001b[0m\n",
      "\u001b[1;32m~\\Anaconda3\\lib\\site-packages\\pandas\\io\\parsers.py\u001b[0m in \u001b[0;36m__init__\u001b[1;34m(self, f, engine, **kwds)\u001b[0m\n\u001b[0;32m    785\u001b[0m             \u001b[0mself\u001b[0m\u001b[1;33m.\u001b[0m\u001b[0moptions\u001b[0m\u001b[1;33m[\u001b[0m\u001b[1;34m'has_index_names'\u001b[0m\u001b[1;33m]\u001b[0m \u001b[1;33m=\u001b[0m \u001b[0mkwds\u001b[0m\u001b[1;33m[\u001b[0m\u001b[1;34m'has_index_names'\u001b[0m\u001b[1;33m]\u001b[0m\u001b[1;33m\u001b[0m\u001b[0m\n\u001b[0;32m    786\u001b[0m \u001b[1;33m\u001b[0m\u001b[0m\n\u001b[1;32m--> 787\u001b[1;33m         \u001b[0mself\u001b[0m\u001b[1;33m.\u001b[0m\u001b[0m_make_engine\u001b[0m\u001b[1;33m(\u001b[0m\u001b[0mself\u001b[0m\u001b[1;33m.\u001b[0m\u001b[0mengine\u001b[0m\u001b[1;33m)\u001b[0m\u001b[1;33m\u001b[0m\u001b[0m\n\u001b[0m\u001b[0;32m    788\u001b[0m \u001b[1;33m\u001b[0m\u001b[0m\n\u001b[0;32m    789\u001b[0m     \u001b[1;32mdef\u001b[0m \u001b[0mclose\u001b[0m\u001b[1;33m(\u001b[0m\u001b[0mself\u001b[0m\u001b[1;33m)\u001b[0m\u001b[1;33m:\u001b[0m\u001b[1;33m\u001b[0m\u001b[0m\n",
      "\u001b[1;32m~\\Anaconda3\\lib\\site-packages\\pandas\\io\\parsers.py\u001b[0m in \u001b[0;36m_make_engine\u001b[1;34m(self, engine)\u001b[0m\n\u001b[0;32m   1012\u001b[0m     \u001b[1;32mdef\u001b[0m \u001b[0m_make_engine\u001b[0m\u001b[1;33m(\u001b[0m\u001b[0mself\u001b[0m\u001b[1;33m,\u001b[0m \u001b[0mengine\u001b[0m\u001b[1;33m=\u001b[0m\u001b[1;34m'c'\u001b[0m\u001b[1;33m)\u001b[0m\u001b[1;33m:\u001b[0m\u001b[1;33m\u001b[0m\u001b[0m\n\u001b[0;32m   1013\u001b[0m         \u001b[1;32mif\u001b[0m \u001b[0mengine\u001b[0m \u001b[1;33m==\u001b[0m \u001b[1;34m'c'\u001b[0m\u001b[1;33m:\u001b[0m\u001b[1;33m\u001b[0m\u001b[0m\n\u001b[1;32m-> 1014\u001b[1;33m             \u001b[0mself\u001b[0m\u001b[1;33m.\u001b[0m\u001b[0m_engine\u001b[0m \u001b[1;33m=\u001b[0m \u001b[0mCParserWrapper\u001b[0m\u001b[1;33m(\u001b[0m\u001b[0mself\u001b[0m\u001b[1;33m.\u001b[0m\u001b[0mf\u001b[0m\u001b[1;33m,\u001b[0m \u001b[1;33m**\u001b[0m\u001b[0mself\u001b[0m\u001b[1;33m.\u001b[0m\u001b[0moptions\u001b[0m\u001b[1;33m)\u001b[0m\u001b[1;33m\u001b[0m\u001b[0m\n\u001b[0m\u001b[0;32m   1015\u001b[0m         \u001b[1;32melse\u001b[0m\u001b[1;33m:\u001b[0m\u001b[1;33m\u001b[0m\u001b[0m\n\u001b[0;32m   1016\u001b[0m             \u001b[1;32mif\u001b[0m \u001b[0mengine\u001b[0m \u001b[1;33m==\u001b[0m \u001b[1;34m'python'\u001b[0m\u001b[1;33m:\u001b[0m\u001b[1;33m\u001b[0m\u001b[0m\n",
      "\u001b[1;32m~\\Anaconda3\\lib\\site-packages\\pandas\\io\\parsers.py\u001b[0m in \u001b[0;36m__init__\u001b[1;34m(self, src, **kwds)\u001b[0m\n\u001b[0;32m   1706\u001b[0m         \u001b[0mkwds\u001b[0m\u001b[1;33m[\u001b[0m\u001b[1;34m'usecols'\u001b[0m\u001b[1;33m]\u001b[0m \u001b[1;33m=\u001b[0m \u001b[0mself\u001b[0m\u001b[1;33m.\u001b[0m\u001b[0musecols\u001b[0m\u001b[1;33m\u001b[0m\u001b[0m\n\u001b[0;32m   1707\u001b[0m \u001b[1;33m\u001b[0m\u001b[0m\n\u001b[1;32m-> 1708\u001b[1;33m         \u001b[0mself\u001b[0m\u001b[1;33m.\u001b[0m\u001b[0m_reader\u001b[0m \u001b[1;33m=\u001b[0m \u001b[0mparsers\u001b[0m\u001b[1;33m.\u001b[0m\u001b[0mTextReader\u001b[0m\u001b[1;33m(\u001b[0m\u001b[0msrc\u001b[0m\u001b[1;33m,\u001b[0m \u001b[1;33m**\u001b[0m\u001b[0mkwds\u001b[0m\u001b[1;33m)\u001b[0m\u001b[1;33m\u001b[0m\u001b[0m\n\u001b[0m\u001b[0;32m   1709\u001b[0m \u001b[1;33m\u001b[0m\u001b[0m\n\u001b[0;32m   1710\u001b[0m         \u001b[0mpassed_names\u001b[0m \u001b[1;33m=\u001b[0m \u001b[0mself\u001b[0m\u001b[1;33m.\u001b[0m\u001b[0mnames\u001b[0m \u001b[1;32mis\u001b[0m \u001b[1;32mNone\u001b[0m\u001b[1;33m\u001b[0m\u001b[0m\n",
      "\u001b[1;31mKeyboardInterrupt\u001b[0m: "
     ]
    }
   ],
   "source": [
    "#2016 demand plotline\n",
    "bms_demand_2016 = add_day_type_column(\"bms_2016_kva.csv\",'?Timestamp')\n",
    "bms_demand_2016.rename(columns={'?Timestamp': 'TimeStamp','ML_PH/Main_11kV_kVA (kVA)' : 'kVA','ML_PH/PH_Ambient_Temperature (°C)':'Temp','ML_PH/PH_Ambient_Humidity (%RH)': 'Humidity'}, inplace=True)\n",
    "bms_demand_2016['kVA'].plot.line()"
   ]
  },
  {
   "cell_type": "code",
   "execution_count": null,
   "metadata": {
    "scrolled": true
   },
   "outputs": [],
   "source": [
    "#read data file and add type of day column to it\n",
    "bms_demand_2017 = add_day_type_column('bms_2017_kva.csv','?Timestamp')\n",
    "bms_demand_2017.rename(columns={'ML_PH/Main_11kV_kW (kW)': 'kW','?Timestamp': 'TimeStamp','ML_PH/Main_11kV_kVA (kVA)' : 'kVA','ML_PH/PH_Ambient_Temperature (°C)':'Temp','ML_PH/PH_Ambient_Humidity (%RH)': 'Humidity'}, inplace=True)\n",
    "bms_demand_2017_est = campus_power_estimation(bms_demand_2017)\n",
    "bms_demand_2017['kW_est'].plot.line()\n",
    "\n",
    "#imputed kva's plot line (replaced from last year values)\n",
    "#bms_2017_imputed = replace_zeros(bms_demand_2017, bms_demand_2016)\n",
    "#bms_2017_imputed['kVA'].plot.line()\n",
    "\n",
    "#Estimate kW using kVA if kW values not recorded\n",
    "#bms_demand_2017_est = campus_power_estimation(bms_2017_imputed)\n",
    "#bms_demand_2017_est['kW_est'].plot.line()\n"
   ]
  },
  {
   "cell_type": "code",
   "execution_count": null,
   "metadata": {},
   "outputs": [],
   "source": [
    "#construct data sets for years 2013 to 2017\n",
    "bms_demand_201314 = add_day_type_column(\"bms_1314_kva.csv\",'?Timestamp')\n",
    "bms_demand_201314.rename(columns={'?Timestamp': 'TimeStamp','ML_PH/Main_11kV_kVA (kVA)' : 'kVA','ML_PH/PH_Ambient_Temperature (°C)':'Temp','ML_PH/PH_Ambient_Humidity (%RH)': 'Humidity'}, inplace=True)\n",
    "bms_demand_2015 = add_day_type_column(\"bms_2015_kva.csv\",'?Timestamp')\n",
    "bms_demand_2015.rename(columns={'?Timestamp': 'TimeStamp','ML_PH/Main_11kV_kVA (kVA)' : 'kVA','ML_PH/PH_Ambient_Temperature (°C)':'Temp','ML_PH/PH_Ambient_Humidity (%RH)': 'Humidity'}, inplace=True)"
   ]
  },
  {
   "cell_type": "code",
   "execution_count": null,
   "metadata": {
    "scrolled": true
   },
   "outputs": [],
   "source": [
    "bms_13to17_kva = pd.concat([bms_demand_2017,bms_demand_2016,bms_demand_2015,bms_demand_201314],sort = True)\n",
    "bms_13to17_kva = bms_13to17_kva.sort_values('TimeStamp').reset_index()\n",
    "bms_1317_kW_est = campus_power_estimation(bms_13to17_kva)\n",
    "bms_1317_kW_est"
   ]
  },
  {
   "cell_type": "code",
   "execution_count": null,
   "metadata": {
    "scrolled": true
   },
   "outputs": [],
   "source": [
    "bms_1317_kW_est.to_csv(\"bms_13to17_kW_est.csv\", sep=',', encoding='utf-8')"
   ]
  },
  {
   "cell_type": "code",
   "execution_count": null,
   "metadata": {
    "scrolled": true
   },
   "outputs": [],
   "source": [
    "#test code for imputation\n",
    "test_2017 = bms_demand_2017\n",
    "test_2016 = bms_demand_2016\n",
    "#bms_demand_2017.where(bms_demand_2017['kVA'] != 0 && bms_demand_2017['TimeStamp'].apply(lambda x: datetime.date(x)) \n",
    " #                     , bms_demand_2016['kVA'],axis=0)\n",
    "test_2016_without_29 = test_2016.drop(test_2016[(test_2016['TimeStamp'] >= '2016-02-29 00:00:00') & (test_2016['TimeStamp'] < '2016-03-01 00:00:00')].index).reset_index()\n",
    "test_2017.sort_index(inplace=True)\n",
    "test_2016_without_29['TimeStamp'] = test_2016_without_29['TimeStamp'].apply(lambda x: x.replace(year = 2017))\n",
    "df_without_zero = replace_zeros(test_2017,test_2016_without_29)\n",
    "\n",
    "df_without_zero.kW_est.plot()"
   ]
  },
  {
   "cell_type": "code",
   "execution_count": null,
   "metadata": {
    "scrolled": false
   },
   "outputs": [],
   "source": [
    "# Distribution of consumption during different day type's\n",
    "grouped_by_daytype = bms_1317_kW_est.groupby(['Type_of_day'])['kW_est'].mean()\n",
    "grouped_by_daytype\n",
    "grouped_by_daytype.plot.bar()"
   ]
  },
  {
   "cell_type": "code",
   "execution_count": null,
   "metadata": {},
   "outputs": [],
   "source": [
    "# change scale of humidity and temperature\n",
    "bms_transformed = bms_demand_2017_est[['TimeStamp','kW_est', 'Type_of_day','Humidity','Temp']].copy()\n",
    "bms_transformed['Humidity'] = bms_transformed['Humidity'].apply(lambda x: x*10)\n",
    "bms_transformed['Temp'] = bms_transformed['Temp'].apply(lambda x: x*10)\n",
    "bms_transformed.loc[5000:7000].plot(x='TimeStamp', y=['kW_est','Humidity','Temp'] ,figsize=(20,10), grid=True  )"
   ]
  },
  {
   "cell_type": "code",
   "execution_count": null,
   "metadata": {},
   "outputs": [],
   "source": [
    "#Check correations among attributes\n",
    "corr_val = bms_1317_kW_est.corr()\n",
    "print (corr_val)\n",
    "import seaborn as sns\n",
    "sns.heatmap(corr_val, \n",
    "        xticklabels=corr_val.columns,\n",
    "        yticklabels=corr_val.columns)"
   ]
  },
  {
   "cell_type": "code",
   "execution_count": null,
   "metadata": {},
   "outputs": [],
   "source": [
    "import math\n",
    "from statsmodels.tsa.stattools import acf, pacf\n",
    "import statsmodels.tsa.stattools as ts\n",
    "from statsmodels.tsa.arima_model import ARIMA\n",
    "from statsmodels.tsa.arima_model import ARMAResults"
   ]
  },
  {
   "cell_type": "code",
   "execution_count": null,
   "metadata": {},
   "outputs": [],
   "source": [
    "demand = bms_demand_2017_est['kW_est']\n",
    "\n",
    "plt.plot(demand)\n",
    "plt.show()\n",
    "acf_1 =  acf(demand)[1:20]\n",
    "plt.plot(acf_1)\n",
    "plt.show()\n",
    "test_df = pd.DataFrame([acf_1]).T\n",
    "test_df.columns = ['Pandas Autocorrelation']\n",
    "test_df.index += 1\n",
    "test_df.plot(kind='bar')\n",
    "pacf_1 =  pacf(demand)[1:20]\n",
    "plt.plot(pacf_1)\n",
    "plt.show()\n",
    "test_df = pd.DataFrame([pacf_1]).T\n",
    "test_df.columns = ['Pandas Partial Autocorrelation']\n",
    "test_df.index += 1\n",
    "test_df.plot(kind='bar')\n",
    "result = ts.adfuller(demand, 1)\n",
    "result"
   ]
  },
  {
   "cell_type": "code",
   "execution_count": null,
   "metadata": {},
   "outputs": [],
   "source": [
    "demand_matrix=demand.as_matrix()\n",
    "model = ARIMA(demand_matrix, order=(3,1,3))\n",
    "model_fit = model.fit(disp=0)\n",
    "fits = model_fit.fittedvalues\n",
    "residuals = model_fit.resid\n",
    "print(model_fit.summary())\n",
    "#predictions = model_fit.predict(2,17600, typ = 'levels')\n",
    "#predictions\n",
    "#predictionsadjusted = np.exp(predictions)\n",
    "#plt.plot(predictionsadjusted)\n",
    "#plt.show()\n",
    "\n",
    "#model_fit.plot_diagnostics(figsize=(15, 12))"
   ]
  },
  {
   "cell_type": "code",
   "execution_count": null,
   "metadata": {},
   "outputs": [],
   "source": [
    "#results = ARMAResults(model,predictions)\n",
    "#fittedValues = results.fittedvalues\n",
    "#append 0 in first element\n",
    "fits = np.concatenate([[0],fits])\n",
    "bms_demand_2017_est['fits'] = bms_demand_2017_est['kW_est'] + fits\n",
    "bms_demand_2017_est.loc[5000:7000].plot(x='TimeStamp', y=['kW_est','fits'] ,figsize=(20,10), grid=True  )"
   ]
  },
  {
   "cell_type": "code",
   "execution_count": null,
   "metadata": {},
   "outputs": [],
   "source": [
    "#ARIMAX model\n",
    "arimax_model=ARIMA(endog=bms_demand_2017_est['kW_est'],exog=bms_demand_2017_est[['Temp','Humidity']],order=[3,1,3])\n",
    "results3=arimax_model.fit()\n",
    "print(results3.summary())"
   ]
  },
  {
   "cell_type": "code",
   "execution_count": null,
   "metadata": {
    "scrolled": true
   },
   "outputs": [],
   "source": [
    "# Future fits\n",
    "current_values = bms_demand_2017_est.fits[17500:]\n",
    "forecast = model_fit.predict(start=17500, end=17600)\n",
    "print(bms_demand_2017_est.fits[17500:])\n",
    "print(forecast)\n",
    "#bms_demand_2017_est.insert(17500:17600, 'fits', forecast)\n"
   ]
  },
  {
   "cell_type": "code",
   "execution_count": null,
   "metadata": {},
   "outputs": [],
   "source": [
    "#validation data set\n",
    "validation_2018 = add_day_type_column('validation_2018_data.csv','?Timestamp')\n",
    "validation_2018.rename(columns={'ML_PH/Main_11kV_kW (kW)': 'kW','?Timestamp': 'TimeStamp','ML_PH/Main_11kV_kVA (kVA)' : 'kVA','ML_PH/PH_Ambient_Temperature (°C)':'Temp','ML_PH/PH_Ambient_Humidity (%RH)': 'Humidity'}, inplace=True)\n",
    "validation_2018_est = campus_power_estimation(validation_2018)\n",
    "validation_2018_est.to_csv(\"validation_2018_est.csv\", sep=',', encoding='utf-8')\n",
    "validation_2018_est.kW_est.plot()"
   ]
  },
  {
   "cell_type": "code",
   "execution_count": null,
   "metadata": {
    "scrolled": true
   },
   "outputs": [],
   "source": [
    "validation_2018_est"
   ]
  }
 ],
 "metadata": {
  "kernelspec": {
   "display_name": "Python 3",
   "language": "python",
   "name": "python3"
  },
  "language_info": {
   "codemirror_mode": {
    "name": "ipython",
    "version": 3
   },
   "file_extension": ".py",
   "mimetype": "text/x-python",
   "name": "python",
   "nbconvert_exporter": "python",
   "pygments_lexer": "ipython3",
   "version": "3.6.5"
  }
 },
 "nbformat": 4,
 "nbformat_minor": 2
}
