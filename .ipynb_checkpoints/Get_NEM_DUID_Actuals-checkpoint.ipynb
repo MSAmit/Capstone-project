{
 "cells": [
  {
   "cell_type": "code",
   "execution_count": 1,
   "metadata": {},
   "outputs": [],
   "source": [
    "import numpy as np\n",
    "import pandas as pd\n",
    "\n",
    "from zipfile import ZipFile\n",
    "\n",
    "import io\n",
    "import os\n",
    "import re"
   ]
  },
  {
   "cell_type": "code",
   "execution_count": 2,
   "metadata": {},
   "outputs": [],
   "source": [
    "import unittest\n",
    "\n",
    "import logging\n",
    "logging.basicConfig(level=logging.DEBUG,\n",
    "                    format=' %(asctime)s - %(levelname)s - %(message)s')\n",
    "logger = logging.getLogger()\n",
    "\n",
    "logging.disable(0) # switched debug on. \n",
    "logging.disable(logging.DEBUG) # debug and below not reported.\n",
    "# logging.disable(logging.INFO)\n",
    "# logging.disable(logging.WARNING)\n",
    "# logging.disable(logging.ERROR)\n",
    "# logging.disable(logging.CRITICAL)"
   ]
  },
  {
   "cell_type": "code",
   "execution_count": 3,
   "metadata": {},
   "outputs": [],
   "source": [
    "ZIPDIR_root = r'E:\\doc\\ICT Project\\MMSDM_ZIPS'\n",
    "extracted_data_root = r'E:\\doc\\ICT Project\\RRP' # don't bother for now."
   ]
  },
  {
   "cell_type": "code",
   "execution_count": 4,
   "metadata": {},
   "outputs": [],
   "source": [
    "# prepare keys and values to set up dictionaries of data \n",
    "filename_keys = ['TRADINGPRICE',\n",
    "                 'PREDISPATCHPRICE',\n",
    "                 'PREDISPATCHREGIONSUM',\n",
    "                 'TRADINGREGIONSUM',\n",
    "                 'ROOFTOP_PV_ACTUAL',\n",
    "                 'ROOFTOP_PV_FORECAST',\n",
    "                 'DISPATCH_UNIT_SCADA'\n",
    "                 # for 5 min forecasts and actuals according to section 21 of MMS data model:\n",
    "                 #'P5MIN_REGIONSOLUTION', \n",
    "                ]\n",
    "\n",
    "# storage for monthly dataframes as dictionary of lists\n",
    "raw_df_dict = {x:dict() for x in filename_keys}\n",
    "CONTIGUOUS_DATA_DICT = {x:dict() for x in filename_keys}"
   ]
  },
  {
   "cell_type": "code",
   "execution_count": 5,
   "metadata": {},
   "outputs": [],
   "source": [
    "raw_cols = {\n",
    "    'PREDISPATCHPRICE':[\n",
    "#         'I', \n",
    "#         'PREDISPATCH', \n",
    "#         'REGION_PRICES', \n",
    "#         '1', \n",
    "        'PREDISPATCHSEQNO', \n",
    "        'RUNNO', \n",
    "        'REGIONID', \n",
    "        'PERIODID', \n",
    "        'INTERVENTION', \n",
    "        'RRP', \n",
    "        'EEP', \n",
    "#         'RRP1', 'EEP1', 'RRP2', 'EEP2', 'RRP3', 'EEP3', 'RRP4', 'EEP4', \n",
    "#         'RRP5', 'EEP5', 'RRP6', 'EEP6', 'RRP7', 'EEP7', 'RRP8', 'EEP8', \n",
    "        'LASTCHANGED', 'DATETIME', \n",
    "        'RAISE6SECRRP', 'RAISE60SECRRP', 'RAISE5MINRRP', 'RAISEREGRRP', \n",
    "        'LOWER6SECRRP', 'LOWER60SECRRP', 'LOWER5MINRRP', 'LOWERREGRRP'\n",
    "    ],\n",
    "    \n",
    "    \n",
    "    'TRADINGPRICE':[\n",
    "#         'I', \n",
    "#         'TRADING', \n",
    "#         'PRICE', \n",
    "#         '2', \n",
    "        'SETTLEMENTDATE', \n",
    "#         'RUNNO', \n",
    "        'REGIONID', \n",
    "        'PERIODID', \n",
    "        'RRP', \n",
    "        'EEP', \n",
    "#         'INVALIDFLAG', \n",
    "        'LASTCHANGED', \n",
    "        'ROP', \n",
    "        'RAISE6SECRRP', 'RAISE6SECROP', 'RAISE60SECRRP', 'RAISE60SECROP', \n",
    "        'RAISE5MINRRP', 'RAISE5MINROP', 'RAISEREGRRP', 'RAISEREGROP', \n",
    "        'LOWER6SECRRP', 'LOWER6SECROP', 'LOWER60SECRRP', 'LOWER60SECROP', \n",
    "        'LOWER5MINRRP', 'LOWER5MINROP', 'LOWERREGRRP', 'LOWERREGROP', \n",
    "#         'PRICE_STATUS'        \n",
    "    ],\n",
    "\n",
    "    \n",
    "    'PREDISPATCHREGIONSUM':[\n",
    "#         'I',\n",
    "#         'PREDISPATCH',\n",
    "#         'REGION_SOLUTION',\n",
    "#         '4',\n",
    "        'PREDISPATCHSEQNO',\n",
    "#         'RUNNO',\n",
    "        'REGIONID',\n",
    "        'PERIODID',\n",
    "#         'INTERVENTION',\n",
    "        'TOTALDEMAND','AVAILABLEGENERATION','AVAILABLELOAD',\n",
    "        'DEMANDFORECAST','DISPATCHABLEGENERATION','DISPATCHABLELOAD',\n",
    "        'NETINTERCHANGE','EXCESSGENERATION',\n",
    "        # lower ancillary markets\n",
    "        'LOWER5MINDISPATCH','LOWER5MINIMPORT','LOWER5MINLOCALDISPATCH',\n",
    "            'LOWER5MINLOCALPRICE','LOWER5MINLOCALREQ','LOWER5MINPRICE',\n",
    "            'LOWER5MINREQ','LOWER5MINSUPPLYPRICE',\n",
    "        'LOWER60SECDISPATCH','LOWER60SECIMPORT','LOWER60SECLOCALDISPATCH',\n",
    "            'LOWER60SECLOCALPRICE','LOWER60SECLOCALREQ','LOWER60SECPRICE',\n",
    "            'LOWER60SECREQ','LOWER60SECSUPPLYPRICE',\n",
    "        'LOWER6SECDISPATCH','LOWER6SECIMPORT','LOWER6SECLOCALDISPATCH',\n",
    "            'LOWER6SECLOCALPRICE','LOWER6SECLOCALREQ','LOWER6SECPRICE',\n",
    "            'LOWER6SECREQ','LOWER6SECSUPPLYPRICE',\n",
    "        # raise ancillary markets\n",
    "        'RAISE5MINDISPATCH','RAISE5MINIMPORT','RAISE5MINLOCALDISPATCH',\n",
    "            'RAISE5MINLOCALPRICE','RAISE5MINLOCALREQ','RAISE5MINPRICE',\n",
    "            'RAISE5MINREQ','RAISE5MINSUPPLYPRICE',\n",
    "        'RAISE60SECDISPATCH','RAISE60SECIMPORT','RAISE60SECLOCALDISPATCH',\n",
    "            'RAISE60SECLOCALPRICE','RAISE60SECLOCALREQ','RAISE60SECPRICE',\n",
    "            'RAISE60SECREQ','RAISE60SECSUPPLYPRICE',\n",
    "        'RAISE6SECDISPATCH','RAISE6SECIMPORT','RAISE6SECLOCALDISPATCH',\n",
    "            'RAISE6SECLOCALPRICE','RAISE6SECLOCALREQ','RAISE6SECPRICE',\n",
    "            'RAISE6SECREQ','RAISE6SECSUPPLYPRICE',\n",
    "        # extra date stamps\n",
    "        'LASTCHANGED',\n",
    "        'DATETIME',\n",
    "        # supply and dispatch?\n",
    "            'INITIALSUPPLY',\n",
    "            'CLEAREDSUPPLY',\n",
    "            'LOWERREGIMPORT','LOWERREGLOCALDISPATCH',\n",
    "            'LOWERREGLOCALREQ','LOWERREGREQ',\n",
    "            'RAISEREGIMPORT','RAISEREGLOCALDISPATCH',\n",
    "            'RAISEREGLOCALREQ','RAISEREGREQ',\n",
    "        # violations - local\n",
    "            'RAISE5MINLOCALVIOLATION','RAISEREGLOCALVIOLATION',\n",
    "            'RAISE60SECLOCALVIOLATION','RAISE6SECLOCALVIOLATION',\n",
    "            'LOWER5MINLOCALVIOLATION','LOWERREGLOCALVIOLATION',\n",
    "            'LOWER60SECLOCALVIOLATION','LOWER6SECLOCALVIOLATION',\n",
    "        # violations - general\n",
    "            'RAISE5MINVIOLATION','RAISEREGVIOLATION',\n",
    "            'RAISE60SECVIOLATION','RAISE6SECVIOLATION',\n",
    "            'LOWER5MINVIOLATION','LOWERREGVIOLATION',\n",
    "            'LOWER60SECVIOLATION','LOWER6SECVIOLATION',\n",
    "        # availability \n",
    "            'RAISE6SECACTUALAVAILABILITY',\n",
    "            'RAISE60SECACTUALAVAILABILITY',\n",
    "            'RAISE5MINACTUALAVAILABILITY',\n",
    "            'RAISEREGACTUALAVAILABILITY',\n",
    "            'LOWER6SECACTUALAVAILABILITY',\n",
    "            'LOWER60SECACTUALAVAILABILITY',\n",
    "            'LOWER5MINACTUALAVAILABILITY',\n",
    "            'LOWERREGACTUALAVAILABILITY',\n",
    "            'DECAVAILABILITY',\n",
    "        #\n",
    "        'LORSURPLUS','LRCSURPLUS',\n",
    "        'TOTALINTERMITTENTGENERATION','DEMAND_AND_NONSCHEDGEN',\n",
    "        'UIGF','SEMISCHEDULE_CLEAREDMW','SEMISCHEDULE_COMPLIANCEMW'\n",
    "        ],\n",
    "    \n",
    "    \n",
    "    'TRADINGREGIONSUM':[\n",
    "#         'I',\n",
    "#         'TRADING',\n",
    "#         'REGIONSUM',\n",
    "#         '4',\n",
    "        'SETTLEMENTDATE',\n",
    "#         'RUNNO',\n",
    "        'REGIONID',\n",
    "        'PERIODID',\n",
    "        'TOTALDEMAND',\n",
    "        'AVAILABLEGENERATION',\n",
    "        'AVAILABLELOAD',\n",
    "        'DEMANDFORECAST',\n",
    "        'DISPATCHABLEGENERATION',\n",
    "        'DISPATCHABLELOAD',\n",
    "        'NETINTERCHANGE',\n",
    "        'EXCESSGENERATION',\n",
    "        # lower ancillary markets\n",
    "        'LOWER5MINDISPATCH','LOWER5MINIMPORT','LOWER5MINLOCALDISPATCH',\n",
    "            'LOWER5MINLOCALPRICE','LOWER5MINLOCALREQ','LOWER5MINPRICE',\n",
    "            'LOWER5MINREQ','LOWER5MINSUPPLYPRICE',\n",
    "        'LOWER60SECDISPATCH','LOWER60SECIMPORT','LOWER60SECLOCALDISPATCH',\n",
    "            'LOWER60SECLOCALPRICE','LOWER60SECLOCALREQ','LOWER60SECPRICE',\n",
    "            'LOWER60SECREQ','LOWER60SECSUPPLYPRICE',\n",
    "        'LOWER6SECDISPATCH','LOWER6SECIMPORT','LOWER6SECLOCALDISPATCH',\n",
    "            'LOWER6SECLOCALPRICE','LOWER6SECLOCALREQ','LOWER6SECPRICE', \n",
    "            'LOWER6SECREQ','LOWER6SECSUPPLYPRICE',\n",
    "        # raise ancillary markets\n",
    "        'RAISE5MINDISPATCH','RAISE5MINIMPORT','RAISE5MINLOCALDISPATCH',\n",
    "            'RAISE5MINLOCALPRICE','RAISE5MINLOCALREQ','RAISE5MINPRICE',\n",
    "            'RAISE5MINREQ','RAISE5MINSUPPLYPRICE',\n",
    "        'RAISE60SECDISPATCH','RAISE60SECIMPORT','RAISE60SECLOCALDISPATCH',\n",
    "            'RAISE60SECLOCALPRICE','RAISE60SECLOCALREQ','RAISE60SECPRICE',\n",
    "            'RAISE60SECREQ','RAISE60SECSUPPLYPRICE',\n",
    "        'RAISE6SECDISPATCH','RAISE6SECIMPORT','RAISE6SECLOCALDISPATCH',\n",
    "            'RAISE6SECLOCALPRICE','RAISE6SECLOCALREQ','RAISE6SECPRICE',\n",
    "            'RAISE6SECREQ','RAISE6SECSUPPLYPRICE',\n",
    "        # extra dates\n",
    "        'LASTCHANGED',\n",
    "        'INITIALSUPPLY',\n",
    "        'CLEAREDSUPPLY',\n",
    "        # supply and dispatch?        \n",
    "            'LOWERREGIMPORT','LOWERREGLOCALDISPATCH',\n",
    "            'LOWERREGLOCALREQ','LOWERREGREQ',\n",
    "            'RAISEREGIMPORT','RAISEREGLOCALDISPATCH',\n",
    "            'RAISEREGLOCALREQ','RAISEREGREQ',\n",
    "        # violations - local\n",
    "            'RAISE5MINLOCALVIOLATION','RAISEREGLOCALVIOLATION',\n",
    "            'RAISE60SECLOCALVIOLATION','RAISE6SECLOCALVIOLATION',\n",
    "            'LOWER5MINLOCALVIOLATION','LOWERREGLOCALVIOLATION',\n",
    "            'LOWER60SECLOCALVIOLATION','LOWER6SECLOCALVIOLATION',\n",
    "        # violations - general\n",
    "            'RAISE5MINVIOLATION','RAISEREGVIOLATION',\n",
    "            'RAISE60SECVIOLATION','RAISE6SECVIOLATION',\n",
    "            'LOWER5MINVIOLATION','LOWERREGVIOLATION',\n",
    "            'LOWER60SECVIOLATION','LOWER6SECVIOLATION',\n",
    "        # \n",
    "        'TOTALINTERMITTENTGENERATION','DEMAND_AND_NONSCHEDGEN','UIGF'\n",
    "    ],\n",
    "    \n",
    "    \n",
    "    'P5MIN_REGIONSOLUTION':[\n",
    "        'RUN_DATETIME',\n",
    "        'INTERVAL_DATETIME',\n",
    "        \"REGIONID\",\n",
    "        \"RRP\",\n",
    "        \"TOTALDEMAND\",\n",
    "        \"DEMANDFORECAST\",\n",
    "        \"AVAILABLEGENERATION\",\n",
    "        \"AVAILABLELOAD\",\n",
    "        \"DISPATCHABLEGENERATION\",\n",
    "        \"DISPATCHABLELOAD\",\n",
    "        \"NETINTERCHANGE\",\n",
    "        \"INITIALSUPPLY\",\n",
    "        \"CLEAREDSUPPLY\"\n",
    "    ],\n",
    "    \n",
    "    'DISPATCH_UNIT_SCADA':[\n",
    "#         'I', \n",
    "#         'DISPATCH', \n",
    "#         'UNIT_SCADA', \n",
    "#         '1', \n",
    "        'SETTLEMENTDATE', \n",
    "        'DUID',\n",
    "        'SCADAVALUE'\n",
    "    ]\n",
    "}"
   ]
  },
  {
   "cell_type": "code",
   "execution_count": 6,
   "metadata": {},
   "outputs": [],
   "source": [
    "raw_indexies = {\n",
    "    'PREDISPATCHPRICE':[\"REGIONID\", \"PREDISPATCHSEQNO\", \"PERIODID\", 'DATETIME'],\n",
    "    'TRADINGPRICE':[\"REGIONID\", \"SETTLEMENTDATE\"],\n",
    "    'PREDISPATCHREGIONSUM':[\"REGIONID\", \"PREDISPATCHSEQNO\", \"PERIODID\", 'DATETIME'],\n",
    "    'TRADINGREGIONSUM':[\"REGIONID\", \"SETTLEMENTDATE\"],\n",
    "    'P5MIN_REGIONSOLUTION':[\"REGIONID\", 'INTERVAL_DATETIME'],\n",
    "    'DISPATCH_UNIT_SCADA':['REGIONID', 'DUID', 'SETTLEMENTDATE']\n",
    "}\n",
    "\n",
    "refined_indexies = {\n",
    "    'PREDISPATCHPRICE':[\"REGIONID\", 'PeriodTime', 'DATETIME'],\n",
    "    'TRADINGPRICE':[\"REGIONID\", 'PeriodTime'],\n",
    "    'PREDISPATCHREGIONSUM':[\"REGIONID\", \"PREDISPATCHSEQNO\", \"PERIODID\", 'DATETIME'],\n",
    "    'TRADINGREGIONSUM':[\"REGIONID\", \"SETTLEMENTDATE\"],\n",
    "    'P5MIN_REGIONSOLUTION':[\"REGIONID\", 'INTERVAL_DATETIME'],\n",
    "    'DISPATCH_UNIT_SCADA':['DUID', 'PeriodTime']\n",
    "}"
   ]
  },
  {
   "cell_type": "code",
   "execution_count": 7,
   "metadata": {},
   "outputs": [],
   "source": [
    "min_to_ns = lambda min: min*60*1000000000\n",
    "timedelta_days = lambda days: pd.to_timedelta(min_to_ns(days*24*60))"
   ]
  },
  {
   "cell_type": "code",
   "execution_count": 8,
   "metadata": {},
   "outputs": [],
   "source": [
    "def internal_zip_filespec(filespec):\n",
    "    filename_prefix = r'(.*PUBLIC_DVD_'\n",
    "    filename_postfix = r'_\\d*\\.zip)$'\n",
    "    return filename_prefix + filespec + filename_postfix\n",
    "\n",
    "\n",
    "def find_filespec_in_zip(source_zip, search_spec):\n",
    "    found_file = [re.match(search_spec, name).group(0) for name in source_zip.namelist() \n",
    "                  if re.match(search_spec, name)]\n",
    "    return found_file[0] if len(found_file)==1 else None \n",
    "\n",
    "\n",
    "def get_dataframe_from_csv(source_zip, search_spec):\n",
    "    \"\"\"a bit of a hack here as we are guessign there is only one CSV per zip file\"\"\"\n",
    "    internal_zip_name = find_filespec_in_zip(source_zip, search_spec)\n",
    "    logger.debug('About to read:\\n%s', internal_zip_name)\n",
    "    \n",
    "    try:\n",
    "        zip_file_data = ZipFile(io.BytesIO(source_zip.read(internal_zip_name)))\n",
    "#         dfs = {csv_f.filename: pd.read_csv(zip_file_data.open(csv_f.filename), skiprows=[0])\n",
    "#                for csv_f in zip_file_data.infolist() \n",
    "#                if csv_f.filename.endswith('.CSV')}\n",
    "        dfs = [pd.read_csv(zip_file_data.open(csv_f.filename), skiprows=[0])\n",
    "               for csv_f in zip_file_data.infolist() \n",
    "               if csv_f.filename.endswith('.CSV')]\n",
    "    \n",
    "    except KeyError: \n",
    "        logger.error('%s is not a zip file', internal_zip_name)\n",
    "        logger.error('Carry on. Oh, I see that you are.')\n",
    "        return pd.DataFrame()\n",
    "        \n",
    "    return dfs[0]\n",
    "\n",
    "\n",
    "def get_dataframe_from_zip(file_spec, year, month):\n",
    "    zip_year = '{:04n}'.format(year)\n",
    "    zip_month = 'MMSDM_{:04n}_{:02n}.zip'.format(year, month)\n",
    "    logger.debug('looking at %s', os.path.join(zip_year, zip_month)) \n",
    "    df = pd.DataFrame()\n",
    "    \n",
    "    try:\n",
    "        top_level_zip = ZipFile(os.path.join(ZIPDIR_root, zip_year, zip_month), 'r')\n",
    "        df = get_dataframe_from_csv(top_level_zip, file_spec)\n",
    "        logger.debug('key:\\n%s\\n', file_spec)    \n",
    "    except FileNotFoundError: \n",
    "        logger.error('%s not found.', file_spec)\n",
    "        logger.error('Carry on. Oh, I see that you are.')\n",
    "    except KeyError: \n",
    "        logger.error('%s is a bad zip file', os.path.join(ZIPDIR_root, zip_year, zip_month))\n",
    "    \n",
    "    return df"
   ]
  },
  {
   "cell_type": "code",
   "execution_count": 42,
   "metadata": {},
   "outputs": [],
   "source": [
    "def refine_data(df, file_key):\n",
    "    tdf = df.iloc[:-1] # the last line has metadata\n",
    "    drop_cols = list(set(tdf.columns) - set(raw_cols[file_key]))\n",
    "    tdf.drop(drop_cols, axis=1, inplace=True)\n",
    "    \n",
    "    if 'PeriodTime' not in tdf.columns:\n",
    "        if file_key == 'PREDISPATCHPRICE':\n",
    "            tdf = tdf.loc[tdf['INTERVENTION'] == 0.0]\n",
    "            tdf.insert(loc=0, column='PeriodTime',\n",
    "                       value=(pd.to_datetime(tdf.DATETIME)\n",
    "                              - pd.to_timedelta(min_to_ns(30*(tdf.PERIODID-1.0)))) )\n",
    "            tdf.DATETIME = pd.to_datetime(tdf.DATETIME)\n",
    "        else: \n",
    "            tdf.insert(loc=0, column='PeriodTime',\n",
    "                       value=(pd.to_datetime(tdf.SETTLEMENTDATE)) )\n",
    "            tdf.drop(['SETTLEMENTDATE'], axis=1, inplace=True)\n",
    "            \n",
    "    tdf.set_index(refined_indexies[file_key], inplace=True)\n",
    "    logger.debug('new: %s', tdf.index.names)\n",
    "    \n",
    "    logger.debug('df refined')\n",
    "    return tdf\n",
    "\n",
    "\n",
    "def get_duid_data(duid):\n",
    "    rtn_df = pd.DataFrame()\n",
    "    global CONTIGUOUS_DATA_DICT\n",
    "    \n",
    "    data_spec = 'DISPATCH_UNIT_SCADA'\n",
    "     \n",
    "    file_spec = internal_zip_filespec(data_spec)\n",
    "    \n",
    "    logger.debug('looking for `%s` data in the filespec `%s`', duid, file_spec)\n",
    "\n",
    "    year_month_tags = [int('{:04n}{:02n}'.format(yyyy, mm)) \n",
    "                       for yyyy in range(2009,2019,1) \n",
    "                       for mm in range(1,13,1)]\n",
    "    \n",
    "    for ymt_tag in year_month_tags:\n",
    "        if (ymt_tag) not in CONTIGUOUS_DATA_DICT[data_spec]:\n",
    "            logger.debug('looking at ymt_tag %s', ymt_tag)\n",
    "            tmp_tag_df = get_dataframe_from_zip(file_spec, ymt_tag // 100, ymt_tag % 100)\n",
    "            if not tmp_tag_df.empty:\n",
    "                tmp_tag_df = refine_data(tmp_tag_df, data_spec)\n",
    "            CONTIGUOUS_DATA_DICT[data_spec][ymt_tag] = tmp_tag_df\n",
    "        else: \n",
    "            tmp_tag_df = CONTIGUOUS_DATA_DICT[data_spec][ymt_tag]\n",
    "        \n",
    "        if not tmp_tag_df.empty:\n",
    "            logger.debug('appending data for `%s` with data \\n%s', \n",
    "                         duid, tmp_tag_df.loc[duid])\n",
    "            rtn_df = rtn_df.append(tmp_tag_df.loc[duid])\n",
    "    \n",
    "    logger.debug('counts \\n%s', rtn_df.count())\n",
    "    return rtn_df"
   ]
  },
  {
   "cell_type": "code",
   "execution_count": null,
   "metadata": {},
   "outputs": [],
   "source": []
  },
  {
   "cell_type": "code",
   "execution_count": 58,
   "metadata": {},
   "outputs": [],
   "source": [
    "# logging.disable(0) # switched debug on. \n",
    "logging.disable(logging.DEBUG)\n",
    "\n",
    "def get_DUID_data(duId='STARHLWF'):\n",
    "    \"\"\" returns a data frame for the given DUID, \n",
    "    showing the power output and any other pertinent data \n",
    "    if the generator is semi-dispatchable\n",
    "    \"\"\"\n",
    "    logger.info('\\nlooking for data for generation at `%s`', duId)\n",
    "    the_data = get_duid_data(duId)\n",
    "    \n",
    "    \n",
    "    return the_data"
   ]
  },
  {
   "cell_type": "code",
   "execution_count": null,
   "metadata": {},
   "outputs": [],
   "source": []
  },
  {
   "cell_type": "code",
   "execution_count": 74,
   "metadata": {
    "scrolled": false
   },
   "outputs": [],
   "source": [
    "import matplotlib.pyplot as plt\n",
    "plt.style.use('seaborn')\n",
    "\n",
    "TEST_DF = pd.DataFrame()\n",
    "\n",
    "def test_get_DUID():\n",
    "    global TEST_DF \n",
    "    duIds = ['STARHLWF', 'SNOWTWN1']\n",
    "    for duid in duIds:\n",
    "        TEST_DF = get_DUID_data(duid)\n",
    "        TEST_DF.plot()\n",
    "        plt.title('Output for {}'.format(duid))\n",
    "        plt.ylabel('Output (MW)')\n",
    "        plt.xlabel('datetime')\n",
    "        plt.show()\n",
    "        TEST_DF.to_csv(os.path.join(r'C:/tmp/', (duid + '_5min.tsv')), sep='\\t')\n",
    "        TEST_DF.resample('30T', closed='right', label='right').apply(np.mean).to_csv(\n",
    "            os.path.join(r'C:/tmp/', (duid + '_30min.tsv')), sep='\\t')   \n",
    "    return None\n",
    "\n",
    "\n",
    "class Get_NEM_forecast(unittest.TestCase):\n",
    "    \n",
    "    def testGetForecast(self):\n",
    "        assert test_get_DUID() == None"
   ]
  },
  {
   "cell_type": "code",
   "execution_count": 72,
   "metadata": {},
   "outputs": [
    {
     "data": {
      "text/plain": [
       "Series([], dtype: int64)"
      ]
     },
     "execution_count": 72,
     "metadata": {},
     "output_type": "execute_result"
    }
   ],
   "source": [
    "TEST_DF.count()"
   ]
  },
  {
   "cell_type": "code",
   "execution_count": null,
   "metadata": {},
   "outputs": [],
   "source": [
    "\n"
   ]
  },
  {
   "cell_type": "code",
   "execution_count": 75,
   "metadata": {
    "scrolled": true
   },
   "outputs": [
    {
     "name": "stderr",
     "output_type": "stream",
     "text": [
      "testGetForecast (__main__.Get_NEM_forecast) ...  2018-07-13 23:44:09,318 - INFO - \n",
      "looking for data for generation at `STARHLWF`\n"
     ]
    },
    {
     "data": {
      "image/png": "[encoded data removed]",
      "text/plain": [
       "<matplotlib.figure.Figure at 0x60291e10>"
      ]
     },
     "metadata": {},
     "output_type": "display_data"
    },
    {
     "name": "stderr",
     "output_type": "stream",
     "text": [
      " 2018-07-13 23:44:22,208 - INFO - \n",
      "looking for data for generation at `SNOWTWN1`\n"
     ]
    },
    {
     "data": {
      "image/png": "[encoded data removed]",
      "text/plain": [
       "<matplotlib.figure.Figure at 0x114fda20>"
      ]
     },
     "metadata": {},
     "output_type": "display_data"
    },
    {
     "name": "stderr",
     "output_type": "stream",
     "text": [
      "ok\n",
      "\n",
      "----------------------------------------------------------------------\n",
      "Ran 1 test in 27.252s\n",
      "\n",
      "OK\n"
     ]
    }
   ],
   "source": [
    "if __name__ == '__main__':\n",
    "    unittest.main(argv=['ignored', '-v'], exit=False)"
   ]
  },
  {
   "cell_type": "code",
   "execution_count": 16,
   "metadata": {},
   "outputs": [
    {
     "data": {
      "text/plain": [
       "['SETTLEMENTDATE', 'DUID', 'SCADAVALUE']"
      ]
     },
     "execution_count": 16,
     "metadata": {},
     "output_type": "execute_result"
    }
   ],
   "source": [
    "raw_cols['DISPATCH_UNIT_SCADA']\n"
   ]
  }
 ],
 "metadata": {
  "hide_input": false,
  "kernelspec": {
   "display_name": "Python 3",
   "language": "python",
   "name": "python3"
  },
  "language_info": {
   "codemirror_mode": {
    "name": "ipython",
    "version": 3
   },
   "file_extension": ".py",
   "mimetype": "text/x-python",
   "name": "python",
   "nbconvert_exporter": "python",
   "pygments_lexer": "ipython3",
   "version": "3.7.0"
  },
  "latex_envs": {
   "LaTeX_envs_menu_present": true,
   "autoclose": false,
   "autocomplete": true,
   "bibliofile": "biblio.bib",
   "cite_by": "apalike",
   "current_citInitial": 1,
   "eqLabelWithNumbers": true,
   "eqNumInitial": 1,
   "hotkeys": {
    "equation": "Ctrl-E",
    "itemize": "Ctrl-I"
   },
   "labels_anchors": false,
   "latex_user_defs": false,
   "report_style_numbering": false,
   "user_envs_cfg": false
  },
  "toc": {
   "base_numbering": 1,
   "nav_menu": {},
   "number_sections": true,
   "sideBar": true,
   "skip_h1_title": false,
   "title_cell": "Table of Contents",
   "title_sidebar": "Contents",
   "toc_cell": false,
   "toc_position": {},
   "toc_section_display": true,
   "toc_window_display": false
  },
  "varInspector": {
   "cols": {
    "lenName": 16,
    "lenType": 16,
    "lenVar": 40
   },
   "kernels_config": {
    "python": {
     "delete_cmd_postfix": "",
     "delete_cmd_prefix": "del ",
     "library": "var_list.py",
     "varRefreshCmd": "print(var_dic_list())"
    },
    "r": {
     "delete_cmd_postfix": ") ",
     "delete_cmd_prefix": "rm(",
     "library": "var_list.r",
     "varRefreshCmd": "cat(var_dic_list()) "
    }
   },
   "types_to_exclude": [
    "module",
    "function",
    "builtin_function_or_method",
    "instance",
    "_Feature"
   ],
   "window_display": false
  }
 },
 "nbformat": 4,
 "nbformat_minor": 2
}
