{
 "cells": [
  {
   "cell_type": "markdown",
   "metadata": {},
   "source": [
    "# Set working directory"
   ]
  },
  {
   "cell_type": "code",
   "execution_count": 1,
   "metadata": {
    "ExecuteTime": {
     "end_time": "2019-06-29T21:19:09.156770Z",
     "start_time": "2019-06-29T21:19:08.141229Z"
    }
   },
   "outputs": [],
   "source": [
    "import os\n",
    "import pandas as pd\n",
    "import numpy as np\n",
    "import matplotlib.pyplot as plt\n",
    "from datetime import datetime\n",
    "import logging\n",
    "\n",
    "# Change file_path as necessary\n",
    "file_path = \"../Relevant data/Capstone\" \n",
    "\n",
    "os.chdir(file_path)"
   ]
  },
  {
   "cell_type": "markdown",
   "metadata": {},
   "source": [
    "# processing funcions"
   ]
  },
  {
   "cell_type": "markdown",
   "metadata": {},
   "source": [
    "https://data.gov.au/data/api/3/action/datastore_search?resource_id=56a5ee91-8e94-416e-81f7-3fe626958f7e&q=NAT is an example api call that gets the national public holidays for 2014-2015, the resource_id is made available at https://data.gov.au/dataset/ds-dga-b1bc6077-dadd-4f61-9f8c-002ab2cdff10/details?q=public%20holidays"
   ]
  },
  {
   "cell_type": "code",
   "execution_count": 2,
   "metadata": {
    "ExecuteTime": {
     "end_time": "2019-06-29T21:19:09.171776Z",
     "start_time": "2019-06-29T21:19:09.156770Z"
    }
   },
   "outputs": [],
   "source": [
    "#Returns True if it's  public holiday\n",
    "def is_public_holiday(dt):\n",
    "    #public_holiday file for year 2017, use API/ file having multiple year's records to apply for different years\n",
    "    public_holidays =  pd.read_csv('australianpublicholidays.csv', sep=',', encoding='ISO-8859-1', parse_dates=['Date'],\n",
    "                 date_parser=lambda x: pd.to_datetime(x))\n",
    "    \"\"\"Instead API could be used : \n",
    "    import urllib\n",
    "    url = 'https://data.gov.au/api/3/action/datastore_search?resource_id=253d63c0-af1f-4f4c-b8d5-eb9d9b1d46ab&limit=5&q=title:jones'  \n",
    "#     fileobj = urllib.urlopen(url)\n",
    "#     print (fileobj.read())\n",
    "    public_holidays = pd.read_csv(url, sep=',', encoding='ISO-8859-1', parse_dates=['Date'],\n",
    "                 date_parser=lambda x: pd.to_datetime(x))\n",
    "    \"\"\"\n",
    "    \n",
    "    #get public holidays of SA only\n",
    "    public_holidays_SA = public_holidays[public_holidays['Applicable To'].str.contains(\"SA\") | public_holidays['Applicable To'].str.contains(\"NAT\")]\n",
    "    \n",
    "    #Return True if each date is public holiday in SA\n",
    "    return dt in (public_holidays_SA['Date'].apply(lambda x: datetime.date(x))).values\n",
    "\n",
    "#Week of month\n",
    "from math import ceil\n",
    "\n",
    "def week_of_month(dt):\n",
    "    \"\"\" Returns the week of the month for the specified date.\n",
    "    \"\"\"\n",
    "    first_day = dt.replace(day=1)\n",
    "\n",
    "    dom = dt.day\n",
    "    adjusted_dom = dom + first_day.weekday()\n",
    "\n",
    "    return int(ceil(adjusted_dom/7.0))\n",
    "\n",
    "def identify_type_of_day(date):\n",
    "    weekno = date.weekday()\n",
    "    #Ignoring the major study breaks as this is not much importance\n",
    "    #if((date.month == 7 and week_of_month(date) < 4 ) or (date.month == 12 or date.month == 1 or date.month == 2)):\n",
    "    #    return 'Major_study_break'\n",
    "    if weekno>4:\n",
    "        return 'Weekend'\n",
    "    elif is_public_holiday(date):\n",
    "        return 'Public_holiday'\n",
    "    else:\n",
    "        return 'Weekday'\n"
   ]
  },
  {
   "cell_type": "markdown",
   "metadata": {},
   "source": [
    "https://data.gov.au/dataset/ds-dga-b1bc6077-dadd-4f61-9f8c-002ab2cdff10/details?q=public%20holidays"
   ]
  },
  {
   "cell_type": "code",
   "execution_count": 3,
   "metadata": {
    "ExecuteTime": {
     "end_time": "2019-06-29T21:19:09.186784Z",
     "start_time": "2019-06-29T21:19:09.171776Z"
    }
   },
   "outputs": [],
   "source": [
    "#reads a csv file, adds a day type column, creates a csv file with day type column and returns a dataframe object with day type\n",
    "def add_day_type_column(file, date_column):\n",
    "    data_file = pd.read_csv(file, sep=',', encoding='ISO-8859-1', parse_dates=[date_column],\n",
    "                 date_parser=lambda x: pd.to_datetime(x.rsplit(' ', 1)[0]))\n",
    "    data_file['Type_of_day'] = data_file[date_column].apply(lambda x: identify_type_of_day(datetime.date(x)))\n",
    "    file_name = file + '_with_day_type.csv'\n",
    "    #uncomment next line if you want a new file to be created with day type column\n",
    "    #data_file.to_csv(file_name, sep=',', encoding='utf-8')\n",
    "    return data_file\n"
   ]
  },
  {
   "cell_type": "code",
   "execution_count": 4,
   "metadata": {
    "ExecuteTime": {
     "end_time": "2019-06-29T21:19:09.201792Z",
     "start_time": "2019-06-29T21:19:09.186784Z"
    }
   },
   "outputs": [],
   "source": [
    "import logging\n",
    "logger = logging.getLogger()\n",
    "logger.setLevel(logging.DEBUG)\n",
    "\n",
    "# ### estimate campus power\n",
    "# \n",
    "# The bulk of the data is for kVA values. Estimated the real power drawn from this based on the mean power factor for the data we did have. \n",
    "\n",
    "# In[8]:\n",
    "\n",
    "def campus_power_estimation(bms):\n",
    "    \"\"\"Estimate real power form kVA value based on average pf of the \n",
    "        small set of paired values we do have\n",
    "    \"\"\"\n",
    "    \n",
    "    #bms[bms['ML_PH/Main_11kV_kW (kW)'] > 0.0]['ML_PH/Main_11kV_kW (kW)'] / bms[bms['ML_PH/Main_11kV_kW (kW)'] > 0.0]['ML_PH/Main_11kV_kVA (kVA)']\n",
    "\n",
    "   #if logger.getEffectiveLevel() < logging.INFO: \n",
    "        #plt.scatter(bms[bms['ML_PH/Main_11kV_kW (kW)'] > 0.0]['ML_PH/Main_11kV_kW (kW)'], \n",
    "         #           bms[bms['ML_PH/Main_11kV_kW (kW)'] > 0.0]['kVA'], \n",
    "          #          alpha=0.05)\n",
    "        #plt.title('Power factor scatter plot.'); \n",
    "        #plt.show()\n",
    "    \n",
    "    bms['kW_est'] = bms['kVA'] * 0.92\n",
    "    # use original values where I have them: \n",
    "    #bms['kW_est'] = np.where(bms['kW'] == 0.0, bms['kW_est'], bms['kW'])\n",
    "    return bms\n"
   ]
  },
  {
   "cell_type": "code",
   "execution_count": 5,
   "metadata": {
    "ExecuteTime": {
     "end_time": "2019-06-29T21:19:09.211798Z",
     "start_time": "2019-06-29T21:19:09.201792Z"
    }
   },
   "outputs": [],
   "source": [
    "#replace zero's with previous year values\n",
    "def replace_zeros(bms,bms_lastyear):\n",
    "    #replace year in timestamp\n",
    "    bms_lastyear_copy = bms_lastyear.reindex(bms.index, method='nearest')\n",
    "    \n",
    "    imputed_df = bms.where(bms['kVA'] == 0 | bms['kVA'].isna(), bms_lastyear_copy['kVA'],axis=0)\n",
    "    return imputed_df"
   ]
  },
  {
   "cell_type": "markdown",
   "metadata": {},
   "source": [
    "# Load the data"
   ]
  },
  {
   "cell_type": "code",
   "execution_count": 6,
   "metadata": {
    "ExecuteTime": {
     "end_time": "2019-06-29T21:19:18.971312Z",
     "start_time": "2019-06-29T21:19:09.211798Z"
    }
   },
   "outputs": [],
   "source": [
    "bms_all = pd.read_excel(\"PH-30min-SafeCopy.xlsx\", sheet_name=None)"
   ]
  },
  {
   "cell_type": "code",
   "execution_count": 7,
   "metadata": {
    "ExecuteTime": {
     "end_time": "2019-06-29T21:19:21.856057Z",
     "start_time": "2019-06-29T21:19:18.971312Z"
    }
   },
   "outputs": [],
   "source": [
    "bms_all_1718 = pd.read_csv(\"BMS.csv\", sep=',', encoding='ISO-8859-1')"
   ]
  },
  {
   "cell_type": "markdown",
   "metadata": {},
   "source": [
    "## now make sense of it!"
   ]
  },
  {
   "cell_type": "code",
   "execution_count": 8,
   "metadata": {
    "ExecuteTime": {
     "end_time": "2019-06-29T21:19:21.871065Z",
     "start_time": "2019-06-29T21:19:21.856057Z"
    }
   },
   "outputs": [
    {
     "name": "stdout",
     "output_type": "stream",
     "text": [
      "2012-PH-30min\n",
      "2013-PH-30min\n",
      "2014-PH-30min\n",
      "2015-PH-30min\n",
      "2016-PH-30min\n",
      "2017-PH-30min\n",
      "c\n",
      "b\n",
      "Sheet1\n"
     ]
    }
   ],
   "source": [
    "for a in bms_all.keys():\n",
    "    print(a)"
   ]
  },
  {
   "cell_type": "code",
   "execution_count": null,
   "metadata": {},
   "outputs": [],
   "source": []
  },
  {
   "cell_type": "code",
   "execution_count": 9,
   "metadata": {
    "ExecuteTime": {
     "end_time": "2019-06-29T21:19:22.081177Z",
     "start_time": "2019-06-29T21:19:21.871065Z"
    }
   },
   "outputs": [
    {
     "ename": "FileNotFoundError",
     "evalue": "File b'bms_data.csv' does not exist",
     "output_type": "error",
     "traceback": [
      "\u001b[1;31m---------------------------------------------------------------------------\u001b[0m",
      "\u001b[1;31mFileNotFoundError\u001b[0m                         Traceback (most recent call last)",
      "\u001b[1;32m<ipython-input-9-f112383b08f1>\u001b[0m in \u001b[0;36m<module>\u001b[1;34m()\u001b[0m\n\u001b[1;32m----> 1\u001b[1;33m \u001b[0mbms_all\u001b[0m \u001b[1;33m=\u001b[0m \u001b[0mpd\u001b[0m\u001b[1;33m.\u001b[0m\u001b[0mread_csv\u001b[0m\u001b[1;33m(\u001b[0m\u001b[1;34m\"bms_data.csv\"\u001b[0m\u001b[1;33m,\u001b[0m \u001b[0minfer_datetime_format\u001b[0m\u001b[1;33m=\u001b[0m\u001b[1;32mTrue\u001b[0m\u001b[1;33m)\u001b[0m\u001b[1;33m\u001b[0m\u001b[0m\n\u001b[0m",
      "\u001b[1;32mC:\\ProgramData\\Anaconda3\\lib\\site-packages\\pandas\\io\\parsers.py\u001b[0m in \u001b[0;36mparser_f\u001b[1;34m(filepath_or_buffer, sep, delimiter, header, names, index_col, usecols, squeeze, prefix, mangle_dupe_cols, dtype, engine, converters, true_values, false_values, skipinitialspace, skiprows, nrows, na_values, keep_default_na, na_filter, verbose, skip_blank_lines, parse_dates, infer_datetime_format, keep_date_col, date_parser, dayfirst, iterator, chunksize, compression, thousands, decimal, lineterminator, quotechar, quoting, escapechar, comment, encoding, dialect, tupleize_cols, error_bad_lines, warn_bad_lines, skipfooter, doublequote, delim_whitespace, low_memory, memory_map, float_precision)\u001b[0m\n\u001b[0;32m    676\u001b[0m                     skip_blank_lines=skip_blank_lines)\n\u001b[0;32m    677\u001b[0m \u001b[1;33m\u001b[0m\u001b[0m\n\u001b[1;32m--> 678\u001b[1;33m         \u001b[1;32mreturn\u001b[0m \u001b[0m_read\u001b[0m\u001b[1;33m(\u001b[0m\u001b[0mfilepath_or_buffer\u001b[0m\u001b[1;33m,\u001b[0m \u001b[0mkwds\u001b[0m\u001b[1;33m)\u001b[0m\u001b[1;33m\u001b[0m\u001b[0m\n\u001b[0m\u001b[0;32m    679\u001b[0m \u001b[1;33m\u001b[0m\u001b[0m\n\u001b[0;32m    680\u001b[0m     \u001b[0mparser_f\u001b[0m\u001b[1;33m.\u001b[0m\u001b[0m__name__\u001b[0m \u001b[1;33m=\u001b[0m \u001b[0mname\u001b[0m\u001b[1;33m\u001b[0m\u001b[0m\n",
      "\u001b[1;32mC:\\ProgramData\\Anaconda3\\lib\\site-packages\\pandas\\io\\parsers.py\u001b[0m in \u001b[0;36m_read\u001b[1;34m(filepath_or_buffer, kwds)\u001b[0m\n\u001b[0;32m    438\u001b[0m \u001b[1;33m\u001b[0m\u001b[0m\n\u001b[0;32m    439\u001b[0m     \u001b[1;31m# Create the parser.\u001b[0m\u001b[1;33m\u001b[0m\u001b[1;33m\u001b[0m\u001b[0m\n\u001b[1;32m--> 440\u001b[1;33m     \u001b[0mparser\u001b[0m \u001b[1;33m=\u001b[0m \u001b[0mTextFileReader\u001b[0m\u001b[1;33m(\u001b[0m\u001b[0mfilepath_or_buffer\u001b[0m\u001b[1;33m,\u001b[0m \u001b[1;33m**\u001b[0m\u001b[0mkwds\u001b[0m\u001b[1;33m)\u001b[0m\u001b[1;33m\u001b[0m\u001b[0m\n\u001b[0m\u001b[0;32m    441\u001b[0m \u001b[1;33m\u001b[0m\u001b[0m\n\u001b[0;32m    442\u001b[0m     \u001b[1;32mif\u001b[0m \u001b[0mchunksize\u001b[0m \u001b[1;32mor\u001b[0m \u001b[0miterator\u001b[0m\u001b[1;33m:\u001b[0m\u001b[1;33m\u001b[0m\u001b[0m\n",
      "\u001b[1;32mC:\\ProgramData\\Anaconda3\\lib\\site-packages\\pandas\\io\\parsers.py\u001b[0m in \u001b[0;36m__init__\u001b[1;34m(self, f, engine, **kwds)\u001b[0m\n\u001b[0;32m    785\u001b[0m             \u001b[0mself\u001b[0m\u001b[1;33m.\u001b[0m\u001b[0moptions\u001b[0m\u001b[1;33m[\u001b[0m\u001b[1;34m'has_index_names'\u001b[0m\u001b[1;33m]\u001b[0m \u001b[1;33m=\u001b[0m \u001b[0mkwds\u001b[0m\u001b[1;33m[\u001b[0m\u001b[1;34m'has_index_names'\u001b[0m\u001b[1;33m]\u001b[0m\u001b[1;33m\u001b[0m\u001b[0m\n\u001b[0;32m    786\u001b[0m \u001b[1;33m\u001b[0m\u001b[0m\n\u001b[1;32m--> 787\u001b[1;33m         \u001b[0mself\u001b[0m\u001b[1;33m.\u001b[0m\u001b[0m_make_engine\u001b[0m\u001b[1;33m(\u001b[0m\u001b[0mself\u001b[0m\u001b[1;33m.\u001b[0m\u001b[0mengine\u001b[0m\u001b[1;33m)\u001b[0m\u001b[1;33m\u001b[0m\u001b[0m\n\u001b[0m\u001b[0;32m    788\u001b[0m \u001b[1;33m\u001b[0m\u001b[0m\n\u001b[0;32m    789\u001b[0m     \u001b[1;32mdef\u001b[0m \u001b[0mclose\u001b[0m\u001b[1;33m(\u001b[0m\u001b[0mself\u001b[0m\u001b[1;33m)\u001b[0m\u001b[1;33m:\u001b[0m\u001b[1;33m\u001b[0m\u001b[0m\n",
      "\u001b[1;32mC:\\ProgramData\\Anaconda3\\lib\\site-packages\\pandas\\io\\parsers.py\u001b[0m in \u001b[0;36m_make_engine\u001b[1;34m(self, engine)\u001b[0m\n\u001b[0;32m   1012\u001b[0m     \u001b[1;32mdef\u001b[0m \u001b[0m_make_engine\u001b[0m\u001b[1;33m(\u001b[0m\u001b[0mself\u001b[0m\u001b[1;33m,\u001b[0m \u001b[0mengine\u001b[0m\u001b[1;33m=\u001b[0m\u001b[1;34m'c'\u001b[0m\u001b[1;33m)\u001b[0m\u001b[1;33m:\u001b[0m\u001b[1;33m\u001b[0m\u001b[0m\n\u001b[0;32m   1013\u001b[0m         \u001b[1;32mif\u001b[0m \u001b[0mengine\u001b[0m \u001b[1;33m==\u001b[0m \u001b[1;34m'c'\u001b[0m\u001b[1;33m:\u001b[0m\u001b[1;33m\u001b[0m\u001b[0m\n\u001b[1;32m-> 1014\u001b[1;33m             \u001b[0mself\u001b[0m\u001b[1;33m.\u001b[0m\u001b[0m_engine\u001b[0m \u001b[1;33m=\u001b[0m \u001b[0mCParserWrapper\u001b[0m\u001b[1;33m(\u001b[0m\u001b[0mself\u001b[0m\u001b[1;33m.\u001b[0m\u001b[0mf\u001b[0m\u001b[1;33m,\u001b[0m \u001b[1;33m**\u001b[0m\u001b[0mself\u001b[0m\u001b[1;33m.\u001b[0m\u001b[0moptions\u001b[0m\u001b[1;33m)\u001b[0m\u001b[1;33m\u001b[0m\u001b[0m\n\u001b[0m\u001b[0;32m   1015\u001b[0m         \u001b[1;32melse\u001b[0m\u001b[1;33m:\u001b[0m\u001b[1;33m\u001b[0m\u001b[0m\n\u001b[0;32m   1016\u001b[0m             \u001b[1;32mif\u001b[0m \u001b[0mengine\u001b[0m \u001b[1;33m==\u001b[0m \u001b[1;34m'python'\u001b[0m\u001b[1;33m:\u001b[0m\u001b[1;33m\u001b[0m\u001b[0m\n",
      "\u001b[1;32mC:\\ProgramData\\Anaconda3\\lib\\site-packages\\pandas\\io\\parsers.py\u001b[0m in \u001b[0;36m__init__\u001b[1;34m(self, src, **kwds)\u001b[0m\n\u001b[0;32m   1706\u001b[0m         \u001b[0mkwds\u001b[0m\u001b[1;33m[\u001b[0m\u001b[1;34m'usecols'\u001b[0m\u001b[1;33m]\u001b[0m \u001b[1;33m=\u001b[0m \u001b[0mself\u001b[0m\u001b[1;33m.\u001b[0m\u001b[0musecols\u001b[0m\u001b[1;33m\u001b[0m\u001b[0m\n\u001b[0;32m   1707\u001b[0m \u001b[1;33m\u001b[0m\u001b[0m\n\u001b[1;32m-> 1708\u001b[1;33m         \u001b[0mself\u001b[0m\u001b[1;33m.\u001b[0m\u001b[0m_reader\u001b[0m \u001b[1;33m=\u001b[0m \u001b[0mparsers\u001b[0m\u001b[1;33m.\u001b[0m\u001b[0mTextReader\u001b[0m\u001b[1;33m(\u001b[0m\u001b[0msrc\u001b[0m\u001b[1;33m,\u001b[0m \u001b[1;33m**\u001b[0m\u001b[0mkwds\u001b[0m\u001b[1;33m)\u001b[0m\u001b[1;33m\u001b[0m\u001b[0m\n\u001b[0m\u001b[0;32m   1709\u001b[0m \u001b[1;33m\u001b[0m\u001b[0m\n\u001b[0;32m   1710\u001b[0m         \u001b[0mpassed_names\u001b[0m \u001b[1;33m=\u001b[0m \u001b[0mself\u001b[0m\u001b[1;33m.\u001b[0m\u001b[0mnames\u001b[0m \u001b[1;32mis\u001b[0m \u001b[1;32mNone\u001b[0m\u001b[1;33m\u001b[0m\u001b[0m\n",
      "\u001b[1;32mpandas\\_libs\\parsers.pyx\u001b[0m in \u001b[0;36mpandas._libs.parsers.TextReader.__cinit__\u001b[1;34m()\u001b[0m\n",
      "\u001b[1;32mpandas\\_libs\\parsers.pyx\u001b[0m in \u001b[0;36mpandas._libs.parsers.TextReader._setup_parser_source\u001b[1;34m()\u001b[0m\n",
      "\u001b[1;31mFileNotFoundError\u001b[0m: File b'bms_data.csv' does not exist"
     ]
    }
   ],
   "source": [
    "bms_all = pd.read_csv(\"bms_data.csv\", infer_datetime_format=True)"
   ]
  },
  {
   "cell_type": "code",
   "execution_count": null,
   "metadata": {
    "ExecuteTime": {
     "end_time": "2019-06-29T21:19:22.081177Z",
     "start_time": "2019-06-29T21:19:08.567Z"
    }
   },
   "outputs": [],
   "source": [
    "bms_all.info()"
   ]
  },
  {
   "cell_type": "code",
   "execution_count": null,
   "metadata": {
    "ExecuteTime": {
     "end_time": "2019-06-29T21:19:22.086181Z",
     "start_time": "2019-06-29T21:19:08.574Z"
    }
   },
   "outputs": [],
   "source": [
    "bms_all.plot.line()"
   ]
  },
  {
   "cell_type": "markdown",
   "metadata": {
    "ExecuteTime": {
     "end_time": "2019-06-26T05:47:15.999651Z",
     "start_time": "2019-06-26T05:47:15.970574Z"
    }
   },
   "source": [
    "## fix the data up a little"
   ]
  },
  {
   "cell_type": "code",
   "execution_count": null,
   "metadata": {
    "ExecuteTime": {
     "end_time": "2019-06-29T21:19:22.091183Z",
     "start_time": "2019-06-29T21:19:08.637Z"
    }
   },
   "outputs": [],
   "source": [
    "bms_all[bms_all['Timestamp'].duplicated(keep='first')]"
   ]
  },
  {
   "cell_type": "code",
   "execution_count": null,
   "metadata": {
    "ExecuteTime": {
     "end_time": "2019-06-29T21:19:22.091183Z",
     "start_time": "2019-06-29T21:19:08.640Z"
    }
   },
   "outputs": [],
   "source": [
    "bms_fix = bms_all.drop(bms_all[bms_all['Timestamp'].duplicated(keep='last')].index)\n",
    "# bms_fix"
   ]
  },
  {
   "cell_type": "code",
   "execution_count": null,
   "metadata": {
    "ExecuteTime": {
     "end_time": "2019-06-29T21:19:22.091183Z",
     "start_time": "2019-06-29T21:19:08.645Z"
    }
   },
   "outputs": [],
   "source": [
    "bms_fix['Timestamp'].is_unique"
   ]
  },
  {
   "cell_type": "code",
   "execution_count": null,
   "metadata": {
    "ExecuteTime": {
     "end_time": "2019-06-29T21:19:22.096185Z",
     "start_time": "2019-06-29T21:19:08.652Z"
    }
   },
   "outputs": [],
   "source": [
    "bms_fix.index = pd.to_datetime(bms_fix['Timestamp'])"
   ]
  },
  {
   "cell_type": "code",
   "execution_count": null,
   "metadata": {
    "ExecuteTime": {
     "end_time": "2019-06-29T21:19:22.096185Z",
     "start_time": "2019-06-29T21:19:08.656Z"
    }
   },
   "outputs": [],
   "source": [
    "bms_fix = bms_fix.sort_index()"
   ]
  },
  {
   "cell_type": "code",
   "execution_count": null,
   "metadata": {
    "ExecuteTime": {
     "end_time": "2019-06-29T21:19:22.101188Z",
     "start_time": "2019-06-29T21:19:08.663Z"
    }
   },
   "outputs": [],
   "source": [
    "bms_fix.reindex(pd.date_range(\"2013-01-01\", \"2015-01-01\", freq='30T'), \n",
    "                method='nearest').to_csv(\"bms_1314_kva.csv\", sep=',', encoding='ISO-8859-1')"
   ]
  },
  {
   "cell_type": "code",
   "execution_count": null,
   "metadata": {
    "ExecuteTime": {
     "end_time": "2019-06-29T21:19:22.101188Z",
     "start_time": "2019-06-29T21:19:08.671Z"
    }
   },
   "outputs": [],
   "source": [
    "bms_fix.reindex(pd.date_range(\"2015-01-01\", \"2016-01-01\", freq='30T'), \n",
    "                method='nearest').to_csv(\"bms_2015_kva.csv\", sep=',', encoding='ISO-8859-1')"
   ]
  },
  {
   "cell_type": "code",
   "execution_count": null,
   "metadata": {
    "ExecuteTime": {
     "end_time": "2019-06-29T21:19:22.106191Z",
     "start_time": "2019-06-29T21:19:08.676Z"
    }
   },
   "outputs": [],
   "source": [
    "bms_fix.reindex(pd.date_range(\"2016-01-01\", \"2017-01-01\", freq='30T'), \n",
    "                method='nearest').to_csv(\"bms_2016_kva.csv\", sep=',', encoding='ISO-8859-1')"
   ]
  },
  {
   "cell_type": "code",
   "execution_count": null,
   "metadata": {
    "ExecuteTime": {
     "end_time": "2019-06-29T21:19:22.106191Z",
     "start_time": "2019-06-29T21:19:08.681Z"
    }
   },
   "outputs": [],
   "source": [
    "bms_fix.columns"
   ]
  },
  {
   "cell_type": "markdown",
   "metadata": {},
   "source": [
    "## now process it to make it useful"
   ]
  },
  {
   "cell_type": "code",
   "execution_count": null,
   "metadata": {
    "ExecuteTime": {
     "end_time": "2019-06-29T21:19:22.111198Z",
     "start_time": "2019-06-29T21:19:08.775Z"
    }
   },
   "outputs": [],
   "source": [
    "#2015 demand plotline\n",
    "bms_demand_2015 = add_day_type_column(\"bms_2015_kva.csv\",'Timestamp')"
   ]
  },
  {
   "cell_type": "code",
   "execution_count": null,
   "metadata": {
    "ExecuteTime": {
     "end_time": "2019-06-29T21:19:22.111198Z",
     "start_time": "2019-06-29T21:19:08.779Z"
    }
   },
   "outputs": [],
   "source": [
    "bms_demand_2015.columns\n",
    "bms_demand_2015"
   ]
  },
  {
   "cell_type": "code",
   "execution_count": null,
   "metadata": {
    "ExecuteTime": {
     "end_time": "2019-06-29T21:19:22.116202Z",
     "start_time": "2019-06-29T21:19:08.788Z"
    },
    "scrolled": false
   },
   "outputs": [],
   "source": [
    "bms_demand_2015.rename(columns={'Timestamp':'TimeStamp',\n",
    "                                'ML_PH/Main_11kV_kW (kW)':'kW',\n",
    "                                'ML_PH/Main_11kV_kVA (kVA)':'kVA',\n",
    "                                'ML_PH/PH_Ambient_Temperature (°C)':'Temp',\n",
    "                                'ML_PH/PH_Ambient_Humidity (%RH)':'Humidity'}, inplace=True)\n",
    "bms_demand_2015_est = campus_power_estimation(bms_demand_2016)\n",
    "bms_demand_2015['kVA'].plot.line()\n",
    "bms_demand_2015_est['kW_est'].plot.line()"
   ]
  },
  {
   "cell_type": "code",
   "execution_count": null,
   "metadata": {
    "ExecuteTime": {
     "end_time": "2019-06-29T21:19:22.121201Z",
     "start_time": "2019-06-29T21:19:08.792Z"
    }
   },
   "outputs": [],
   "source": [
    "#read data file and add type of day column to it\n",
    "bms_demand_2017 = add_day_type_column('bms_2017_kva.csv','Timestamp')\n",
    "bms_demand_2017.rename(columns={'Timestamp':'TimeStamp',\n",
    "                                'ML_PH/Main_11kV_kW (kW)':'kW',\n",
    "                                'ML_PH/Main_11kV_kVA (kVA)':'kVA',\n",
    "                                'ML_PH/PH_Ambient_Temperature (°C)':'Temp',\n",
    "                                'ML_PH/PH_Ambient_Humidity (%RH)':'Humidity'}, inplace=True)\n",
    "\n",
    "bms_demand_2017_est = campus_power_estimation(bms_demand_2017)\n",
    "bms_demand_2017['kW'].plot.line()\n",
    "bms_demand_2017['kVA'].plot.line()\n",
    "bms_demand_2017_est['kW_est'].plot.line()\n"
   ]
  },
  {
   "cell_type": "code",
   "execution_count": null,
   "metadata": {
    "ExecuteTime": {
     "end_time": "2019-06-29T21:19:22.121201Z",
     "start_time": "2019-06-29T21:19:08.798Z"
    }
   },
   "outputs": [],
   "source": [
    "bms_demand_2017.info()"
   ]
  },
  {
   "cell_type": "code",
   "execution_count": null,
   "metadata": {
    "ExecuteTime": {
     "end_time": "2019-06-29T21:19:22.126209Z",
     "start_time": "2019-06-29T21:19:08.806Z"
    },
    "lines_to_next_cell": 0
   },
   "outputs": [],
   "source": [
    "bms_demand_2016.info()"
   ]
  },
  {
   "cell_type": "markdown",
   "metadata": {},
   "source": [
    "\n"
   ]
  },
  {
   "cell_type": "code",
   "execution_count": null,
   "metadata": {
    "ExecuteTime": {
     "end_time": "2019-06-29T21:19:22.126209Z",
     "start_time": "2019-06-29T21:19:08.877Z"
    }
   },
   "outputs": [],
   "source": [
    "bms_2017_imputed = replace_zeros(bms_demand_2017, bms_demand_2016)"
   ]
  },
  {
   "cell_type": "code",
   "execution_count": null,
   "metadata": {
    "ExecuteTime": {
     "end_time": "2019-06-29T21:19:22.131205Z",
     "start_time": "2019-06-29T21:19:08.881Z"
    }
   },
   "outputs": [],
   "source": [
    "bms_2017_imputed['kVA'].plot.line()"
   ]
  },
  {
   "cell_type": "code",
   "execution_count": null,
   "metadata": {
    "ExecuteTime": {
     "end_time": "2019-06-29T21:19:22.131205Z",
     "start_time": "2019-06-29T21:19:08.888Z"
    },
    "scrolled": true
   },
   "outputs": [],
   "source": [
    "# Estimate kW using kVA if kW values not recorded\n",
    "bms_demand_2017_est = campus_power_estimation(bms_2017_imputed)\n",
    "bms_demand_2017_est['kW_est'].plot.line()"
   ]
  },
  {
   "cell_type": "code",
   "execution_count": null,
   "metadata": {
    "ExecuteTime": {
     "end_time": "2019-06-29T21:19:22.131205Z",
     "start_time": "2019-06-29T21:19:08.894Z"
    }
   },
   "outputs": [],
   "source": [
    "# ax = bms_2017_imputed.plot(x='TimeStamp', y='kW' ,figsize=(20,10), grid=True, use_index=True )\n",
    "ax = bms_2017_imputed.plot(y='kW' ,figsize=(20,10), grid=True, use_index=True )\n",
    "ax.set_ylabel(\"kW\")\n",
    "ax1 = bms_demand_2017_est.iloc[3000:4000].plot(y='kW_est' ,figsize=(20,10), grid=True, use_index=True)\n",
    "ax1.set_ylabel(\"kW_est\")"
   ]
  },
  {
   "cell_type": "code",
   "execution_count": null,
   "metadata": {
    "ExecuteTime": {
     "end_time": "2019-06-29T21:19:22.136207Z",
     "start_time": "2019-06-29T21:19:08.898Z"
    }
   },
   "outputs": [],
   "source": [
    "bms_demand_2017_est.info()"
   ]
  },
  {
   "cell_type": "code",
   "execution_count": null,
   "metadata": {
    "ExecuteTime": {
     "end_time": "2019-06-29T21:19:22.136207Z",
     "start_time": "2019-06-29T21:19:08.906Z"
    }
   },
   "outputs": [],
   "source": [
    "#construct data sets for years 2013 to 2017\n",
    "bms_demand_201314 = add_day_type_column(\"bms_1314_kva.csv\",'Timestamp')\n",
    "bms_demand_201314.rename(columns={'Timestamp':'TimeStamp',\n",
    "                                  'ML_PH/Main_11kV_kW (kW)':'kW',\n",
    "                                  'ML_PH/Main_11kV_kVA (kVA)':'kVA',\n",
    "                                  'ML_PH/PH_Ambient_Temperature (°C)':'Temp',\n",
    "                                  'ML_PH/PH_Ambient_Humidity (%RH)': 'Humidity'}, inplace=True)\n",
    "bms_demand_2015 = add_day_type_column(\"bms_2015_kva.csv\",'Timestamp')\n",
    "bms_demand_2015.rename(columns={'Timestamp':'TimeStamp',\n",
    "                                'ML_PH/Main_11kV_kW (kW)':'kW',\n",
    "                                'ML_PH/Main_11kV_kVA (kVA)':'kVA',\n",
    "                                'ML_PH/PH_Ambient_Temperature (°C)':'Temp',\n",
    "                                'ML_PH/PH_Ambient_Humidity (%RH)':'Humidity'}, inplace=True)"
   ]
  },
  {
   "cell_type": "code",
   "execution_count": null,
   "metadata": {
    "ExecuteTime": {
     "end_time": "2019-06-29T21:19:22.136207Z",
     "start_time": "2019-06-29T21:19:08.911Z"
    },
    "scrolled": true
   },
   "outputs": [],
   "source": [
    "bms_13to17_kva = pd.concat([bms_demand_2017,bms_demand_2016,bms_demand_2015,bms_demand_201314],sort = True)\n",
    "bms_13to17_kva = bms_13to17_kva.sort_values('TimeStamp').reset_index()\n",
    "bms_1317_kW_est = campus_power_estimation(bms_13to17_kva)\n",
    "bms_1317_kW_est"
   ]
  },
  {
   "cell_type": "code",
   "execution_count": null,
   "metadata": {
    "ExecuteTime": {
     "end_time": "2019-06-29T21:19:22.136207Z",
     "start_time": "2019-06-29T21:19:08.914Z"
    },
    "scrolled": true
   },
   "outputs": [],
   "source": [
    "bms_1317_kW_est.to_csv(\"bms_13to17_kW_est.csv\", sep=',', encoding='utf-8')"
   ]
  },
  {
   "cell_type": "code",
   "execution_count": null,
   "metadata": {
    "ExecuteTime": {
     "end_time": "2019-06-29T21:19:22.141210Z",
     "start_time": "2019-06-29T21:19:08.925Z"
    },
    "scrolled": true
   },
   "outputs": [],
   "source": [
    "#test code for imputation\n",
    "test_2017 = bms_demand_2017\n",
    "test_2016 = bms_demand_2016\n",
    "#bms_demand_2017.where(bms_demand_2017['kVA'] != 0 && bms_demand_2017['TimeStamp'].apply(lambda x: datetime.date(x)) \n",
    " #                     , bms_demand_2016['kVA'],axis=0)\n",
    "test_2016_without_29 = test_2016.drop(test_2016[(test_2016['TimeStamp'] >= '2016-02-29 00:00:00') & (test_2016['TimeStamp'] < '2016-03-01 00:00:00')].index).reset_index()\n",
    "test_2017.sort_index(inplace=True)\n",
    "test_2016_without_29['TimeStamp'] = test_2016_without_29['TimeStamp'].apply(lambda x: x.replace(year = 2017))\n",
    "df_without_zero = replace_zeros(test_2017,test_2016_without_29)\n",
    "\n",
    "df_without_zero.kW_est.plot()"
   ]
  },
  {
   "cell_type": "code",
   "execution_count": null,
   "metadata": {
    "ExecuteTime": {
     "end_time": "2019-06-29T21:19:22.141210Z",
     "start_time": "2019-06-29T21:19:08.930Z"
    },
    "scrolled": false
   },
   "outputs": [],
   "source": [
    "# Distribution of consumption during different day type's\n",
    "grouped_by_daytype = bms_1317_kW_est.groupby(['Type_of_day'])['kW_est'].mean()\n",
    "grouped_by_daytype\n",
    "ax = grouped_by_daytype.plot.bar()\n",
    "ax.set_ylabel(\"Average daily kW\")"
   ]
  },
  {
   "cell_type": "code",
   "execution_count": null,
   "metadata": {
    "ExecuteTime": {
     "end_time": "2019-06-29T21:19:22.146216Z",
     "start_time": "2019-06-29T21:19:08.937Z"
    }
   },
   "outputs": [],
   "source": [
    "# change scale of humidity and temperature\n",
    "bms_transformed = bms_demand_2017_est[['TimeStamp','kW_est', 'Type_of_day','RH','ambTemp']].copy()\n",
    "bms_transformed['RH'] = bms_transformed['RH'].apply(lambda x: x*10)\n",
    "bms_transformed['ambTemp'] = bms_transformed['ambTemp'].apply(lambda x: x*10)\n",
    "bms_transformed.iloc[5000:7000].plot( y=['kW_est','RH','ambTemp'] ,figsize=(20,10), grid=True, use_index=True)"
   ]
  },
  {
   "cell_type": "code",
   "execution_count": null,
   "metadata": {
    "ExecuteTime": {
     "end_time": "2019-06-29T21:19:22.146216Z",
     "start_time": "2019-06-29T21:19:08.941Z"
    }
   },
   "outputs": [],
   "source": [
    "#Check correations among attributes\n",
    "corr_val = bms_1317_kW_est.corr()\n",
    "print (corr_val)\n",
    "import seaborn as sns\n",
    "sns.heatmap(corr_val, \n",
    "        xticklabels=corr_val.columns,\n",
    "        yticklabels=corr_val.columns)"
   ]
  },
  {
   "cell_type": "code",
   "execution_count": null,
   "metadata": {
    "ExecuteTime": {
     "end_time": "2019-06-29T21:19:22.146216Z",
     "start_time": "2019-06-29T21:19:08.947Z"
    }
   },
   "outputs": [],
   "source": [
    "import math\n",
    "from statsmodels.tsa.stattools import acf, pacf\n",
    "import statsmodels.tsa.stattools as ts\n",
    "from statsmodels.tsa.arima_model import ARIMA\n",
    "from statsmodels.tsa.arima_model import ARMAResults"
   ]
  },
  {
   "cell_type": "code",
   "execution_count": null,
   "metadata": {
    "ExecuteTime": {
     "end_time": "2019-06-29T21:19:22.146216Z",
     "start_time": "2019-06-29T21:19:08.954Z"
    }
   },
   "outputs": [],
   "source": [
    "demand = bms_demand_2017_est['kW_est']\n",
    "\n",
    "plt.plot(demand)\n",
    "plt.show()\n",
    "acf_1 =  acf(demand)[1:20]\n",
    "plt.plot(acf_1)\n",
    "plt.show()\n",
    "test_df = pd.DataFrame([acf_1]).T\n",
    "test_df.columns = ['Pandas Autocorrelation']\n",
    "test_df.index += 1\n",
    "test_df.plot(kind='bar')\n",
    "pacf_1 =  pacf(demand)[1:20]\n",
    "plt.plot(pacf_1)\n",
    "plt.show()\n",
    "test_df = pd.DataFrame([pacf_1]).T\n",
    "test_df.columns = ['Pandas Partial Autocorrelation']\n",
    "test_df.index += 1\n",
    "test_df.plot(kind='bar')\n",
    "result = ts.adfuller(demand, 1)\n",
    "result"
   ]
  },
  {
   "cell_type": "code",
   "execution_count": null,
   "metadata": {
    "ExecuteTime": {
     "end_time": "2019-06-29T21:19:22.151214Z",
     "start_time": "2019-06-29T21:19:08.958Z"
    }
   },
   "outputs": [],
   "source": [
    "demand_matrix=demand.values\n",
    "model = ARIMA(demand_matrix, order=(3,1,3))\n",
    "model_fit = model.fit(disp=0)\n",
    "fits = model_fit.fittedvalues\n",
    "residuals = model_fit.resid\n",
    "print(model_fit.summary())\n",
    "#predictions = model_fit.predict(2,17600, typ = 'levels')\n",
    "#predictions\n",
    "#predictionsadjusted = np.exp(predictions)\n",
    "#plt.plot(predictionsadjusted)\n",
    "#plt.show()\n",
    "\n",
    "#model_fit.plot_diagnostics(figsize=(15, 12))"
   ]
  },
  {
   "cell_type": "code",
   "execution_count": null,
   "metadata": {
    "ExecuteTime": {
     "end_time": "2019-06-29T21:19:22.151214Z",
     "start_time": "2019-06-29T21:19:08.962Z"
    }
   },
   "outputs": [],
   "source": [
    "#results = ARMAResults(model,predictions)\n",
    "#fittedValues = results.fittedvalues\n",
    "#append 0 in first element\n",
    "fits = np.concatenate([[0],fits])\n",
    "bms_demand_2017_est['fits'] = bms_demand_2017_est['kW_est'] + fits\n",
    "bms_demand_2017_est.loc[5000:7000].plot(x='TimeStamp', y=['kW_est','fits'] ,figsize=(20,10), grid=True  )"
   ]
  },
  {
   "cell_type": "code",
   "execution_count": null,
   "metadata": {
    "ExecuteTime": {
     "end_time": "2019-06-29T21:19:22.151214Z",
     "start_time": "2019-06-29T21:19:08.970Z"
    }
   },
   "outputs": [],
   "source": [
    "#ARIMAX model\n",
    "arimax_model=ARIMA(endog=bms_demand_2017_est['kW_est'],exog=bms_demand_2017_est[['Temp','Humidity']],order=[3,1,3])\n",
    "results3=arimax_model.fit()\n",
    "print(results3.summary())"
   ]
  },
  {
   "cell_type": "code",
   "execution_count": null,
   "metadata": {
    "ExecuteTime": {
     "end_time": "2019-06-29T21:19:22.151214Z",
     "start_time": "2019-06-29T21:19:08.974Z"
    },
    "scrolled": true
   },
   "outputs": [],
   "source": [
    "# Future fits\n",
    "current_values = bms_demand_2017_est.fits[17500:]\n",
    "forecast = model_fit.predict(start=17500, end=17600)\n",
    "print(bms_demand_2017_est.fits[17500:])\n",
    "print(forecast)\n",
    "#bms_demand_2017_est.insert(17500:17600, 'fits', forecast)\n"
   ]
  },
  {
   "cell_type": "code",
   "execution_count": null,
   "metadata": {
    "ExecuteTime": {
     "end_time": "2019-06-29T21:19:22.156217Z",
     "start_time": "2019-06-29T21:19:08.978Z"
    }
   },
   "outputs": [],
   "source": [
    "#validation data set\n",
    "validation_2018 = add_day_type_column('validation_2018_data.csv','?Timestamp')\n",
    "validation_2018.rename(columns={'ML_PH/Main_11kV_kW (kW)': 'kW','?Timestamp': 'TimeStamp','ML_PH/Main_11kV_kVA (kVA)' : 'kVA','ML_PH/PH_Ambient_Temperature (°C)':'Temp','ML_PH/PH_Ambient_Humidity (%RH)': 'Humidity'}, inplace=True)\n",
    "validation_2018_est = campus_power_estimation(validation_2018)\n",
    "validation_2018_est.to_csv(\"validation_2018_est.csv\", sep=',', encoding='utf-8')\n",
    "validation_2018_est.kW_est.plot()"
   ]
  },
  {
   "cell_type": "code",
   "execution_count": null,
   "metadata": {
    "ExecuteTime": {
     "end_time": "2019-06-29T21:19:22.156217Z",
     "start_time": "2019-06-29T21:19:08.982Z"
    },
    "scrolled": true
   },
   "outputs": [],
   "source": [
    "validation_2018_est"
   ]
  }
 ],
 "metadata": {
  "hide_input": false,
  "kernelspec": {
   "display_name": "Python 3",
   "language": "python",
   "name": "python3"
  },
  "language_info": {
   "codemirror_mode": {
    "name": "ipython",
    "version": 3
   },
   "file_extension": ".py",
   "mimetype": "text/x-python",
   "name": "python",
   "nbconvert_exporter": "python",
   "pygments_lexer": "ipython3",
   "version": "3.7.0"
  },
  "latex_envs": {
   "LaTeX_envs_menu_present": true,
   "autoclose": false,
   "autocomplete": true,
   "bibliofile": "biblio.bib",
   "cite_by": "apalike",
   "current_citInitial": 1,
   "eqLabelWithNumbers": true,
   "eqNumInitial": 1,
   "hotkeys": {
    "equation": "Ctrl-E",
    "itemize": "Ctrl-I"
   },
   "labels_anchors": false,
   "latex_user_defs": false,
   "report_style_numbering": false,
   "user_envs_cfg": false
  },
  "toc": {
   "base_numbering": 1,
   "nav_menu": {},
   "number_sections": true,
   "sideBar": true,
   "skip_h1_title": false,
   "title_cell": "Table of Contents",
   "title_sidebar": "Contents",
   "toc_cell": false,
   "toc_position": {},
   "toc_section_display": true,
   "toc_window_display": true
  },
  "varInspector": {
   "cols": {
    "lenName": 16,
    "lenType": 16,
    "lenVar": 40
   },
   "kernels_config": {
    "python": {
     "delete_cmd_postfix": "",
     "delete_cmd_prefix": "del ",
     "library": "var_list.py",
     "varRefreshCmd": "print(var_dic_list())"
    },
    "r": {
     "delete_cmd_postfix": ") ",
     "delete_cmd_prefix": "rm(",
     "library": "var_list.r",
     "varRefreshCmd": "cat(var_dic_list()) "
    }
   },
   "types_to_exclude": [
    "module",
    "function",
    "builtin_function_or_method",
    "instance",
    "_Feature"
   ],
   "window_display": false
  }
 },
 "nbformat": 4,
 "nbformat_minor": 2
}
