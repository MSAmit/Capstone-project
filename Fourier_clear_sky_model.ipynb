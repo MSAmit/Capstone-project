{
 "cells": [
  {
   "cell_type": "markdown",
   "metadata": {},
   "source": [
    "Following notes from John Boland, creating a clear sky model model using Fourier analysis"
   ]
  },
  {
   "cell_type": "markdown",
   "metadata": {},
   "source": [
    "### Load packages and data"
   ]
  },
  {
   "cell_type": "code",
   "execution_count": 1,
   "metadata": {},
   "outputs": [],
   "source": [
    "import datetime as dt\n",
    "import matplotlib.pyplot as plt\n",
    "from matplotlib import cm\n",
    "import numpy as np\n",
    "import os\n",
    "import pandas as pd\n",
    "import scipy\n",
    "from sklearn import linear_model\n",
    "import statsmodels.api as sm\n",
    "import statsmodels.formula.api as smf"
   ]
  },
  {
   "cell_type": "markdown",
   "metadata": {},
   "source": [
    "Change these years as required."
   ]
  },
  {
   "cell_type": "code",
   "execution_count": 2,
   "metadata": {},
   "outputs": [],
   "source": [
    "# Change these years as required.\n",
    "from_year = 1994\n",
    "to_year = 2017\n",
    "\n",
    "year_range = range(from_year,to_year+1)"
   ]
  },
  {
   "cell_type": "markdown",
   "metadata": {},
   "source": [
    "The solar data was previously consolidated from monthly files into yearly files.  Here, the years are each loaded as values in a dictionary."
   ]
  },
  {
   "cell_type": "code",
   "execution_count": 3,
   "metadata": {},
   "outputs": [],
   "source": [
    "PV = {}\n",
    "\n",
    "for year in year_range:\n",
    "    try:\n",
    "        PV[str(year)] = pd.read_csv(\n",
    "                '..//solar_data/PV_' + str(year) + '.csv',\n",
    "                parse_dates=['date_time'],\n",
    "                index_col='date_time')\n",
    "    except:\n",
    "        pass"
   ]
  },
  {
   "cell_type": "code",
   "execution_count": 4,
   "metadata": {},
   "outputs": [
    {
     "data": {
      "text/plain": [
       "dict_keys(['1994', '1995', '1996', '1997', '1998', '2003', '2004', '2005', '2006', '2007', '2008', '2009', '2010', '2011', '2012', '2013', '2014', '2015', '2016', '2017'])"
      ]
     },
     "execution_count": 4,
     "metadata": {},
     "output_type": "execute_result"
    }
   ],
   "source": [
    "# Years for which (some) data is present\n",
    "PV.keys()"
   ]
  },
  {
   "cell_type": "markdown",
   "metadata": {},
   "source": [
    "### Data investigation and transformation"
   ]
  },
  {
   "cell_type": "code",
   "execution_count": 5,
   "metadata": {},
   "outputs": [
    {
     "data": {
      "text/html": [
       "<div>\n",
       "<style scoped>\n",
       "    .dataframe tbody tr th:only-of-type {\n",
       "        vertical-align: middle;\n",
       "    }\n",
       "\n",
       "    .dataframe tbody tr th {\n",
       "        vertical-align: top;\n",
       "    }\n",
       "\n",
       "    .dataframe thead th {\n",
       "        text-align: right;\n",
       "    }\n",
       "</style>\n",
       "<table border=\"1\" class=\"dataframe\">\n",
       "  <thead>\n",
       "    <tr style=\"text-align: right;\">\n",
       "      <th></th>\n",
       "      <th>record_id</th>\n",
       "      <th>station_number</th>\n",
       "      <th>mean_global</th>\n",
       "      <th>min_global</th>\n",
       "      <th>max_global</th>\n",
       "      <th>sd_global</th>\n",
       "      <th>uncert_mean_global</th>\n",
       "      <th>mean_direct</th>\n",
       "      <th>min_direct</th>\n",
       "      <th>max_direct</th>\n",
       "      <th>...</th>\n",
       "      <th>uncert_mean_terr</th>\n",
       "      <th>mean_dir_horiz</th>\n",
       "      <th>min_dir_horiz</th>\n",
       "      <th>max_dir_horiz</th>\n",
       "      <th>sd_dir_horiz</th>\n",
       "      <th>uncert_dir_horiz</th>\n",
       "      <th>sunsh_sec_96</th>\n",
       "      <th>sunsh_sec_120</th>\n",
       "      <th>sunsh_sec_144</th>\n",
       "      <th>zenith_dist</th>\n",
       "    </tr>\n",
       "    <tr>\n",
       "      <th>date_time</th>\n",
       "      <th></th>\n",
       "      <th></th>\n",
       "      <th></th>\n",
       "      <th></th>\n",
       "      <th></th>\n",
       "      <th></th>\n",
       "      <th></th>\n",
       "      <th></th>\n",
       "      <th></th>\n",
       "      <th></th>\n",
       "      <th></th>\n",
       "      <th></th>\n",
       "      <th></th>\n",
       "      <th></th>\n",
       "      <th></th>\n",
       "      <th></th>\n",
       "      <th></th>\n",
       "      <th></th>\n",
       "      <th></th>\n",
       "      <th></th>\n",
       "      <th></th>\n",
       "    </tr>\n",
       "  </thead>\n",
       "  <tbody>\n",
       "    <tr>\n",
       "      <th>1994-10-27 00:00:00</th>\n",
       "      <td>l</td>\n",
       "      <td>23034</td>\n",
       "      <td>0.0</td>\n",
       "      <td>0.0</td>\n",
       "      <td>0.0</td>\n",
       "      <td>0.0</td>\n",
       "      <td>NaN</td>\n",
       "      <td>0.0</td>\n",
       "      <td>NaN</td>\n",
       "      <td>0.0</td>\n",
       "      <td>...</td>\n",
       "      <td>NaN</td>\n",
       "      <td>0.0</td>\n",
       "      <td>0.0</td>\n",
       "      <td>0.0</td>\n",
       "      <td>0.0</td>\n",
       "      <td>NaN</td>\n",
       "      <td>0.0</td>\n",
       "      <td>0.0</td>\n",
       "      <td>0.0</td>\n",
       "      <td>0.0</td>\n",
       "    </tr>\n",
       "    <tr>\n",
       "      <th>1994-10-27 00:01:00</th>\n",
       "      <td>l</td>\n",
       "      <td>23034</td>\n",
       "      <td>0.0</td>\n",
       "      <td>0.0</td>\n",
       "      <td>0.0</td>\n",
       "      <td>0.0</td>\n",
       "      <td>NaN</td>\n",
       "      <td>0.0</td>\n",
       "      <td>NaN</td>\n",
       "      <td>0.0</td>\n",
       "      <td>...</td>\n",
       "      <td>NaN</td>\n",
       "      <td>0.0</td>\n",
       "      <td>0.0</td>\n",
       "      <td>0.0</td>\n",
       "      <td>0.0</td>\n",
       "      <td>NaN</td>\n",
       "      <td>0.0</td>\n",
       "      <td>0.0</td>\n",
       "      <td>0.0</td>\n",
       "      <td>0.0</td>\n",
       "    </tr>\n",
       "    <tr>\n",
       "      <th>1994-10-27 00:02:00</th>\n",
       "      <td>l</td>\n",
       "      <td>23034</td>\n",
       "      <td>0.0</td>\n",
       "      <td>0.0</td>\n",
       "      <td>0.0</td>\n",
       "      <td>0.0</td>\n",
       "      <td>NaN</td>\n",
       "      <td>0.0</td>\n",
       "      <td>NaN</td>\n",
       "      <td>0.0</td>\n",
       "      <td>...</td>\n",
       "      <td>NaN</td>\n",
       "      <td>0.0</td>\n",
       "      <td>0.0</td>\n",
       "      <td>0.0</td>\n",
       "      <td>0.0</td>\n",
       "      <td>NaN</td>\n",
       "      <td>0.0</td>\n",
       "      <td>0.0</td>\n",
       "      <td>0.0</td>\n",
       "      <td>0.0</td>\n",
       "    </tr>\n",
       "    <tr>\n",
       "      <th>1994-10-27 00:03:00</th>\n",
       "      <td>l</td>\n",
       "      <td>23034</td>\n",
       "      <td>0.0</td>\n",
       "      <td>0.0</td>\n",
       "      <td>0.0</td>\n",
       "      <td>0.0</td>\n",
       "      <td>NaN</td>\n",
       "      <td>0.0</td>\n",
       "      <td>NaN</td>\n",
       "      <td>0.0</td>\n",
       "      <td>...</td>\n",
       "      <td>NaN</td>\n",
       "      <td>0.0</td>\n",
       "      <td>0.0</td>\n",
       "      <td>0.0</td>\n",
       "      <td>0.0</td>\n",
       "      <td>NaN</td>\n",
       "      <td>0.0</td>\n",
       "      <td>0.0</td>\n",
       "      <td>0.0</td>\n",
       "      <td>0.0</td>\n",
       "    </tr>\n",
       "    <tr>\n",
       "      <th>1994-10-27 00:04:00</th>\n",
       "      <td>l</td>\n",
       "      <td>23034</td>\n",
       "      <td>0.0</td>\n",
       "      <td>0.0</td>\n",
       "      <td>0.0</td>\n",
       "      <td>0.0</td>\n",
       "      <td>NaN</td>\n",
       "      <td>0.0</td>\n",
       "      <td>NaN</td>\n",
       "      <td>0.0</td>\n",
       "      <td>...</td>\n",
       "      <td>NaN</td>\n",
       "      <td>0.0</td>\n",
       "      <td>0.0</td>\n",
       "      <td>0.0</td>\n",
       "      <td>0.0</td>\n",
       "      <td>NaN</td>\n",
       "      <td>0.0</td>\n",
       "      <td>0.0</td>\n",
       "      <td>0.0</td>\n",
       "      <td>0.0</td>\n",
       "    </tr>\n",
       "  </tbody>\n",
       "</table>\n",
       "<p>5 rows × 31 columns</p>\n",
       "</div>"
      ],
      "text/plain": [
       "                    record_id  station_number  mean_global  min_global  \\\n",
       "date_time                                                                \n",
       "1994-10-27 00:00:00         l           23034          0.0         0.0   \n",
       "1994-10-27 00:01:00         l           23034          0.0         0.0   \n",
       "1994-10-27 00:02:00         l           23034          0.0         0.0   \n",
       "1994-10-27 00:03:00         l           23034          0.0         0.0   \n",
       "1994-10-27 00:04:00         l           23034          0.0         0.0   \n",
       "\n",
       "                     max_global  sd_global  uncert_mean_global  mean_direct  \\\n",
       "date_time                                                                     \n",
       "1994-10-27 00:00:00         0.0        0.0                 NaN          0.0   \n",
       "1994-10-27 00:01:00         0.0        0.0                 NaN          0.0   \n",
       "1994-10-27 00:02:00         0.0        0.0                 NaN          0.0   \n",
       "1994-10-27 00:03:00         0.0        0.0                 NaN          0.0   \n",
       "1994-10-27 00:04:00         0.0        0.0                 NaN          0.0   \n",
       "\n",
       "                     min_direct  max_direct     ...       uncert_mean_terr  \\\n",
       "date_time                                       ...                          \n",
       "1994-10-27 00:00:00         NaN         0.0     ...                    NaN   \n",
       "1994-10-27 00:01:00         NaN         0.0     ...                    NaN   \n",
       "1994-10-27 00:02:00         NaN         0.0     ...                    NaN   \n",
       "1994-10-27 00:03:00         NaN         0.0     ...                    NaN   \n",
       "1994-10-27 00:04:00         NaN         0.0     ...                    NaN   \n",
       "\n",
       "                     mean_dir_horiz  min_dir_horiz  max_dir_horiz  \\\n",
       "date_time                                                           \n",
       "1994-10-27 00:00:00             0.0            0.0            0.0   \n",
       "1994-10-27 00:01:00             0.0            0.0            0.0   \n",
       "1994-10-27 00:02:00             0.0            0.0            0.0   \n",
       "1994-10-27 00:03:00             0.0            0.0            0.0   \n",
       "1994-10-27 00:04:00             0.0            0.0            0.0   \n",
       "\n",
       "                     sd_dir_horiz  uncert_dir_horiz  sunsh_sec_96  \\\n",
       "date_time                                                           \n",
       "1994-10-27 00:00:00           0.0               NaN           0.0   \n",
       "1994-10-27 00:01:00           0.0               NaN           0.0   \n",
       "1994-10-27 00:02:00           0.0               NaN           0.0   \n",
       "1994-10-27 00:03:00           0.0               NaN           0.0   \n",
       "1994-10-27 00:04:00           0.0               NaN           0.0   \n",
       "\n",
       "                     sunsh_sec_120  sunsh_sec_144  zenith_dist  \n",
       "date_time                                                       \n",
       "1994-10-27 00:00:00            0.0            0.0          0.0  \n",
       "1994-10-27 00:01:00            0.0            0.0          0.0  \n",
       "1994-10-27 00:02:00            0.0            0.0          0.0  \n",
       "1994-10-27 00:03:00            0.0            0.0          0.0  \n",
       "1994-10-27 00:04:00            0.0            0.0          0.0  \n",
       "\n",
       "[5 rows x 31 columns]"
      ]
     },
     "execution_count": 5,
     "metadata": {},
     "output_type": "execute_result"
    }
   ],
   "source": [
    "# Merge into a single dataframe\n",
    "PV = pd.concat(PV.values())\n",
    "PV.head()"
   ]
  },
  {
   "cell_type": "code",
   "execution_count": 6,
   "metadata": {},
   "outputs": [],
   "source": [
    "# Drop unused columns\n",
    "use_cols = ['mean_dir_horiz','mean_diffuse']\n",
    "PV = PV[use_cols]"
   ]
  },
  {
   "cell_type": "code",
   "execution_count": 7,
   "metadata": {},
   "outputs": [
    {
     "data": {
      "text/html": [
       "<div>\n",
       "<style scoped>\n",
       "    .dataframe tbody tr th:only-of-type {\n",
       "        vertical-align: middle;\n",
       "    }\n",
       "\n",
       "    .dataframe tbody tr th {\n",
       "        vertical-align: top;\n",
       "    }\n",
       "\n",
       "    .dataframe thead th {\n",
       "        text-align: right;\n",
       "    }\n",
       "</style>\n",
       "<table border=\"1\" class=\"dataframe\">\n",
       "  <thead>\n",
       "    <tr style=\"text-align: right;\">\n",
       "      <th></th>\n",
       "      <th>mean_dir_horiz</th>\n",
       "      <th>mean_diffuse</th>\n",
       "    </tr>\n",
       "    <tr>\n",
       "      <th>date_time</th>\n",
       "      <th></th>\n",
       "      <th></th>\n",
       "    </tr>\n",
       "  </thead>\n",
       "  <tbody>\n",
       "    <tr>\n",
       "      <th>1994-10-27 00:00:00</th>\n",
       "      <td>0.0</td>\n",
       "      <td>0.0</td>\n",
       "    </tr>\n",
       "    <tr>\n",
       "      <th>1994-10-27 00:01:00</th>\n",
       "      <td>0.0</td>\n",
       "      <td>0.0</td>\n",
       "    </tr>\n",
       "    <tr>\n",
       "      <th>1994-10-27 00:02:00</th>\n",
       "      <td>0.0</td>\n",
       "      <td>0.0</td>\n",
       "    </tr>\n",
       "    <tr>\n",
       "      <th>1994-10-27 00:03:00</th>\n",
       "      <td>0.0</td>\n",
       "      <td>0.0</td>\n",
       "    </tr>\n",
       "    <tr>\n",
       "      <th>1994-10-27 00:04:00</th>\n",
       "      <td>0.0</td>\n",
       "      <td>0.0</td>\n",
       "    </tr>\n",
       "  </tbody>\n",
       "</table>\n",
       "</div>"
      ],
      "text/plain": [
       "                     mean_dir_horiz  mean_diffuse\n",
       "date_time                                        \n",
       "1994-10-27 00:00:00             0.0           0.0\n",
       "1994-10-27 00:01:00             0.0           0.0\n",
       "1994-10-27 00:02:00             0.0           0.0\n",
       "1994-10-27 00:03:00             0.0           0.0\n",
       "1994-10-27 00:04:00             0.0           0.0"
      ]
     },
     "execution_count": 7,
     "metadata": {},
     "output_type": "execute_result"
    }
   ],
   "source": [
    "PV.head()"
   ]
  },
  {
   "cell_type": "code",
   "execution_count": 8,
   "metadata": {},
   "outputs": [],
   "source": [
    "# Create Global Horizontal Irradiance ('GHI') variable\n",
    "PV['GHI'] = PV['mean_dir_horiz'] + PV['mean_diffuse']"
   ]
  },
  {
   "cell_type": "code",
   "execution_count": 9,
   "metadata": {},
   "outputs": [
    {
     "data": {
      "text/plain": [
       "mean_dir_horiz    1027191\n",
       "mean_diffuse       311332\n",
       "GHI               1098650\n",
       "dtype: int64"
      ]
     },
     "execution_count": 9,
     "metadata": {},
     "output_type": "execute_result"
    }
   ],
   "source": [
    "# Check for missing data (where there is a timestamp but no measurement of mean_dir_horiz, mean_diffuse or GHI).\n",
    "np.isnan(PV).sum()"
   ]
  },
  {
   "cell_type": "code",
   "execution_count": 10,
   "metadata": {},
   "outputs": [
    {
     "data": {
      "text/plain": [
       "0"
      ]
     },
     "execution_count": 10,
     "metadata": {},
     "output_type": "execute_result"
    }
   ],
   "source": [
    "# Check for duplicate timestamps\n",
    "PV.index.duplicated().sum()"
   ]
  },
  {
   "cell_type": "code",
   "execution_count": 11,
   "metadata": {},
   "outputs": [
    {
     "data": {
      "text/plain": [
       "12192480"
      ]
     },
     "execution_count": 11,
     "metadata": {},
     "output_type": "execute_result"
    }
   ],
   "source": [
    "# How many minutes should there be if there are continuous minute timestamps\n",
    "# between the minimum and maximum in each year?\n",
    "def expected_minutes():\n",
    "    return(int((PV.iloc[-1].name - PV.iloc[0].name).total_seconds() / 60 + 1))\n",
    "expected_minutes()"
   ]
  },
  {
   "cell_type": "code",
   "execution_count": 12,
   "metadata": {},
   "outputs": [
    {
     "data": {
      "text/plain": [
       "9410250"
      ]
     },
     "execution_count": 12,
     "metadata": {},
     "output_type": "execute_result"
    }
   ],
   "source": [
    "# How many timestamps are there actually in the datasets?\n",
    "len(PV)"
   ]
  },
  {
   "cell_type": "code",
   "execution_count": 13,
   "metadata": {},
   "outputs": [
    {
     "data": {
      "text/plain": [
       "2782230"
      ]
     },
     "execution_count": 13,
     "metadata": {},
     "output_type": "execute_result"
    }
   ],
   "source": [
    "# How many timestamps are missing throughout each year\n",
    "expected_minutes() - len(PV)"
   ]
  },
  {
   "cell_type": "code",
   "execution_count": 14,
   "metadata": {},
   "outputs": [],
   "source": [
    "# Resample using the same frequency to ensure continuous time series\n",
    "PV = PV.resample('T').mean()"
   ]
  },
  {
   "cell_type": "code",
   "execution_count": 15,
   "metadata": {},
   "outputs": [
    {
     "data": {
      "text/plain": [
       "0"
      ]
     },
     "execution_count": 15,
     "metadata": {},
     "output_type": "execute_result"
    }
   ],
   "source": [
    "# Check again for missing timestamps\n",
    "expected_minutes() - len(PV)"
   ]
  },
  {
   "cell_type": "code",
   "execution_count": 16,
   "metadata": {},
   "outputs": [],
   "source": [
    "# Create variables for grouping data\n",
    "PV['year'] = PV.index.year\n",
    "PV['month_day'] = list(zip(PV.index.month,PV.index.day))\n",
    "PV['time_of_day'] = PV.index.time"
   ]
  },
  {
   "cell_type": "markdown",
   "metadata": {},
   "source": [
    "Use Panda's multi-index to group dataframes by `month_day`, then `time_of_day`.  Check that each day has a reasonable sample size, then take the maximum. If at least one of the minutes of the day in each of the years was sunny then this should represent the clear sky maximum, although it could be higher if there is reflection from clouds."
   ]
  },
  {
   "cell_type": "code",
   "execution_count": 17,
   "metadata": {},
   "outputs": [],
   "source": [
    "PV_clear_sky = PV.groupby(['month_day','time_of_day'])['GHI'].max()"
   ]
  },
  {
   "cell_type": "code",
   "execution_count": 18,
   "metadata": {},
   "outputs": [
    {
     "data": {
      "text/plain": [
       "month_day  time_of_day\n",
       "(1, 1)     00:00:00       0.0\n",
       "           00:01:00       0.0\n",
       "           00:02:00       0.0\n",
       "           00:03:00       0.0\n",
       "           00:04:00       0.0\n",
       "Name: GHI, dtype: float64"
      ]
     },
     "execution_count": 18,
     "metadata": {},
     "output_type": "execute_result"
    }
   ],
   "source": [
    "PV_clear_sky.head()"
   ]
  },
  {
   "cell_type": "code",
   "execution_count": 19,
   "metadata": {},
   "outputs": [
    {
     "data": {
      "image/png": "[encoded data removed]",
      "text/plain": [
       "<matplotlib.figure.Figure at 0x22945b7add8>"
      ]
     },
     "metadata": {},
     "output_type": "display_data"
    }
   ],
   "source": [
    "plt.plot(PV_clear_sky[(1,1)]); # 1 January"
   ]
  },
  {
   "cell_type": "code",
   "execution_count": 20,
   "metadata": {},
   "outputs": [
    {
     "data": {
      "image/png": "[encoded data removed]",
      "text/plain": [
       "<matplotlib.figure.Figure at 0x22a5f55fda0>"
      ]
     },
     "metadata": {},
     "output_type": "display_data"
    }
   ],
   "source": [
    "plt.plot(PV_clear_sky[(1,4)]); # 1 April"
   ]
  },
  {
   "cell_type": "code",
   "execution_count": 21,
   "metadata": {},
   "outputs": [
    {
     "data": {
      "image/png": "[encoded data removed]",
      "text/plain": [
       "<matplotlib.figure.Figure at 0x22a5f59b630>"
      ]
     },
     "metadata": {},
     "output_type": "display_data"
    }
   ],
   "source": [
    "plt.plot(PV_clear_sky[(1,7)]); # 1 July"
   ]
  },
  {
   "cell_type": "code",
   "execution_count": 22,
   "metadata": {},
   "outputs": [
    {
     "data": {
      "image/png": "[encoded data removed]",
      "text/plain": [
       "<matplotlib.figure.Figure at 0x22a5f6225c0>"
      ]
     },
     "metadata": {},
     "output_type": "display_data"
    }
   ],
   "source": [
    "plt.plot(PV_clear_sky[(10,1)]); # 1 October"
   ]
  },
  {
   "cell_type": "code",
   "execution_count": 23,
   "metadata": {},
   "outputs": [
    {
     "data": {
      "image/png": "[encoded data removed]",
      "text/plain": [
       "<matplotlib.figure.Figure at 0x22945b6e668>"
      ]
     },
     "metadata": {},
     "output_type": "display_data"
    }
   ],
   "source": [
    "plt.plot(PV_clear_sky.values); # Trend across the year"
   ]
  },
  {
   "cell_type": "markdown",
   "metadata": {},
   "source": [
    "Add a timestamp field"
   ]
  },
  {
   "cell_type": "code",
   "execution_count": 24,
   "metadata": {},
   "outputs": [],
   "source": [
    "PV_clear_sky = pd.DataFrame(PV_clear_sky)\n",
    "PV_clear_sky['t'] = range(1,len(PV_clear_sky)+1)"
   ]
  },
  {
   "cell_type": "code",
   "execution_count": 25,
   "metadata": {},
   "outputs": [
    {
     "data": {
      "text/html": [
       "<div>\n",
       "<style scoped>\n",
       "    .dataframe tbody tr th:only-of-type {\n",
       "        vertical-align: middle;\n",
       "    }\n",
       "\n",
       "    .dataframe tbody tr th {\n",
       "        vertical-align: top;\n",
       "    }\n",
       "\n",
       "    .dataframe thead th {\n",
       "        text-align: right;\n",
       "    }\n",
       "</style>\n",
       "<table border=\"1\" class=\"dataframe\">\n",
       "  <thead>\n",
       "    <tr style=\"text-align: right;\">\n",
       "      <th></th>\n",
       "      <th></th>\n",
       "      <th>GHI</th>\n",
       "      <th>t</th>\n",
       "    </tr>\n",
       "    <tr>\n",
       "      <th>month_day</th>\n",
       "      <th>time_of_day</th>\n",
       "      <th></th>\n",
       "      <th></th>\n",
       "    </tr>\n",
       "  </thead>\n",
       "  <tbody>\n",
       "    <tr>\n",
       "      <th rowspan=\"5\" valign=\"top\">(1, 1)</th>\n",
       "      <th>00:00:00</th>\n",
       "      <td>0.0</td>\n",
       "      <td>1</td>\n",
       "    </tr>\n",
       "    <tr>\n",
       "      <th>00:01:00</th>\n",
       "      <td>0.0</td>\n",
       "      <td>2</td>\n",
       "    </tr>\n",
       "    <tr>\n",
       "      <th>00:02:00</th>\n",
       "      <td>0.0</td>\n",
       "      <td>3</td>\n",
       "    </tr>\n",
       "    <tr>\n",
       "      <th>00:03:00</th>\n",
       "      <td>0.0</td>\n",
       "      <td>4</td>\n",
       "    </tr>\n",
       "    <tr>\n",
       "      <th>00:04:00</th>\n",
       "      <td>0.0</td>\n",
       "      <td>5</td>\n",
       "    </tr>\n",
       "  </tbody>\n",
       "</table>\n",
       "</div>"
      ],
      "text/plain": [
       "                       GHI  t\n",
       "month_day time_of_day        \n",
       "(1, 1)    00:00:00     0.0  1\n",
       "          00:01:00     0.0  2\n",
       "          00:02:00     0.0  3\n",
       "          00:03:00     0.0  4\n",
       "          00:04:00     0.0  5"
      ]
     },
     "execution_count": 25,
     "metadata": {},
     "output_type": "execute_result"
    }
   ],
   "source": [
    "PV_clear_sky.head()"
   ]
  },
  {
   "cell_type": "markdown",
   "metadata": {},
   "source": [
    "### Investigate the Power Spectrum"
   ]
  },
  {
   "cell_type": "code",
   "execution_count": null,
   "metadata": {},
   "outputs": [],
   "source": [
    "def power_spectrum(dat,freq_num):\n",
    "    return(Null)\n",
    "    # for each frequency to be graphed\n",
    "        # set s1, s2 and s0 to be zero\n",
    "        # for each timestamp\n",
    "            # set s0 to be the timestamp\n",
    "        # Set the first frequency to be zero\n",
    "        # Set the first frequency to be the timestamp divided by the number of values\n",
    "        # for each frequency except the first\n",
    "            # power\n",
    "            "
   ]
  },
  {
   "cell_type": "code",
   "execution_count": null,
   "metadata": {},
   "outputs": [],
   "source": [
    "# Not yet complete (used John's Excel version instead)"
   ]
  },
  {
   "cell_type": "markdown",
   "metadata": {},
   "source": [
    "### Build a Fourier Model"
   ]
  },
  {
   "cell_type": "code",
   "execution_count": 26,
   "metadata": {},
   "outputs": [
    {
     "data": {
      "text/plain": [
       "[0.004363323129985824, 1.1921647896136131e-05, 5.960823948068066e-06]"
      ]
     },
     "execution_count": 26,
     "metadata": {},
     "output_type": "execute_result"
    }
   ],
   "source": [
    "# Set frequencies\n",
    "f1 = 2*np.pi/60/24 \n",
    "f2 = (1/366)*2*np.pi/60/24\n",
    "f3 = (1/732)*2*np.pi/60/24\n",
    "\n",
    "freqs = [f1,f2,f3]\n",
    "freqs"
   ]
  },
  {
   "cell_type": "markdown",
   "metadata": {},
   "source": [
    "Creates a matrix where each column is the individual effect of the sine and cosine for each given frequency at each given timestamp. The row sum is the cumululative effect of all frequencies at each timestamp."
   ]
  },
  {
   "cell_type": "code",
   "execution_count": 27,
   "metadata": {},
   "outputs": [],
   "source": [
    "def fourier_terms(time_stamp,*args):\n",
    "    M = np.empty(shape=(len(time_stamp),len(args)*2))\n",
    "    freq_names = []\n",
    "    for index,f in enumerate(args):\n",
    "        M[:,2*index  ] = np.cos(f * time_stamp)\n",
    "        M[:,2*index+1] = np.sin(f * time_stamp)\n",
    "        freq_names.append('f'+str(index+1)+'_cos')\n",
    "        freq_names.append('f'+str(index+1)+'_sin')\n",
    "    return([M,freq_names])"
   ]
  },
  {
   "cell_type": "markdown",
   "metadata": {},
   "source": [
    "Apply to our timestamps, creating a set of predictor variables."
   ]
  },
  {
   "cell_type": "code",
   "execution_count": 28,
   "metadata": {},
   "outputs": [],
   "source": [
    "X,X_names = fourier_terms(PV_clear_sky.t,*freqs)\n",
    "X = pd.DataFrame(X, columns=X_names, index=PV_clear_sky.index)"
   ]
  },
  {
   "cell_type": "markdown",
   "metadata": {},
   "source": [
    "A more natural fit, with fewer parameters, should be possible if the sine/cosine waves in the fitted Fourier model are permitted to go negative at night time. This is achieved by censoring those observed values at zero, i.e. changing them to be missing in the training data."
   ]
  },
  {
   "cell_type": "code",
   "execution_count": 34,
   "metadata": {},
   "outputs": [],
   "source": [
    "PV_clear_sky.replace([0], np.NaN, inplace=True)"
   ]
  },
  {
   "cell_type": "markdown",
   "metadata": {},
   "source": [
    "Merge the predictors and the outcome variable into a single dataframe for modelling."
   ]
  },
  {
   "cell_type": "code",
   "execution_count": 35,
   "metadata": {},
   "outputs": [],
   "source": [
    "model_data = pd.concat([PV_clear_sky.GHI, X], axis=1)\n",
    "model_data = model_data.dropna()"
   ]
  },
  {
   "cell_type": "markdown",
   "metadata": {},
   "source": [
    "Fit a multiple linear regression model"
   ]
  },
  {
   "cell_type": "code",
   "execution_count": 36,
   "metadata": {},
   "outputs": [],
   "source": [
    "lm = linear_model.LinearRegression()\n",
    "model = lm.fit(model_data[['f1_cos','f1_sin',\n",
    "                           'f2_cos','f2_sin',\n",
    "                           'f3_cos','f3_sin']], model_data.GHI)"
   ]
  },
  {
   "cell_type": "code",
   "execution_count": 38,
   "metadata": {},
   "outputs": [
    {
     "data": {
      "text/plain": [
       "array([-919.76838694,  -72.4199686 ,  351.55401517,  -49.20920082,\n",
       "          1.06530562,  166.1226967 ])"
      ]
     },
     "execution_count": 38,
     "metadata": {},
     "output_type": "execute_result"
    }
   ],
   "source": [
    "model.coef_ # Fitted coefficients"
   ]
  },
  {
   "cell_type": "code",
   "execution_count": 39,
   "metadata": {},
   "outputs": [
    {
     "data": {
      "text/plain": [
       "0.9654681907047726"
      ]
     },
     "execution_count": 39,
     "metadata": {},
     "output_type": "execute_result"
    }
   ],
   "source": [
    "# R-squared - not bad!\n",
    "lm.score(model_data[['f1_cos','f1_sin',\n",
    "                           'f2_cos','f2_sin',\n",
    "                           'f3_cos','f3_sin']],model_data.GHI)"
   ]
  },
  {
   "cell_type": "markdown",
   "metadata": {},
   "source": [
    "Apply the model to our timestamps to get the predictions"
   ]
  },
  {
   "cell_type": "code",
   "execution_count": 42,
   "metadata": {},
   "outputs": [],
   "source": [
    "PV_clear_sky['pred'] = model.predict(X)"
   ]
  },
  {
   "cell_type": "markdown",
   "metadata": {},
   "source": [
    "Replace all negative predictions with zero"
   ]
  },
  {
   "cell_type": "code",
   "execution_count": 43,
   "metadata": {},
   "outputs": [],
   "source": [
    "PV_clear_sky[PV_clear_sky['pred'] < 0] = 0"
   ]
  },
  {
   "cell_type": "markdown",
   "metadata": {},
   "source": [
    "### Compare the fit to the data"
   ]
  },
  {
   "cell_type": "code",
   "execution_count": 71,
   "metadata": {},
   "outputs": [
    {
     "data": {
      "image/png": "[encoded data removed]",
      "text/plain": [
       "<matplotlib.figure.Figure at 0x22a620c7898>"
      ]
     },
     "metadata": {},
     "output_type": "display_data"
    }
   ],
   "source": [
    "# First 5 days of January\n",
    "plt.plot(PV_clear_sky.iloc[0:7200,:]['GHI'].values, 'b-', label='data')\n",
    "plt.plot(PV_clear_sky.iloc[0:7200,:]['pred'].values, 'r-', label='fit')\n",
    "plt.legend(loc=1)\n",
    "plt.show();"
   ]
  },
  {
   "cell_type": "code",
   "execution_count": 54,
   "metadata": {},
   "outputs": [
    {
     "data": {
      "image/png": "[encoded data removed]",
      "text/plain": [
       "<matplotlib.figure.Figure at 0x22a617b3978>"
      ]
     },
     "metadata": {},
     "output_type": "display_data"
    }
   ],
   "source": [
    "# First 5 days of April\n",
    "plt.plot(PV_clear_sky.iloc[131040:138240,:]['GHI'].values, 'b-', label='data')\n",
    "plt.plot(PV_clear_sky.iloc[131040:138240,:]['pred'].values, 'r-', label='fit')\n",
    "plt.legend(loc=1)\n",
    "plt.show;"
   ]
  },
  {
   "cell_type": "code",
   "execution_count": 53,
   "metadata": {},
   "outputs": [
    {
     "data": {
      "image/png": "[encoded data removed]",
      "text/plain": [
       "<matplotlib.figure.Figure at 0x22a61fc0e80>"
      ]
     },
     "metadata": {},
     "output_type": "display_data"
    }
   ],
   "source": [
    "# First 5 days of July\n",
    "plt.plot(PV_clear_sky.iloc[262080:269280,:]['GHI'].values, 'b-', label='data')\n",
    "plt.plot(PV_clear_sky.iloc[262080:269280,:]['pred'].values, 'r-', label='fit')\n",
    "plt.legend(loc=1)\n",
    "plt.show;"
   ]
  },
  {
   "cell_type": "code",
   "execution_count": 55,
   "metadata": {},
   "outputs": [
    {
     "data": {
      "image/png": "[encoded data removed]",
      "text/plain": [
       "<matplotlib.figure.Figure at 0x22a5f565128>"
      ]
     },
     "metadata": {},
     "output_type": "display_data"
    }
   ],
   "source": [
    "# First 5 days of October\n",
    "plt.plot(PV_clear_sky.iloc[394560:401760,:]['GHI'].values, 'b-', label='data')\n",
    "plt.plot(PV_clear_sky.iloc[394560:401760,:]['pred'].values, 'r-', label='fit')\n",
    "plt.legend(loc=1)\n",
    "plt.show;"
   ]
  },
  {
   "cell_type": "code",
   "execution_count": 65,
   "metadata": {},
   "outputs": [
    {
     "data": {
      "image/png": "[encoded data removed]",
      "text/plain": [
       "<matplotlib.figure.Figure at 0x22944873128>"
      ]
     },
     "metadata": {},
     "output_type": "display_data"
    }
   ],
   "source": [
    "plt.plot(PV_clear_sky.iloc[:,:]['GHI'].values, 'b-', label='data')\n",
    "plt.plot(PV_clear_sky.iloc[:,:]['pred'].values, 'r-', label='fit')\n",
    "plt.legend(loc=0)\n",
    "plt.show;"
   ]
  },
  {
   "cell_type": "markdown",
   "metadata": {},
   "source": [
    "__Next steps__\n",
    "\n",
    "* complete power spectrum check in Python\n",
    "* replicate results using John's suggested normal equations?\n",
    "* run quantile regression on the lowest quartile"
   ]
  },
  {
   "cell_type": "code",
   "execution_count": null,
   "metadata": {
    "scrolled": true
   },
   "outputs": [],
   "source": [
    "model.get_params()"
   ]
  },
  {
   "cell_type": "markdown",
   "metadata": {},
   "source": [
    "### Fit to the minimum of the maximum values using quantile regression."
   ]
  },
  {
   "cell_type": "code",
   "execution_count": null,
   "metadata": {},
   "outputs": [],
   "source": [
    "data = pd.concat([PV_clear_sky,X], axis=1)"
   ]
  },
  {
   "cell_type": "code",
   "execution_count": null,
   "metadata": {},
   "outputs": [],
   "source": [
    "data.head()"
   ]
  },
  {
   "cell_type": "code",
   "execution_count": null,
   "metadata": {},
   "outputs": [],
   "source": [
    "mod = smf.quantreg('GHI ~ f1_cos + f1_sin + f2_cos + f2_sin + f3_cos + f3_sin', data)"
   ]
  },
  {
   "cell_type": "code",
   "execution_count": null,
   "metadata": {},
   "outputs": [],
   "source": [
    "res = mod.fit(q=0.001)\n",
    "print(res.summary())"
   ]
  },
  {
   "cell_type": "code",
   "execution_count": null,
   "metadata": {},
   "outputs": [],
   "source": [
    "res.params"
   ]
  }
 ],
 "metadata": {
  "kernelspec": {
   "display_name": "Python 3",
   "language": "python",
   "name": "python3"
  },
  "language_info": {
   "codemirror_mode": {
    "name": "ipython",
    "version": 3
   },
   "file_extension": ".py",
   "mimetype": "text/x-python",
   "name": "python",
   "nbconvert_exporter": "python",
   "pygments_lexer": "ipython3",
   "version": "3.6.4"
  }
 },
 "nbformat": 4,
 "nbformat_minor": 2
}
