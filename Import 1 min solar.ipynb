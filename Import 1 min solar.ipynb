{
 "cells": [
  {
   "cell_type": "markdown",
   "metadata": {},
   "source": [
    "## Import files from the Australian one-minute solar radiation data"
   ]
  },
  {
   "cell_type": "markdown",
   "metadata": {},
   "source": [
    "The Product Notes (IDCJAC0022) indicate that the data is in a fixed width format, rather than delimited.  The notes provide mode detailed explanation of each variable"
   ]
  },
  {
   "cell_type": "code",
   "execution_count": 11,
   "metadata": {},
   "outputs": [],
   "source": [
    "# Change path as required\n",
    "import os\n",
    "os.chdir(\"C:\\\\Users\\\\Andrew\\\\Desktop\\\\Capstone Professional Project\")"
   ]
  },
  {
   "cell_type": "code",
   "execution_count": 12,
   "metadata": {},
   "outputs": [],
   "source": [
    "import pandas as pd\n",
    "\n",
    "colspec = [(1,2), (3,9), (10,14), (15,17), (18,20), (21,23), (24,26), \n",
    "           (27,34), (35,42), (43,50), (51,58), (59,66), \n",
    "           (67,74), (75,82), (83,90), (91,98), (99,106), \n",
    "           (107,114), (115,122), (123,130), (131,138), (139,146), \n",
    "           (147,154), (155,162), (163,170), (171,178), (179,186), \n",
    "           (187,194), (195,202), (203,210), (211, 218), (219,226), \n",
    "           (227,232), (233,238), (239,244), (245,252)]\n",
    "\n",
    "headers = ['record_id', 'station_number', 'yr', 'mth', 'day', 'hr', 'mnt', \n",
    "          'mean_global', 'min_global', 'max_global', 'sd_global', 'uncert_mean_global',\n",
    "          'mean_direct', 'min_direct', 'max_direct', 'sd_direct', 'uncert_mean_direct',\n",
    "          'mean_diffuse', 'min_diffuse', 'max_diffuse', 'sd_diffuse', 'uncert_mean_diffuse',\n",
    "          'mean_terr', 'min_terr', 'max_terr', 'sd_terr', 'uncert_mean_terr',\n",
    "          'mean_dir_horiz', 'min_dir_horiz', 'max_dir_horiz', 'sd_dir_horiz', 'uncert_dir_horiz',\n",
    "          'sunsh_sec_96', 'sunsh_sec_120', 'sunsh_sec_144', 'zenith_dist']"
   ]
  },
  {
   "cell_type": "code",
   "execution_count": 13,
   "metadata": {},
   "outputs": [],
   "source": [
    "def load_1_sec_solar(path):\n",
    "    return pd.read_fwf(path, colspecs=colspec, names=headers, index_col=False, skiprows=[0])"
   ]
  },
  {
   "cell_type": "code",
   "execution_count": 14,
   "metadata": {},
   "outputs": [],
   "source": [
    "# Example file\n",
    "example = load_1_sec_solar('sl_023034_2018_05.txt')"
   ]
  },
  {
   "cell_type": "code",
   "execution_count": 15,
   "metadata": {},
   "outputs": [
    {
     "data": {
      "text/html": [
       "<div>\n",
       "<style scoped>\n",
       "    .dataframe tbody tr th:only-of-type {\n",
       "        vertical-align: middle;\n",
       "    }\n",
       "\n",
       "    .dataframe tbody tr th {\n",
       "        vertical-align: top;\n",
       "    }\n",
       "\n",
       "    .dataframe thead th {\n",
       "        text-align: right;\n",
       "    }\n",
       "</style>\n",
       "<table border=\"1\" class=\"dataframe\">\n",
       "  <thead>\n",
       "    <tr style=\"text-align: right;\">\n",
       "      <th></th>\n",
       "      <th>record_id</th>\n",
       "      <th>station_number</th>\n",
       "      <th>yr</th>\n",
       "      <th>mth</th>\n",
       "      <th>day</th>\n",
       "      <th>hr</th>\n",
       "      <th>mnt</th>\n",
       "      <th>mean_global</th>\n",
       "      <th>min_global</th>\n",
       "      <th>max_global</th>\n",
       "      <th>...</th>\n",
       "      <th>uncert_mean_terr</th>\n",
       "      <th>mean_dir_horiz</th>\n",
       "      <th>min_dir_horiz</th>\n",
       "      <th>max_dir_horiz</th>\n",
       "      <th>sd_dir_horiz</th>\n",
       "      <th>uncert_dir_horiz</th>\n",
       "      <th>sunsh_sec_96</th>\n",
       "      <th>sunsh_sec_120</th>\n",
       "      <th>sunsh_sec_144</th>\n",
       "      <th>zenith_dist</th>\n",
       "    </tr>\n",
       "  </thead>\n",
       "  <tbody>\n",
       "    <tr>\n",
       "      <th>0</th>\n",
       "      <td>l</td>\n",
       "      <td>23034</td>\n",
       "      <td>2018</td>\n",
       "      <td>5</td>\n",
       "      <td>1</td>\n",
       "      <td>0</td>\n",
       "      <td>0</td>\n",
       "      <td>0.0</td>\n",
       "      <td>0.0</td>\n",
       "      <td>0.0</td>\n",
       "      <td>...</td>\n",
       "      <td>4.61</td>\n",
       "      <td>0.0</td>\n",
       "      <td>0.0</td>\n",
       "      <td>0.0</td>\n",
       "      <td>0.0</td>\n",
       "      <td>NaN</td>\n",
       "      <td>0</td>\n",
       "      <td>0</td>\n",
       "      <td>0</td>\n",
       "      <td>0.0</td>\n",
       "    </tr>\n",
       "    <tr>\n",
       "      <th>1</th>\n",
       "      <td>l</td>\n",
       "      <td>23034</td>\n",
       "      <td>2018</td>\n",
       "      <td>5</td>\n",
       "      <td>1</td>\n",
       "      <td>0</td>\n",
       "      <td>1</td>\n",
       "      <td>0.0</td>\n",
       "      <td>0.0</td>\n",
       "      <td>0.0</td>\n",
       "      <td>...</td>\n",
       "      <td>4.58</td>\n",
       "      <td>0.0</td>\n",
       "      <td>0.0</td>\n",
       "      <td>0.0</td>\n",
       "      <td>0.0</td>\n",
       "      <td>NaN</td>\n",
       "      <td>0</td>\n",
       "      <td>0</td>\n",
       "      <td>0</td>\n",
       "      <td>0.0</td>\n",
       "    </tr>\n",
       "    <tr>\n",
       "      <th>2</th>\n",
       "      <td>l</td>\n",
       "      <td>23034</td>\n",
       "      <td>2018</td>\n",
       "      <td>5</td>\n",
       "      <td>1</td>\n",
       "      <td>0</td>\n",
       "      <td>2</td>\n",
       "      <td>0.0</td>\n",
       "      <td>0.0</td>\n",
       "      <td>0.0</td>\n",
       "      <td>...</td>\n",
       "      <td>4.56</td>\n",
       "      <td>0.0</td>\n",
       "      <td>0.0</td>\n",
       "      <td>0.0</td>\n",
       "      <td>0.0</td>\n",
       "      <td>NaN</td>\n",
       "      <td>0</td>\n",
       "      <td>0</td>\n",
       "      <td>0</td>\n",
       "      <td>0.0</td>\n",
       "    </tr>\n",
       "    <tr>\n",
       "      <th>3</th>\n",
       "      <td>l</td>\n",
       "      <td>23034</td>\n",
       "      <td>2018</td>\n",
       "      <td>5</td>\n",
       "      <td>1</td>\n",
       "      <td>0</td>\n",
       "      <td>3</td>\n",
       "      <td>0.0</td>\n",
       "      <td>0.0</td>\n",
       "      <td>0.0</td>\n",
       "      <td>...</td>\n",
       "      <td>4.52</td>\n",
       "      <td>0.0</td>\n",
       "      <td>0.0</td>\n",
       "      <td>0.0</td>\n",
       "      <td>0.0</td>\n",
       "      <td>NaN</td>\n",
       "      <td>0</td>\n",
       "      <td>0</td>\n",
       "      <td>0</td>\n",
       "      <td>0.0</td>\n",
       "    </tr>\n",
       "    <tr>\n",
       "      <th>4</th>\n",
       "      <td>l</td>\n",
       "      <td>23034</td>\n",
       "      <td>2018</td>\n",
       "      <td>5</td>\n",
       "      <td>1</td>\n",
       "      <td>0</td>\n",
       "      <td>4</td>\n",
       "      <td>0.0</td>\n",
       "      <td>0.0</td>\n",
       "      <td>0.0</td>\n",
       "      <td>...</td>\n",
       "      <td>4.54</td>\n",
       "      <td>0.0</td>\n",
       "      <td>0.0</td>\n",
       "      <td>0.0</td>\n",
       "      <td>0.0</td>\n",
       "      <td>NaN</td>\n",
       "      <td>0</td>\n",
       "      <td>0</td>\n",
       "      <td>0</td>\n",
       "      <td>0.0</td>\n",
       "    </tr>\n",
       "  </tbody>\n",
       "</table>\n",
       "<p>5 rows × 36 columns</p>\n",
       "</div>"
      ],
      "text/plain": [
       "  record_id  station_number    yr  mth  day  hr  mnt  mean_global  min_global  \\\n",
       "0         l           23034  2018    5    1   0    0          0.0         0.0   \n",
       "1         l           23034  2018    5    1   0    1          0.0         0.0   \n",
       "2         l           23034  2018    5    1   0    2          0.0         0.0   \n",
       "3         l           23034  2018    5    1   0    3          0.0         0.0   \n",
       "4         l           23034  2018    5    1   0    4          0.0         0.0   \n",
       "\n",
       "   max_global     ...       uncert_mean_terr  mean_dir_horiz  min_dir_horiz  \\\n",
       "0         0.0     ...                   4.61             0.0            0.0   \n",
       "1         0.0     ...                   4.58             0.0            0.0   \n",
       "2         0.0     ...                   4.56             0.0            0.0   \n",
       "3         0.0     ...                   4.52             0.0            0.0   \n",
       "4         0.0     ...                   4.54             0.0            0.0   \n",
       "\n",
       "   max_dir_horiz  sd_dir_horiz  uncert_dir_horiz  sunsh_sec_96  sunsh_sec_120  \\\n",
       "0            0.0           0.0               NaN             0              0   \n",
       "1            0.0           0.0               NaN             0              0   \n",
       "2            0.0           0.0               NaN             0              0   \n",
       "3            0.0           0.0               NaN             0              0   \n",
       "4            0.0           0.0               NaN             0              0   \n",
       "\n",
       "   sunsh_sec_144  zenith_dist  \n",
       "0              0          0.0  \n",
       "1              0          0.0  \n",
       "2              0          0.0  \n",
       "3              0          0.0  \n",
       "4              0          0.0  \n",
       "\n",
       "[5 rows x 36 columns]"
      ]
     },
     "execution_count": 15,
     "metadata": {},
     "output_type": "execute_result"
    }
   ],
   "source": [
    "example.head()"
   ]
  },
  {
   "cell_type": "code",
   "execution_count": 16,
   "metadata": {},
   "outputs": [],
   "source": [
    "# Consolidate time/date fields into one field\n",
    "import datetime\n",
    "import pytz"
   ]
  },
  {
   "cell_type": "code",
   "execution_count": 17,
   "metadata": {},
   "outputs": [],
   "source": [
    "x = example.iloc[24]"
   ]
  },
  {
   "cell_type": "code",
   "execution_count": 18,
   "metadata": {},
   "outputs": [
    {
     "data": {
      "text/plain": [
       "'2018-05-01T00:24:00+09:00'"
      ]
     },
     "execution_count": 18,
     "metadata": {},
     "output_type": "execute_result"
    }
   ],
   "source": [
    "# Do we need to record the time zone?\n",
    "\n",
    "timezone = pytz.timezone('Australia/Adelaide')\n",
    "y = datetime.datetime(x.yr, x.mth, x.day, x.hr, x.mnt, tzinfo=timezone).isoformat()\n",
    "y"
   ]
  },
  {
   "cell_type": "code",
   "execution_count": 19,
   "metadata": {},
   "outputs": [
    {
     "data": {
      "text/html": [
       "<div>\n",
       "<style scoped>\n",
       "    .dataframe tbody tr th:only-of-type {\n",
       "        vertical-align: middle;\n",
       "    }\n",
       "\n",
       "    .dataframe tbody tr th {\n",
       "        vertical-align: top;\n",
       "    }\n",
       "\n",
       "    .dataframe thead th {\n",
       "        text-align: right;\n",
       "    }\n",
       "</style>\n",
       "<table border=\"1\" class=\"dataframe\">\n",
       "  <thead>\n",
       "    <tr style=\"text-align: right;\">\n",
       "      <th></th>\n",
       "      <th>record_id</th>\n",
       "      <th>station_number</th>\n",
       "      <th>date_time</th>\n",
       "      <th>mean_global</th>\n",
       "      <th>min_global</th>\n",
       "      <th>max_global</th>\n",
       "      <th>sd_global</th>\n",
       "      <th>uncert_mean_global</th>\n",
       "      <th>mean_direct</th>\n",
       "      <th>min_direct</th>\n",
       "      <th>...</th>\n",
       "      <th>uncert_mean_terr</th>\n",
       "      <th>mean_dir_horiz</th>\n",
       "      <th>min_dir_horiz</th>\n",
       "      <th>max_dir_horiz</th>\n",
       "      <th>sd_dir_horiz</th>\n",
       "      <th>uncert_dir_horiz</th>\n",
       "      <th>sunsh_sec_96</th>\n",
       "      <th>sunsh_sec_120</th>\n",
       "      <th>sunsh_sec_144</th>\n",
       "      <th>zenith_dist</th>\n",
       "    </tr>\n",
       "  </thead>\n",
       "  <tbody>\n",
       "    <tr>\n",
       "      <th>0</th>\n",
       "      <td>l</td>\n",
       "      <td>23034</td>\n",
       "      <td>2018-05-01T00:00:00</td>\n",
       "      <td>0.0</td>\n",
       "      <td>0.0</td>\n",
       "      <td>0.0</td>\n",
       "      <td>0.0</td>\n",
       "      <td>NaN</td>\n",
       "      <td>0.0</td>\n",
       "      <td>NaN</td>\n",
       "      <td>...</td>\n",
       "      <td>4.61</td>\n",
       "      <td>0.0</td>\n",
       "      <td>0.0</td>\n",
       "      <td>0.0</td>\n",
       "      <td>0.0</td>\n",
       "      <td>NaN</td>\n",
       "      <td>0</td>\n",
       "      <td>0</td>\n",
       "      <td>0</td>\n",
       "      <td>0.0</td>\n",
       "    </tr>\n",
       "    <tr>\n",
       "      <th>1</th>\n",
       "      <td>l</td>\n",
       "      <td>23034</td>\n",
       "      <td>2018-05-01T00:01:00</td>\n",
       "      <td>0.0</td>\n",
       "      <td>0.0</td>\n",
       "      <td>0.0</td>\n",
       "      <td>0.0</td>\n",
       "      <td>NaN</td>\n",
       "      <td>0.0</td>\n",
       "      <td>NaN</td>\n",
       "      <td>...</td>\n",
       "      <td>4.58</td>\n",
       "      <td>0.0</td>\n",
       "      <td>0.0</td>\n",
       "      <td>0.0</td>\n",
       "      <td>0.0</td>\n",
       "      <td>NaN</td>\n",
       "      <td>0</td>\n",
       "      <td>0</td>\n",
       "      <td>0</td>\n",
       "      <td>0.0</td>\n",
       "    </tr>\n",
       "    <tr>\n",
       "      <th>2</th>\n",
       "      <td>l</td>\n",
       "      <td>23034</td>\n",
       "      <td>2018-05-01T00:02:00</td>\n",
       "      <td>0.0</td>\n",
       "      <td>0.0</td>\n",
       "      <td>0.0</td>\n",
       "      <td>0.0</td>\n",
       "      <td>NaN</td>\n",
       "      <td>0.0</td>\n",
       "      <td>NaN</td>\n",
       "      <td>...</td>\n",
       "      <td>4.56</td>\n",
       "      <td>0.0</td>\n",
       "      <td>0.0</td>\n",
       "      <td>0.0</td>\n",
       "      <td>0.0</td>\n",
       "      <td>NaN</td>\n",
       "      <td>0</td>\n",
       "      <td>0</td>\n",
       "      <td>0</td>\n",
       "      <td>0.0</td>\n",
       "    </tr>\n",
       "    <tr>\n",
       "      <th>3</th>\n",
       "      <td>l</td>\n",
       "      <td>23034</td>\n",
       "      <td>2018-05-01T00:03:00</td>\n",
       "      <td>0.0</td>\n",
       "      <td>0.0</td>\n",
       "      <td>0.0</td>\n",
       "      <td>0.0</td>\n",
       "      <td>NaN</td>\n",
       "      <td>0.0</td>\n",
       "      <td>NaN</td>\n",
       "      <td>...</td>\n",
       "      <td>4.52</td>\n",
       "      <td>0.0</td>\n",
       "      <td>0.0</td>\n",
       "      <td>0.0</td>\n",
       "      <td>0.0</td>\n",
       "      <td>NaN</td>\n",
       "      <td>0</td>\n",
       "      <td>0</td>\n",
       "      <td>0</td>\n",
       "      <td>0.0</td>\n",
       "    </tr>\n",
       "    <tr>\n",
       "      <th>4</th>\n",
       "      <td>l</td>\n",
       "      <td>23034</td>\n",
       "      <td>2018-05-01T00:04:00</td>\n",
       "      <td>0.0</td>\n",
       "      <td>0.0</td>\n",
       "      <td>0.0</td>\n",
       "      <td>0.0</td>\n",
       "      <td>NaN</td>\n",
       "      <td>0.0</td>\n",
       "      <td>NaN</td>\n",
       "      <td>...</td>\n",
       "      <td>4.54</td>\n",
       "      <td>0.0</td>\n",
       "      <td>0.0</td>\n",
       "      <td>0.0</td>\n",
       "      <td>0.0</td>\n",
       "      <td>NaN</td>\n",
       "      <td>0</td>\n",
       "      <td>0</td>\n",
       "      <td>0</td>\n",
       "      <td>0.0</td>\n",
       "    </tr>\n",
       "  </tbody>\n",
       "</table>\n",
       "<p>5 rows × 32 columns</p>\n",
       "</div>"
      ],
      "text/plain": [
       "  record_id  station_number            date_time  mean_global  min_global  \\\n",
       "0         l           23034  2018-05-01T00:00:00          0.0         0.0   \n",
       "1         l           23034  2018-05-01T00:01:00          0.0         0.0   \n",
       "2         l           23034  2018-05-01T00:02:00          0.0         0.0   \n",
       "3         l           23034  2018-05-01T00:03:00          0.0         0.0   \n",
       "4         l           23034  2018-05-01T00:04:00          0.0         0.0   \n",
       "\n",
       "   max_global  sd_global  uncert_mean_global  mean_direct  min_direct  \\\n",
       "0         0.0        0.0                 NaN          0.0         NaN   \n",
       "1         0.0        0.0                 NaN          0.0         NaN   \n",
       "2         0.0        0.0                 NaN          0.0         NaN   \n",
       "3         0.0        0.0                 NaN          0.0         NaN   \n",
       "4         0.0        0.0                 NaN          0.0         NaN   \n",
       "\n",
       "      ...       uncert_mean_terr  mean_dir_horiz  min_dir_horiz  \\\n",
       "0     ...                   4.61             0.0            0.0   \n",
       "1     ...                   4.58             0.0            0.0   \n",
       "2     ...                   4.56             0.0            0.0   \n",
       "3     ...                   4.52             0.0            0.0   \n",
       "4     ...                   4.54             0.0            0.0   \n",
       "\n",
       "   max_dir_horiz  sd_dir_horiz  uncert_dir_horiz  sunsh_sec_96  sunsh_sec_120  \\\n",
       "0            0.0           0.0               NaN             0              0   \n",
       "1            0.0           0.0               NaN             0              0   \n",
       "2            0.0           0.0               NaN             0              0   \n",
       "3            0.0           0.0               NaN             0              0   \n",
       "4            0.0           0.0               NaN             0              0   \n",
       "\n",
       "   sunsh_sec_144  zenith_dist  \n",
       "0              0          0.0  \n",
       "1              0          0.0  \n",
       "2              0          0.0  \n",
       "3              0          0.0  \n",
       "4              0          0.0  \n",
       "\n",
       "[5 rows x 32 columns]"
      ]
     },
     "execution_count": 19,
     "metadata": {},
     "output_type": "execute_result"
    }
   ],
   "source": [
    "# Assume not at this stage\n",
    "\n",
    "def dt(yr, mth, day, hr, mnt):\n",
    "    return datetime.datetime(yr, mth, day, hr, mnt).isoformat()\n",
    "\n",
    "dt = example.apply(lambda x: dt(x['yr'], x['mth'], x['day'], x['hr'], x['mnt']), axis=1)\n",
    "example.insert(loc=2, column='date_time', value=dt)\n",
    "example = example.drop(['yr', 'mth', 'day', 'hr', 'mnt'], axis=1)\n",
    "example.head()"
   ]
  },
  {
   "cell_type": "code",
   "execution_count": 39,
   "metadata": {},
   "outputs": [],
   "source": [
    "# Three days' mean direct horizontal irradiance\n",
    "day1 = example.iloc[0:60*24]\n",
    "day2 = example.iloc[60*24+1:60*24*2]\n",
    "day3 = example.iloc[60*24*2+1:60*24*3]\n",
    "day4 = example.iloc[60*24*3+1:60*24*4]\n",
    "day5 = example.iloc[60*24*4+1:60*24*5]\n",
    "day6 = example.iloc[60*24*5+1:60*24*6]"
   ]
  },
  {
   "cell_type": "code",
   "execution_count": 25,
   "metadata": {},
   "outputs": [
    {
     "data": {
      "image/png": "[encoded data removed]",
      "text/plain": [
       "<matplotlib.figure.Figure at 0x2dfdf25e710>"
      ]
     },
     "metadata": {},
     "output_type": "display_data"
    }
   ],
   "source": [
    "import matplotlib.pyplot as plt\n",
    "plt.plot(day1.mean_dir_horiz);"
   ]
  },
  {
   "cell_type": "code",
   "execution_count": 32,
   "metadata": {},
   "outputs": [
    {
     "data": {
      "image/png": "[encoded data removed]",
      "text/plain": [
       "<matplotlib.figure.Figure at 0x2dfdfa06208>"
      ]
     },
     "metadata": {},
     "output_type": "display_data"
    }
   ],
   "source": [
    "plt.plot(day2.mean_dir_horiz);"
   ]
  },
  {
   "cell_type": "code",
   "execution_count": 34,
   "metadata": {},
   "outputs": [
    {
     "data": {
      "image/png": "[encoded data removed]",
      "text/plain": [
       "<matplotlib.figure.Figure at 0x2dfddf2c7b8>"
      ]
     },
     "metadata": {},
     "output_type": "display_data"
    }
   ],
   "source": [
    "plt.plot(day3.mean_dir_horiz);"
   ]
  },
  {
   "cell_type": "code",
   "execution_count": 36,
   "metadata": {},
   "outputs": [
    {
     "data": {
      "image/png": "[encoded data removed]",
      "text/plain": [
       "<matplotlib.figure.Figure at 0x2dfdfa8f080>"
      ]
     },
     "metadata": {},
     "output_type": "display_data"
    }
   ],
   "source": [
    "plt.plot(day4.mean_dir_horiz);"
   ]
  },
  {
   "cell_type": "code",
   "execution_count": 38,
   "metadata": {},
   "outputs": [
    {
     "data": {
      "image/png": "[encoded data removed]",
      "text/plain": [
       "<matplotlib.figure.Figure at 0x2dfdfaf0eb8>"
      ]
     },
     "metadata": {},
     "output_type": "display_data"
    }
   ],
   "source": [
    "plt.plot(day5.mean_dir_horiz);"
   ]
  },
  {
   "cell_type": "code",
   "execution_count": 40,
   "metadata": {},
   "outputs": [
    {
     "data": {
      "image/png": "[encoded data removed]",
      "text/plain": [
       "<matplotlib.figure.Figure at 0x2dfdfb5f9e8>"
      ]
     },
     "metadata": {},
     "output_type": "display_data"
    }
   ],
   "source": [
    "plt.plot(day6.mean_dir_horiz);"
   ]
  }
 ],
 "metadata": {
  "kernelspec": {
   "display_name": "Python 3",
   "language": "python",
   "name": "python3"
  },
  "language_info": {
   "codemirror_mode": {
    "name": "ipython",
    "version": 3
   },
   "file_extension": ".py",
   "mimetype": "text/x-python",
   "name": "python",
   "nbconvert_exporter": "python",
   "pygments_lexer": "ipython3",
   "version": "3.6.4"
  }
 },
 "nbformat": 4,
 "nbformat_minor": 2
}
