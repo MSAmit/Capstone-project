{
 "cells": [
  {
   "cell_type": "markdown",
   "metadata": {},
   "source": [
    "this file contains what I think is the most appropriate result thus far, I had some issues in previous files with power and energy conversions that I think I have resolved here. "
   ]
  },
  {
   "cell_type": "markdown",
   "metadata": {},
   "source": [
    "Module imports"
   ]
  },
  {
   "cell_type": "code",
   "execution_count": 1,
   "metadata": {},
   "outputs": [],
   "source": [
    "# module loads\n",
    "import os\n",
    "import re\n",
    "import numpy as np\n",
    "import pandas as pd"
   ]
  },
  {
   "cell_type": "code",
   "execution_count": 2,
   "metadata": {},
   "outputs": [],
   "source": [
    "import logging\n",
    "logging.basicConfig(level=logging.DEBUG,\n",
    "                    format=' %(asctime)s - %(levelname)s - %(message)s')\n",
    "logger = logging.getLogger()\n",
    "\n",
    "logging.disable(0) # switched debug on. \n",
    "logging.disable(logging.DEBUG) # debug and below not reported.\n",
    "# logging.disable(logging.INFO)\n",
    "# logging.disable(logging.WARNING)\n",
    "# logging.disable(logging.ERROR)\n",
    "# logging.disable(logging.CRITICAL)"
   ]
  },
  {
   "cell_type": "code",
   "execution_count": 3,
   "metadata": {},
   "outputs": [],
   "source": [
    "import matplotlib \n",
    "import matplotlib.pyplot as plt\n",
    "import seaborn as sns; sns.set() "
   ]
  },
  {
   "cell_type": "code",
   "execution_count": 4,
   "metadata": {},
   "outputs": [],
   "source": [
    "# from bokeh.io import push_notebook\n",
    "# from bokeh.plotting import figure, output_file, show\n",
    "\n",
    "# # from bokeh.plotting import figure, show, output_file\n",
    "# from bokeh.layouts import row, column"
   ]
  },
  {
   "cell_type": "code",
   "execution_count": 5,
   "metadata": {},
   "outputs": [],
   "source": [
    "from collections import defaultdict\n",
    "from datetime import timedelta, datetime, date, time\n",
    "import csv"
   ]
  },
  {
   "cell_type": "code",
   "execution_count": 6,
   "metadata": {
    "scrolled": true
   },
   "outputs": [
    {
     "name": "stderr",
     "output_type": "stream",
     "text": [
      " 2018-07-30 10:20:04,830 - INFO - About to load keys for forecasts\n"
     ]
    }
   ],
   "source": [
    "import UniSA_CNC_BasisData as UniSA_data\n",
    "from Get_NEM_PV_forecast import get_PV_forecast, load_PV_forecast_meta_data\n",
    "from Get_NEM_forecasts import get_RRP_forecast\n",
    "from Get_NEM_Zip_Archive import update_zips\n",
    "%reload_ext autoreload\n",
    "%autoreload 2\n",
    "\n",
    "_ = load_PV_forecast_meta_data()"
   ]
  },
  {
   "cell_type": "markdown",
   "metadata": {},
   "source": [
    "### Utility functions "
   ]
  },
  {
   "cell_type": "code",
   "execution_count": 7,
   "metadata": {},
   "outputs": [],
   "source": [
    "minutes_to_seconds = lambda m: m * 60.0 \n",
    "seconds_to_minutes = lambda s: s / 60.0 \n",
    "\n",
    "seconds_to_hours = lambda s: s / 3600.0 \n",
    "hours_to_seconds = lambda h: h * 3600.0 \n",
    "\n",
    "Joules_to_WattHours = lambda J: J / 3600.0\n",
    "WattHours_to_Joules = lambda Wh: Wh * 3600.0\n",
    "\n",
    "to_energy   = lambda W,t: W * t \n",
    "to_power    = lambda J,t: J / t \n",
    "\n",
    "from_kiloUnit = lambda U: U * 1.0e3\n",
    "from_megaUnit = lambda U: U * 1.0e6\n",
    "from_gigaUnit = lambda U: U * 1.0e9\n",
    "\n",
    "to_kiloUnit = lambda U: U / 1.0e3\n",
    "to_megaUnit = lambda U: U / 1.0e6\n",
    "to_gigaUnit = lambda U: U / 1.0e9\n",
    "\n",
    "def get_percent(comp, base):\n",
    "    if base != 0.0: return comp/base\n",
    "    return 0.0\n",
    "\n",
    "ghi_to_pv = lambda ghi, pv_size: ghi * pv_size"
   ]
  },
  {
   "cell_type": "code",
   "execution_count": 8,
   "metadata": {},
   "outputs": [],
   "source": [
    "def get_files_matching(src_dir, regx):\n",
    "    fn_list = []\n",
    "    for fn in os.listdir(src_dir): fn_list.append(fn) if re.match(regx, fn) else None\n",
    "    fn_list.sort()\n",
    "    return (fn_list)"
   ]
  },
  {
   "cell_type": "code",
   "execution_count": 9,
   "metadata": {},
   "outputs": [],
   "source": [
    "is_weekday = lambda ts: ts.dayofweek in {0, 1, 2, 3, 4}\n",
    "is_in_peakperiod = lambda ts: ts.time() in pd.date_range(start='12:00', end='21:00', \n",
    "                                                       freq='30T', closed='right', label='right')\n",
    "is_peak = lambda v: is_weekday(v) and is_in_peakperiod(v)"
   ]
  },
  {
   "cell_type": "markdown",
   "metadata": {},
   "source": [
    "# Load the source data:"
   ]
  },
  {
   "cell_type": "code",
   "execution_count": 10,
   "metadata": {},
   "outputs": [],
   "source": [
    "ORIGINAL_SOURCE_DATA_FILE = './data/all_together.csv'"
   ]
  },
  {
   "cell_type": "code",
   "execution_count": 11,
   "metadata": {
    "scrolled": true
   },
   "outputs": [
    {
     "name": "stderr",
     "output_type": "stream",
     "text": [
      " 2018-07-30 10:20:14,312 - INFO - Source data loaded, with first entry:\n",
      "                       MSB_F_kW  Frig_9_kW    RRP   GHI_kWpm2\n",
      "2017-10-13 14:30:00  135.972210  62.650850  88.84  721.174000\n",
      "2017-10-13 15:00:00  207.161339  92.003353  83.76  640.414333\n",
      "2017-10-13 15:30:00  184.389458  23.948075  86.81  538.250000\n",
      " 2018-07-30 10:20:14,315 - INFO - ending in \n",
      "                       MSB_F_kW  Frig_9_kW    RRP  GHI_kWpm2\n",
      "2018-01-31 22:30:00  184.577797  58.381405  65.23        0.0\n",
      "2018-01-31 23:00:00  187.425644  64.568821  60.23        0.0\n",
      "2018-01-31 23:30:00  233.711525  63.303780  63.51        0.0\n"
     ]
    }
   ],
   "source": [
    "LOAD_DF = pd.read_csv(ORIGINAL_SOURCE_DATA_FILE, index_col=0, infer_datetime_format=True, dayfirst=True)\n",
    "\n",
    "logger.info('Source data loaded, with first entry:\\n%s', LOAD_DF.head(3))\n",
    "logger.info('ending in \\n%s', LOAD_DF.tail(3))\n",
    "# other debug traces for sanity checks:\n",
    "logger.debug('Maximum incident GHI value: {:.2f} at time {:}'.format(\n",
    "    LOAD_DF.GHI_kWpm2.max(), LOAD_DF.GHI_kWpm2.argmax()))\n"
   ]
  },
  {
   "cell_type": "markdown",
   "metadata": {},
   "source": [
    "Time span of interest:"
   ]
  },
  {
   "cell_type": "code",
   "execution_count": 12,
   "metadata": {},
   "outputs": [],
   "source": [
    "START_TIMES = [LOAD_DF.iloc[0].name]\n",
    "END_TIMES = [LOAD_DF.iloc[-1].name]"
   ]
  },
  {
   "cell_type": "markdown",
   "metadata": {},
   "source": [
    "TES parameterisation:"
   ]
  },
  {
   "cell_type": "code",
   "execution_count": 13,
   "metadata": {},
   "outputs": [],
   "source": [
    "TES_pack_size = 1040 # kWh_r\n",
    "TES_pack_min_heating= -200 # kW_r\n",
    "TES_pack_max_heating = 200 # kW_r\n",
    "\n",
    "# use this for a range of strorage sizes.\n",
    "# storage_sizes = np.arange(5,16,1) * TES_pack_size\n",
    "\n",
    "STORAGE_SIZES = np.array([2080])\n",
    "PV_SIZE = 0.250 # MW\n"
   ]
  },
  {
   "cell_type": "markdown",
   "metadata": {},
   "source": [
    "### Generating parameters for use with optimal control of thermal energy storage"
   ]
  },
  {
   "cell_type": "markdown",
   "metadata": {},
   "source": [
    "some demand price dags"
   ]
  },
  {
   "cell_type": "markdown",
   "metadata": {},
   "source": [
    "as the monthly bill is $ \\Pi_d = \\pi_d\\ D\\ G_{max} $ where $D$ is the number of days in the month and $G_{max}$ is the maximum demand for the month\n",
    "\n",
    "I propose a proxy for $\\pi_d$, $\\hat\\pi_d$ as follows:\n",
    "\n",
    "if the maximum demand were incurred during all intervals then the demand cost would be\n",
    "\n",
    "$\\Pi_d = \\pi_d\\ D\\ G_{max}$, \n",
    "\n",
    "but if we calculate the demand penalty during one interval with a $\\hat\\pi_d G_{max}^{2}$ term, for the value $\\Pi_d$ to be incurred as a penalty at the end of the month we have \n",
    "\n",
    "$\\hat\\pi_d G_{max}^{2} \\times (48D) = \\Pi_d$ \n",
    "\n",
    "$\\hat\\pi_d G_{max}^{2}\\ 48\\ D = \\pi_d\\ D\\ G_{max}$ \n",
    "\n",
    "$\\hat\\pi_d G_{max}\\ 48 = \\pi_d$ \n",
    "\n",
    "$\\hat\\pi_d = \\pi_d \\div 48 G_{max}$ \n",
    "\n",
    "\n",
    "Now I tried this and $\\hat\\pi_d$ was so small that I could not see it.  So I changed $G_{max}$ units form kVA to kJ/s reactive just for giggles. \n",
    "\n",
    "now because $\\lambda = \\frac{2 \\pi_d (P_{max} - S + L) + \\pi_i}{\\kappa}$ when optimum we want to see this in the plot and have the $2 \\pi_d (P_{max} - S + L)$ term value in the ball park of $\\pi_i$"
   ]
  },
  {
   "cell_type": "code",
   "execution_count": 14,
   "metadata": {
    "scrolled": true
   },
   "outputs": [
    {
     "name": "stderr",
     "output_type": "stream",
     "text": [
      " 2018-07-30 10:20:14,849 - INFO -  maximum deman VA using 0.97 pf: 421.29 kVA at time 2017-11-21 15:30:00\n"
     ]
    }
   ],
   "source": [
    "logger.info(' maximum deman VA using 0.97 pf: {:.2f} kVA at time {:}'.format(\n",
    "    LOAD_DF.MSB_F_kW.max()/0.97, LOAD_DF.MSB_F_kW.argmax()))"
   ]
  },
  {
   "cell_type": "code",
   "execution_count": 15,
   "metadata": {},
   "outputs": [],
   "source": [
    "Max_kVA = 425 \n",
    "Demand_scaling = 2 * 48 * Max_kVA / 3.6e3  ### $ per kJ reactive\n",
    "\n",
    "PEAK_DEMAND_COST =  0.2321 / Demand_scaling \n",
    "# PEAK_DEMAND_COST = 0.0\n",
    "OFF_PEAK_DEMAND_COST = 0.1190 / Demand_scaling\n",
    "# OFF_PEAK_DEMAND_COST = 0.0"
   ]
  },
  {
   "cell_type": "markdown",
   "metadata": {},
   "source": [
    "calculate import and export costs"
   ]
  },
  {
   "cell_type": "code",
   "execution_count": 16,
   "metadata": {},
   "outputs": [
    {
     "name": "stderr",
     "output_type": "stream",
     "text": [
      " 2018-07-30 10:20:15,199 - INFO - service costs: 4.5221 c/kWh\n"
     ]
    }
   ],
   "source": [
    "EXPORT_PERCENT = 0.90\n",
    "\n",
    "PPPT_LF = 1.05087 # for pull through contract \n",
    "GEN_LF = 1.04700 # for xREC and AEMO fee adjustment \n",
    "\n",
    "SERVICE_COSTS = ( # in c/kWh \n",
    "          (0.2250 * PPPT_LF)# PPPT admin fee \n",
    "        + (1.3499 * GEN_LF)# LRECs\n",
    "        + (0.3603 * GEN_LF)# SRECs\n",
    "        + (0.0243 * 100 )# SAPN HV- usage cost ($/kWh -> c/kWh)\n",
    "        + (0.0281 * GEN_LF)# AEMO ancillary fee\n",
    "        + (0.0341 * GEN_LF))# AEMO market fee \n",
    "\n",
    "logger.info('service costs: {:.4f} c/kWh'.format(SERVICE_COSTS))    "
   ]
  },
  {
   "cell_type": "markdown",
   "metadata": {},
   "source": [
    "calculate the maximum compressor power"
   ]
  },
  {
   "cell_type": "code",
   "execution_count": 17,
   "metadata": {
    "scrolled": true
   },
   "outputs": [
    {
     "name": "stderr",
     "output_type": "stream",
     "text": [
      " 2018-07-30 10:20:15,386 - INFO - calculated maximum compressor output 651.0 kW_r\n"
     ]
    }
   ],
   "source": [
    "# for a compressor at max 155 kWe at input with CoP 3.5-4.2\n",
    "MAX_COP = 4.2\n",
    "MIN_COP = 3.5\n",
    "\n",
    "MAX_COMPRESSOR_PWR_kWe = 155\n",
    "MAX_COMPRESSOR_PWR_kWr = MAX_COMPRESSOR_PWR_kWe * MAX_COP\n",
    "\n",
    "logger.info('calculated maximum compressor output {:.1f} kW_r'.format(MAX_COMPRESSOR_PWR_kWr))"
   ]
  },
  {
   "cell_type": "markdown",
   "metadata": {},
   "source": [
    "## Generating the basis data ... "
   ]
  },
  {
   "cell_type": "code",
   "execution_count": 18,
   "metadata": {},
   "outputs": [],
   "source": [
    "FOCUS_DF = pd.DataFrame()"
   ]
  },
  {
   "cell_type": "markdown",
   "metadata": {},
   "source": [
    "the values should be set using average power values given in the original dataset. In case they are not, I have a flag for that."
   ]
  },
  {
   "cell_type": "code",
   "execution_count": 19,
   "metadata": {
    "scrolled": true
   },
   "outputs": [],
   "source": [
    "usePowerValues = True\n",
    "\n",
    "if not usePowerValues: # convert to energy values\n",
    "    FOCUS_DF['L_r'] = to_energy(LOAD_DF.Frig_9_kW*MAX_COP, 0.5)\n",
    "    FOCUS_DF['CoP'] = MAX_COP\n",
    "    raw_L_e = LOAD_DF.MSB_F_kW - LOAD_DF.Frig_9_kW\n",
    "    raw_L_e = raw_L_e.where(raw_L_e > 0.0, 0.0)\n",
    "    FOCUS_DF['L_e'] = to_energy(raw_L_e, 0.5)\n",
    "    FOCUS_DF['PV'] = to_energy(ghi_to_pv(LOAD_DF.GHI_kWpm2, 0.250), 0.5)\n",
    "else: \n",
    "    FOCUS_DF['L_r'] = LOAD_DF.Frig_9_kW*MAX_COP\n",
    "    FOCUS_DF['CoP'] = MAX_COP\n",
    "    raw_L_e = LOAD_DF.MSB_F_kW - LOAD_DF.Frig_9_kW\n",
    "    raw_L_e = raw_L_e.where(raw_L_e > 0.0, 0.0)\n",
    "    FOCUS_DF['L_e'] = raw_L_e\n",
    "    FOCUS_DF['PV'] = ghi_to_pv(LOAD_DF.GHI_kWpm2, 0.250)"
   ]
  },
  {
   "cell_type": "code",
   "execution_count": 20,
   "metadata": {},
   "outputs": [],
   "source": [
    "# 1/10 factor is for converting from $/MWh to c/kWh\n",
    "adjust_import_cost = lambda rrp: PPPT_LF/10.0*rrp + SERVICE_COSTS\n",
    "adjust_export_price = lambda rrp, percent: percent/10.0*rrp\n",
    "adjust_export_price_standalone = lambda rrp: adjust_export_price(rrp, 0.9)\n",
    "\n",
    "adjust_import_cost_dpkWh = lambda rrp: (PPPT_LF/10.0*rrp + SERVICE_COSTS) / 100\n",
    "adjust_export_price_standalone_dpkWh = lambda rrp: adjust_export_price(rrp, 0.9) / 100"
   ]
  },
  {
   "cell_type": "markdown",
   "metadata": {},
   "source": [
    "worried about this next bit .. am I using the right price data?"
   ]
  },
  {
   "cell_type": "code",
   "execution_count": 21,
   "metadata": {},
   "outputs": [],
   "source": [
    "FOCUS_DF['adj_cpkWh'] = adjust_import_cost(LOAD_DF.RRP)\n",
    "FOCUS_DF['exp_cpkWh'] = adjust_export_price(LOAD_DF.RRP, 0.90)\n",
    "FOCUS_DF['tou_cpkWh'] = 0.0"
   ]
  },
  {
   "cell_type": "markdown",
   "metadata": {},
   "source": [
    "reindex with datetimes"
   ]
  },
  {
   "cell_type": "code",
   "execution_count": 22,
   "metadata": {},
   "outputs": [],
   "source": [
    "FOCUS_DF.index = pd.to_datetime(FOCUS_DF.index)"
   ]
  },
  {
   "cell_type": "code",
   "execution_count": 23,
   "metadata": {},
   "outputs": [
    {
     "name": "stderr",
     "output_type": "stream",
     "text": [
      " 2018-07-30 10:20:16,548 - INFO - Source data focussed, with first entry:\n",
      "                            L_r  CoP         L_e          PV  adj_cpkWh  \\\n",
      "2017-10-13 14:30:00  263.133569  4.2   73.321360  180.293500  13.858078   \n",
      "2017-10-13 15:00:00  386.414083  4.2  115.157986  160.103583  13.324236   \n",
      "2017-10-13 15:30:00  100.581915  4.2  160.441383  134.562500  13.644751   \n",
      "\n",
      "                     exp_cpkWh  tou_cpkWh  \n",
      "2017-10-13 14:30:00     7.9956        0.0  \n",
      "2017-10-13 15:00:00     7.5384        0.0  \n",
      "2017-10-13 15:30:00     7.8129        0.0  \n",
      " 2018-07-30 10:20:16,553 - INFO - \n",
      "ending in \n",
      "                            L_r  CoP         L_e   PV  adj_cpkWh  exp_cpkWh  \\\n",
      "2018-01-31 22:30:00  245.201900  4.2  126.196392  0.0  11.376974     5.8707   \n",
      "2018-01-31 23:00:00  271.189048  4.2  122.856823  0.0  10.851539     5.4207   \n",
      "2018-01-31 23:30:00  265.875874  4.2  170.407745  0.0  11.196224     5.7159   \n",
      "\n",
      "                     tou_cpkWh  \n",
      "2018-01-31 22:30:00        0.0  \n",
      "2018-01-31 23:00:00        0.0  \n",
      "2018-01-31 23:30:00        0.0  \n"
     ]
    }
   ],
   "source": [
    "logger.info('Source data focussed, with first entry:\\n%s', FOCUS_DF.head(3))\n",
    "logger.info('\\nending in \\n%s', FOCUS_DF.tail(3))"
   ]
  },
  {
   "cell_type": "code",
   "execution_count": 24,
   "metadata": {},
   "outputs": [
    {
     "data": {
      "image/png": "[encoded data removed]",
      "text/plain": [
       "<matplotlib.figure.Figure at 0xcc619e8>"
      ]
     },
     "metadata": {},
     "output_type": "display_data"
    }
   ],
   "source": [
    "FOCUS_DF.L_r.plot()\n",
    "FOCUS_DF.PV.plot()\n",
    "FOCUS_DF.L_e.plot()\n",
    "(FOCUS_DF.L_r/FOCUS_DF.CoP + FOCUS_DF.L_e).plot(label='total kW$_e$')\n",
    "plt.legend()\n",
    "plt.show()"
   ]
  },
  {
   "cell_type": "markdown",
   "metadata": {},
   "source": [
    "### generate input files for optimisation "
   ]
  },
  {
   "cell_type": "code",
   "execution_count": 25,
   "metadata": {},
   "outputs": [],
   "source": [
    "long_column_names = ['thermal load (kWr)', 'electrical load (kWe)', 'solar (kWe)', 'CoP', \n",
    "                     'import price ($/kWh)', 'export price ($/kWh)', 'demand price ($/kW)']\n",
    "short_column_names = ['L_r', 'L_e', 'PV', 'CoP', 'pi_i', 'pi_e', 'pi_d']\n",
    "\n",
    "COLUMN_NAMES = defaultdict(list)\n",
    "COLUMN_NAMES = {key:val for key, val in zip(short_column_names, long_column_names)}"
   ]
  },
  {
   "cell_type": "code",
   "execution_count": 26,
   "metadata": {},
   "outputs": [],
   "source": [
    "def get_analysis_period(Start, End):\n",
    "    \"\"\"Calculates the PV output for a given GHI value\n",
    "        at the moment just a simple scaling, later could make it angle of \n",
    "        incidence dependent.\n",
    "    \"\"\"\n",
    "    start_date = pd.to_datetime(Start)\n",
    "    end_date = pd.to_datetime(End)\n",
    "\n",
    "    period_range = pd.date_range(start=start_date, end=end_date, freq='30T', closed=None, label='right', name='time')\n",
    "    logger.info(period_range)\n",
    "    \n",
    "    return (period_range, start_date, end_date)"
   ]
  },
  {
   "cell_type": "code",
   "execution_count": 27,
   "metadata": {
    "scrolled": false
   },
   "outputs": [
    {
     "name": "stderr",
     "output_type": "stream",
     "text": [
      " 2018-07-30 10:20:18,995 - INFO - preparing data range from 2017-10-13 14:30:00 to 2018-01-31 23:30:00\n",
      " 2018-07-30 10:20:18,997 - INFO - DatetimeIndex(['2017-10-13 14:30:00', '2017-10-13 15:00:00',\n",
      "               '2017-10-13 15:30:00', '2017-10-13 16:00:00',\n",
      "               '2017-10-13 16:30:00', '2017-10-13 17:00:00',\n",
      "               '2017-10-13 17:30:00', '2017-10-13 18:00:00',\n",
      "               '2017-10-13 18:30:00', '2017-10-13 19:00:00',\n",
      "               ...\n",
      "               '2018-01-31 19:00:00', '2018-01-31 19:30:00',\n",
      "               '2018-01-31 20:00:00', '2018-01-31 20:30:00',\n",
      "               '2018-01-31 21:00:00', '2018-01-31 21:30:00',\n",
      "               '2018-01-31 22:00:00', '2018-01-31 22:30:00',\n",
      "               '2018-01-31 23:00:00', '2018-01-31 23:30:00'],\n",
      "              dtype='datetime64[ns]', name='time', length=5299, freq='30T')\n"
     ]
    }
   ],
   "source": [
    "USE_TOU = False # flag to implement Time of Use energy tariff\n",
    "NO_PV = False # switching the PV off\n",
    "\n",
    "for storage_size in STORAGE_SIZES:\n",
    "        \n",
    "    tsv_data_dir = './data/tsv_TES_{:n}'.format(storage_size)\n",
    "    if not os.path.exists(tsv_data_dir): os.mkdir(tsv_data_dir)\n",
    "        \n",
    "    for iniz, fine in zip(START_TIMES, END_TIMES):\n",
    "        logger.info('preparing data range from %s to %s', iniz, fine)\n",
    "        (ANALYSIS_PERIOD, START_DATE, END_DATE) = get_analysis_period(iniz, fine)\n",
    "            \n",
    "        # make an internal copy of the required data here\n",
    "        test = FOCUS_DF[['L_r', 'L_e', 'PV', 'adj_cpkWh', 'exp_cpkWh', 'tou_cpkWh']].loc[ANALYSIS_PERIOD].copy()\n",
    "        \n",
    "        # reset the Renewable energy input if desired\n",
    "        if NO_PV: test.PV = 0.0 \n",
    "        \n",
    "        # for sinusoidal cop with time of use tariff\n",
    "        time_of_day_minutes = test.index.hour * 60 + test.index.minute\n",
    "        peak_CoP_time_minutes = 6.5 * 60  # 06:30 am \n",
    "        deltas = time_of_day_minutes - peak_CoP_time_minutes\n",
    "        timebase = 24 * 60 \n",
    "        omega = deltas / timebase * 2 * np.pi\n",
    "\n",
    "        test['CoP'] = (MAX_COP - MIN_COP) * (np.cos(omega) + 1) + MIN_COP\n",
    "        # or something simpler\n",
    "#         test['CoP'] = MAX_COP\n",
    "        \n",
    "        if USE_TOU:\n",
    "            test['pi_i'] = test.tou_cpkWh / 100.0 # $/kWh\n",
    "            test['pi_e'] = 0.08 # $/kWh\n",
    "        else:\n",
    "            # for simple cop with pull through contract \n",
    "            test['pi_i'] = test.adj_cpkWh / 100.0 # $/kWh\n",
    "            test['pi_e'] = test.exp_cpkWh / 100.0 # $/kWh\n",
    "\n",
    "            \n",
    "        # set up the demand prices \n",
    "        test['pi_d'] = OFF_PEAK_DEMAND_COST # set up the series\n",
    "        for i, v in test.pi_d.items():\n",
    "            test.pi_d.set_value(i, PEAK_DEMAND_COST) if is_peak(i) else test.pi_d.set_value(i, OFF_PEAK_DEMAND_COST)\n",
    "\n",
    "        # now the data is set up, clean up and create an input file ...\n",
    "        test.fillna(0, inplace=True)\n",
    "        test.drop_duplicates(keep='first', inplace=True)\n",
    "        test.drop(['adj_cpkWh', 'exp_cpkWh', 'tou_cpkWh'], axis=1, inplace=True)\n",
    "        test.rename(columns=COLUMN_NAMES, inplace=True)\n",
    "\n",
    "        \n",
    "        \n",
    "        tsv_file_name = 'test_data_{:n}.tsv'.format(storage_size)\n",
    "        tsv_file_name = os.path.join(tsv_data_dir, tsv_file_name)  \n",
    "\n",
    "        meta_data = [('thermal storage capacity (kWh)', storage_size)]\n",
    "        meta_data.append(('minimum storage heating rate (kW)', \n",
    "                          TES_pack_min_heating * storage_size / TES_pack_size))\n",
    "        meta_data.append(('maximum storage heating rate (kW)', \n",
    "                          TES_pack_max_heating * storage_size / TES_pack_size))\n",
    "        meta_data.append(('maximum compressor electrical power (kW)', MAX_COMPRESSOR_PWR_kWe))   \n",
    "        meta_data.append(('initial thermal store state (kWh)', storage_size/2.0))\n",
    "        meta_data.append(('final thermal store state (kWh)', storage_size/2.0))\n",
    "\n",
    "        # do the do ...   \n",
    "        with open(tsv_file_name, 'w', newline='') as out_tsv:\n",
    "            logger.debug('updating parameters with:\\n%s', meta_data)\n",
    "        \n",
    "            csv_write = csv.writer(out_tsv, delimiter='\\t', lineterminator='\\n')\n",
    "            for row in meta_data: csv_write.writerow(row)\n",
    "            csv_write.writerow([]) # empty row as a spacer\n",
    "        \n",
    "        test.to_csv(tsv_file_name, mode='a', sep='\\t')"
   ]
  },
  {
   "cell_type": "markdown",
   "metadata": {},
   "source": [
    "# Baseline result\n",
    "here we put all the data trough the ringer and get a baseline result\n",
    "\n",
    "I might ger around to generating a panel from the swath of input files for a range of storage sizes."
   ]
  },
  {
   "cell_type": "code",
   "execution_count": 28,
   "metadata": {
    "scrolled": true
   },
   "outputs": [
    {
     "name": "stderr",
     "output_type": "stream",
     "text": [
      " 2018-07-30 10:20:21,149 - INFO - start of baseline optimisation\n",
      " 2018-07-30 10:21:03,112 - INFO - end of baseline optimisation\n"
     ]
    }
   ],
   "source": [
    "logger.info('start of baseline optimisation')\n",
    "os.system('cooling.exe ./data/tsv_TES_2080/test_data_2080 ./data/tsv_TES_2080/test_data_2080_output')\n",
    "logger.info('end of baseline optimisation')"
   ]
  },
  {
   "cell_type": "markdown",
   "metadata": {},
   "source": [
    "### process the baseline data "
   ]
  },
  {
   "cell_type": "code",
   "execution_count": 29,
   "metadata": {},
   "outputs": [],
   "source": [
    "baseline_rf = pd.read_csv('./data/tsv_TES_2080/test_data_2080_output.tsv', sep='\\t', \n",
    "                 index_col=0, infer_datetime_format=True)\n",
    "\n",
    "# fix up the index ...\n",
    "baseline_rf.index = pd.to_datetime(baseline_rf.index)\n",
    "\n",
    "# do some global colum stuff: \n",
    "output_columns_long = baseline_rf.columns # save them for now\n",
    "output_columns_short = ['L_kWr', 'L_kWe', 'S_kWe', 'CoP', 'pi_i', 'pi_e', 'pi_d', # inputs  \n",
    "                        'lambda_dpkWh', 'mode', 'P_kWe', 'G_kWe', 'SoC_kWhr', 'C_kWr'] # outputs\n",
    "OUTPUT_COLUMN_NAMES = defaultdict(list)\n",
    "OUTPUT_COLUMN_NAMES = {key:val for key, val in zip(output_columns_long, output_columns_short)}\n",
    "OUTPUT_COLUMN_ALIAS = {val:key for key, val in zip(output_columns_long, output_columns_short)}\n",
    "\n",
    "logger.debug('Column dictionary is: \\n%s', OUTPUT_COLUMN_NAMES)\n",
    "logger.debug('or the backward lookup: \\n%s', OUTPUT_COLUMN_ALIAS)"
   ]
  },
  {
   "cell_type": "code",
   "execution_count": 30,
   "metadata": {
    "scrolled": true
   },
   "outputs": [
    {
     "name": "stderr",
     "output_type": "stream",
     "text": [
      " 2018-07-30 10:21:03,795 - INFO - new coulumn names: Index(['L_kWr', 'L_kWe', 'S_kWe', 'CoP', 'pi_i', 'pi_e', 'pi_d',\n",
      "       'lambda_dpkWh', 'mode', 'P_kWe', 'G_kWe', 'SoC_kWhr', 'C_kWr'],\n",
      "      dtype='object')\n"
     ]
    }
   ],
   "source": [
    "logger.debug('old coulumn names: %s', baseline_rf.columns)\n",
    "baseline_rf.rename(columns=OUTPUT_COLUMN_NAMES, inplace=True)\n",
    "logger.info('new coulumn names: %s', baseline_rf.columns)"
   ]
  },
  {
   "cell_type": "code",
   "execution_count": null,
   "metadata": {},
   "outputs": [],
   "source": []
  },
  {
   "cell_type": "code",
   "execution_count": 31,
   "metadata": {
    "scrolled": false
   },
   "outputs": [
    {
     "data": {
      "image/png": "[encoded data removed]",
      "text/plain": [
       "<matplotlib.figure.Figure at 0xe174198>"
      ]
     },
     "metadata": {},
     "output_type": "display_data"
    }
   ],
   "source": [
    "baseline_rf.L_kWr.plot()\n",
    "(baseline_rf.P_kWe*baseline_rf.CoP + baseline_rf.C_kWr).plot(label='total kW$_r$')\n",
    "plt.legend()\n",
    "plt.show()"
   ]
  },
  {
   "cell_type": "code",
   "execution_count": 32,
   "metadata": {
    "scrolled": true
   },
   "outputs": [
    {
     "data": {
      "image/png": "[encoded data removed]",
      "text/plain": [
       "<matplotlib.figure.Figure at 0xe2382e8>"
      ]
     },
     "metadata": {},
     "output_type": "display_data"
    }
   ],
   "source": [
    "baseline_rf.L_kWr.plot()\n",
    "baseline_rf.S_kWe.plot()\n",
    "baseline_rf.L_kWe.plot()\n",
    "(baseline_rf.L_kWr/baseline_rf.CoP + baseline_rf.L_kWe).plot(label='total kW$_e$')\n",
    "plt.legend()\n",
    "plt.show()"
   ]
  },
  {
   "cell_type": "markdown",
   "metadata": {},
   "source": [
    "# The visualisation code"
   ]
  },
  {
   "cell_type": "code",
   "execution_count": 33,
   "metadata": {
    "scrolled": true
   },
   "outputs": [],
   "source": [
    "from bokeh.plotting import ColumnDataSource, figure\n",
    "from bokeh.io import output_file, show\n",
    "# import the HoverTool\n",
    "from bokeh.models import HoverTool\n",
    "from bokeh.layouts import column\n",
    "\n",
    "def get_datetime_str():\n",
    "    return pd.datetime.strftime(pd.datetime.now(), '%Y-%m-%d_%H%M')\n",
    "\n",
    "def plot_result_df(rf):\n",
    "    # set some special plotting columns\n",
    "    rf['_SoC_kWhr'] = rf.SoC_kWhr.max() - rf.SoC_kWhr\n",
    "    rf['_S_kWe'] = -1.0 * rf.S_kWe\n",
    "    rf['G_in_kWe'] = rf.G_kWe.where(rf.G_kWe > 0.0, 0.0)\n",
    "    rf['G_out_kWe'] = rf.G_kWe.where(rf.G_kWe < 0.0, 0.0)\n",
    "    rf['L_kWr2e'] = rf.L_kWr / 4.5\n",
    "    rf['G_kWe_orig'] = rf.L_kWr2e + rf.L_kWe\n",
    "    rf['Net_kWe'] = rf.L_kWe + rf._S_kWe\n",
    "\n",
    "    _priceScaling = 5.0e2\n",
    "    _priceScaling = 4.0e2\n",
    "    rf['plt_lambda'] = -1.0 * rf.lambda_dpkWh * _priceScaling\n",
    "    rf['plt_cost'] = rf.pi_i / rf.CoP * _priceScaling\n",
    "    rf['plt_cost_croptop'] = rf.plt_cost.where(rf.plt_cost < rf.SoC_kWhr.max(), rf.SoC_kWhr.max())\n",
    "    rf['plt_price'] = rf.pi_e / rf.CoP * _priceScaling\n",
    "    rf['plt_price_croptop'] = rf.plt_price.where(rf.plt_price < rf.SoC_kWhr.max(), rf.SoC_kWhr.max())\n",
    "    \n",
    "    source = ColumnDataSource(rf)\n",
    "    \n",
    "    _plotWidth = 800\n",
    "    _plotHeight = 600\n",
    "    _barWidth = 1.0e6\n",
    "    _Tools ='pan,box_zoom,wheel_zoom,box_select,save,reset,help'\n",
    "    \n",
    "    s1 = figure(tools=_Tools, plot_width=_plotWidth, plot_height=_plotHeight, \n",
    "                 x_axis_type='datetime', toolbar_location='above')\n",
    "    s1.yaxis.axis_label = 'Electrical loads'\n",
    "    s1.xaxis.axis_label = 'Date and time'\n",
    "        \n",
    "    s2 = figure(tools=_Tools, plot_width=_plotWidth, plot_height=_plotHeight, \n",
    "                x_axis_type='datetime', toolbar_location='above')\n",
    "    s2.yaxis.axis_label = 'Storage state and switching price'\n",
    "    s2.xaxis.axis_label = 'Date and time'\n",
    "   \n",
    "    s1.vbar(x='time', top='_S_kWe', source=source,\n",
    "            width=_barWidth, alpha=1.0, \n",
    "            color='orange', legend=OUTPUT_COLUMN_ALIAS['S_kWe'], \n",
    "            selection_color='orange', selection_alpha=1.0, \n",
    "            nonselection_color='orange', nonselection_alpha=0.1\n",
    "           )\n",
    "    s1.vbar(x='time', top='G_kWe', source=source,\n",
    "            width=_barWidth, alpha=0.7, \n",
    "            color='firebrick', legend=OUTPUT_COLUMN_ALIAS['G_kWe'],\n",
    "            selection_color='firebrick', selection_alpha=1.0, \n",
    "            nonselection_color='firebrick', nonselection_alpha=0.1\n",
    "           )\n",
    "    s1.vbar(x='time', top='P_kWe', source=source,\n",
    "            width=_barWidth, alpha=0.5,\n",
    "            color='navy', legend=OUTPUT_COLUMN_ALIAS['P_kWe'],\n",
    "            selection_color='navy', selection_alpha=1.0, \n",
    "            nonselection_color='navy', nonselection_alpha=0.1\n",
    "           )\n",
    "    s1.line(x='time', y='L_kWr2e', source=source,\n",
    "            color=\"aqua\", legend='original thermal load (kW)',\n",
    "            selection_color=\"aqua\", selection_alpha=1.0, \n",
    "            nonselection_color=\"aqua\", nonselection_alpha=0.1\n",
    "           )\n",
    "#     s1.line(x='time', y='G_kWe_orig', source=source,\n",
    "#             color=\"orange\", legend='original grid load (kW)')\n",
    "#     s1.line(x='time', y='Net_kWe', source=source,\n",
    "#             color=\"lightgray\", legend='net electrical load (kW)')\n",
    "        \n",
    "    s2 = figure(tools=_Tools, plot_width=_plotWidth, plot_height=_plotHeight, \n",
    "                x_axis_type='datetime', toolbar_location='above', x_range=s1.x_range)\n",
    "    s2.yaxis.axis_label = 'Storage state and switching price'\n",
    "    s2.xaxis.axis_label = 'Date and time'\n",
    "\n",
    "    s2.vbar(x='time', top='SoC_kWhr', source=source,\n",
    "            width=_barWidth, alpha=0.3,\n",
    "            color='navy', legend=OUTPUT_COLUMN_ALIAS['SoC_kWhr'],\n",
    "            selection_color='navy', selection_alpha=1.0, \n",
    "            nonselection_color='navy', nonselection_alpha=0.1\n",
    "           )\n",
    "    s2.line(x='time', y='plt_lambda', source=source,\n",
    "            color=\"red\", alpha=0.9, line_width=1.0, legend='switching price ($/kW)',\n",
    "            selection_color=\"red\", selection_alpha=1.0, \n",
    "            nonselection_color=\"red\", nonselection_alpha=0.1\n",
    "           )\n",
    "    s2.line(x='time', y='plt_cost_croptop', source=source,\n",
    "            color=\"aqua\", alpha=0.5, line_width=0.8, legend='scaled price ($/kW)',\n",
    "            selection_color=\"aqua\", selection_alpha=1.0, \n",
    "            nonselection_color=\"aqua\", nonselection_alpha=0.1\n",
    "           )\n",
    "    s2.circle(x='time', y='plt_cost_croptop', source=source,\n",
    "              color=\"aqua\", alpha=0.5, size=1.0, legend='scaled price ($/kW)',\n",
    "              selection_color=\"aqua\", selection_alpha=1.0, \n",
    "              nonselection_color=\"aqua\", nonselection_alpha=0.1\n",
    "             )\n",
    "    \n",
    "    hover1 = HoverTool(tooltips=[('time', '@time{%F %T}'),\n",
    "                                (OUTPUT_COLUMN_ALIAS['mode'], '@mode'),\n",
    "                                (OUTPUT_COLUMN_ALIAS['G_kWe'], '@G_kWe{+0,0.0}'),\n",
    "                                ('original grid load (kW)', '@G_kWe_orig{0,0.0}'),\n",
    "                                (OUTPUT_COLUMN_ALIAS['S_kWe'], '@S_kWe{0,0.0}'),\n",
    "                                ('net electrical load (kW)', '@Net_kWe{+0,0.0}'),\n",
    "                                (OUTPUT_COLUMN_ALIAS['P_kWe'], '@P_kWe{0,0.0}'),\n",
    "                                (OUTPUT_COLUMN_ALIAS['CoP'], '@CoP{0.0}'),\n",
    "                                (OUTPUT_COLUMN_ALIAS['L_kWr'], '@L_kWr{0,0.0}'),\n",
    "#                                 ('original thermal load (kW)', '@L_kWr2e{0,0.0}'),\n",
    "                                (OUTPUT_COLUMN_ALIAS['C_kWr'], '@C_kWr{+0,0.0}'),                                 \n",
    "                                ('lambda', '@plt_lambda{0.000 a}'), \n",
    "                                ('pi_i/CoP', '@plt_cost{0.000 a}'),\n",
    "                                ('pi_e/CoP', '@plt_price{0.000 a}'),\n",
    "                                ('pi_d', '@pi_d'), \n",
    "                                (OUTPUT_COLUMN_ALIAS['SoC_kWhr'], '@SoC_kWhr{+0,0.0}')\n",
    "                                ], mode='mouse', formatters=dict(time='datetime'))\n",
    "    s1.add_tools(hover1)\n",
    "    s2.add_tools(hover1) \n",
    "    s2.x_range = s1.x_range\n",
    "\n",
    "    plot_time = get_datetime_str()\n",
    "    output_file(os.path.join('./tmpOut/','test' + plot_time +'.html'), \n",
    "                title=\"Visualisation {}\".format(plot_time))\n",
    "    layout = column(s1, s2)\n",
    "    show(layout)"
   ]
  },
  {
   "cell_type": "code",
   "execution_count": 34,
   "metadata": {},
   "outputs": [],
   "source": [
    "plot_result_df(baseline_rf)"
   ]
  },
  {
   "cell_type": "markdown",
   "metadata": {},
   "source": [
    "# Calculate costs:"
   ]
  },
  {
   "cell_type": "code",
   "execution_count": 35,
   "metadata": {},
   "outputs": [],
   "source": [
    "import UniSA_CNC_BasisData as UniSA_data\n",
    "\n",
    "def calculate_costs(rf, savefie):\n",
    "    \"\"\"This module assumes there are a lot of things about the data frame rf already in place\"\"\"\n",
    "    # not even sure this does anything I need it to do.\n",
    "    rf['cost_e'] = ((rf.G_kWe.where(rf.G_kWe > 0.0, 0.0) * 0.5 * rf.pi_i) \n",
    "                    + (rf.G_kWe.where(rf.G_kWe < 0.0, 0.0) * 0.5 * rf.pi_e))\n",
    "    # \n",
    "    rf['G_PV_only_kWe'] = rf.L_kWr/rf.CoP + rf.L_kWe - rf.S_kWe\n",
    "    rf['cost_PV_only_e'] = ((rf.G_PV_only_kWe.where(rf.G_PV_only_kWe > 0.0, 0.0) * 0.5 * rf.pi_i) \n",
    "                            + (rf.G_PV_only_kWe.where(rf.G_PV_only_kWe < 0.0, 0.0) * 0.5 * rf.pi_e))\n",
    "    \n",
    "    monthly_rf = rf[['cost_e', 'cost_PV_only_e']].resample('M').sum()\n",
    "\n",
    "    # monthly_rf['cost_d_peak'] = 0.0 \n",
    "    # monthly_rf['cost_d_additional'] = 0.0\n",
    "    # monthly_rf['max_kVA'] = 0.0 \n",
    "    # monthly_rf['peak_kVA'] = 0.0 \n",
    "\n",
    "    rf['G_kVA'] = rf.G_kWe.where(rf.G_kWe > 0.0, 0.0) / 0.97\n",
    "    rf['G_pv_only_kWe'] = rf.L_kWr/rf.CoP + rf.L_kWe - rf.S_kWe\n",
    "    rf['G_pv_only_kVA'] = rf.G_pv_only_kWe.where(rf.G_pv_only_kWe > 0.0, 0.0) / 0.97\n",
    "\n",
    "    # ['cost_d', 'cost_d_peak', 'cost_d_additional', 'max_kVA', 'peak_kVA'] =\n",
    "\n",
    "    (monthly_kVA_cost, peak_kVA_cost, additional_kVA_cost, \n",
    "     max_kVA, peak_kVA) = UniSA_data.analyse_monthly_distributor_demand(rf.G_kVA)\n",
    "    monthly_rf['cost_d'] = monthly_kVA_cost\n",
    "\n",
    "    (monthly_kVA_cost, peak_kVA_cost, additional_kVA_cost,\n",
    "     max_kVA, peak_kVA) = UniSA_data.analyse_monthly_distributor_demand(rf.G_pv_only_kVA)\n",
    "    monthly_rf['cost_pv_only_d'] = monthly_kVA_cost\n",
    "    \n",
    "    monthly_rf.to_csv('savefie', sep='\\t')\n",
    "    \n",
    "    logger.debug('annual costs\\n%s\\n', monthly_rf.resample('A').sum())\n",
    "    logger.debug('monthly breakdown\\n%s\\n', rf[['cost_e', 'cost_PV_only_e']].resample('M').sum())\n",
    "    \n",
    "    logger.info('energy cost details:\\nPV only\\t\\tPV+Storage\\tSaving\\n${:.2f}\\t${:.2f}\\t${:.2f}\\n'.format(\n",
    "        monthly_rf.cost_PV_only_e.sum(), monthly_rf.cost_e.sum(), \n",
    "        monthly_rf.cost_PV_only_e.sum() - monthly_rf.cost_e.sum()))\n",
    "    logger.info('demand cost details:\\nPV only\\t\\tPV+Storage\\tSaving\\n${:.2f}\\t${:.2f}\\t${:.2f}\\n'.format(\n",
    "        monthly_rf.cost_pv_only_d.sum(), monthly_rf.cost_d.sum(), \n",
    "        monthly_rf.cost_pv_only_d.sum() - monthly_rf.cost_d.sum()))\n",
    "    \n",
    "    total_saving = (monthly_rf.cost_PV_only_e.sum() - monthly_rf.cost_e.sum() \n",
    "                    + monthly_rf.cost_pv_only_d.sum() - monthly_rf.cost_d.sum())\n",
    "    logger.info('costs savings:\\nPV only\\t\\tPV+Storage\\tSaving\\n${:.2f}\\t${:.2f}\\t${:.2f}\\n'.format(\n",
    "        monthly_rf.cost_PV_only_e.sum() + monthly_rf.cost_pv_only_d.sum(), \n",
    "        monthly_rf.cost_e.sum() + monthly_rf.cost_d.sum(),\n",
    "        total_saving))\n",
    "    \n",
    "    return (rf, monthly_rf)"
   ]
  },
  {
   "cell_type": "code",
   "execution_count": 36,
   "metadata": {},
   "outputs": [],
   "source": [
    "baseline_output_file = r'./data/tsv_TES_2080/test_data_2080_output.tsv'\n",
    "output_filename = r'.\\data\\baseline_optimum_result.tsv'\n",
    "\n",
    "baseline_output_df = pd.read_csv(baseline_output_file, sep='\\t', index_col=0, infer_datetime_format=True)"
   ]
  },
  {
   "cell_type": "code",
   "execution_count": 37,
   "metadata": {
    "scrolled": true
   },
   "outputs": [
    {
     "name": "stderr",
     "output_type": "stream",
     "text": [
      " 2018-07-30 10:21:09,445 - INFO - old coulumn names:\n",
      "Index(['thermal load (kW)', 'electrical load (kW)', 'solar (kW)', 'COP',\n",
      "       'import price ($/kWh)', 'export price ($/kWh)', 'demand price ($/kW)',\n",
      "       'lambda', 'mode', 'compressor power (kW)', 'grid (kW)',\n",
      "       'stored thermal energy (kWh)', 'heat to store (kW)'],\n",
      "      dtype='object')\n",
      " 2018-07-30 10:21:09,448 - INFO - new coulumn names:\n",
      "Index(['L_kWr', 'L_kWe', 'S_kWe', 'CoP', 'pi_i', 'pi_e', 'pi_d',\n",
      "       'lambda_dpkWh', 'mode', 'P_kWe', 'G_kWe', 'SoC_kWhr', 'C_kWr'],\n",
      "      dtype='object')\n"
     ]
    }
   ],
   "source": [
    "baseline_output_df.index = pd.to_datetime(baseline_output_df.index)\n",
    "baseline_output_df.index.name = 'time'\n",
    "\n",
    "logger.info('old coulumn names:\\n%s', baseline_output_df.columns)\n",
    "baseline_output_df.rename(columns=OUTPUT_COLUMN_NAMES, inplace=True)\n",
    "logger.info('new coulumn names:\\n%s', baseline_output_df.columns)"
   ]
  },
  {
   "cell_type": "markdown",
   "metadata": {},
   "source": [
    "something is not quite right here, the PV only cost should be the same as before and is not.  Will need to check what the price data that I am using is, suspect that it is the forecast price rather than the actual price, this will also affect the pv+storage evaluation. To fix I will just have to re-read the import prices, adjust them and etc. etc.\n",
    "\n",
    "there seems to be some sort of rounding error when running the cooling code, the follwing 'fixes' that "
   ]
  },
  {
   "cell_type": "code",
   "execution_count": 38,
   "metadata": {},
   "outputs": [],
   "source": [
    "output_df_vb = baseline_output_df.copy()\n",
    "output_df_vb.pi_i = FOCUS_DF.adj_cpkWh/100\n",
    "output_df_vb.pi_e = FOCUS_DF.exp_cpkWh/100"
   ]
  },
  {
   "cell_type": "markdown",
   "metadata": {},
   "source": [
    "some checks related to the price of things:"
   ]
  },
  {
   "cell_type": "code",
   "execution_count": 39,
   "metadata": {
    "scrolled": true
   },
   "outputs": [
    {
     "data": {
      "text/html": [
       "<div>\n",
       "<style>\n",
       "    .dataframe thead tr:only-child th {\n",
       "        text-align: right;\n",
       "    }\n",
       "\n",
       "    .dataframe thead th {\n",
       "        text-align: left;\n",
       "    }\n",
       "\n",
       "    .dataframe tbody tr th {\n",
       "        vertical-align: top;\n",
       "    }\n",
       "</style>\n",
       "<table border=\"1\" class=\"dataframe\">\n",
       "  <thead>\n",
       "    <tr style=\"text-align: right;\">\n",
       "      <th></th>\n",
       "      <th>L_r</th>\n",
       "      <th>CoP</th>\n",
       "      <th>L_e</th>\n",
       "      <th>PV</th>\n",
       "      <th>adj_cpkWh</th>\n",
       "      <th>exp_cpkWh</th>\n",
       "      <th>tou_cpkWh</th>\n",
       "    </tr>\n",
       "  </thead>\n",
       "  <tbody>\n",
       "    <tr>\n",
       "      <th>2017-10-13 14:30:00</th>\n",
       "      <td>263.133569</td>\n",
       "      <td>4.2</td>\n",
       "      <td>73.321360</td>\n",
       "      <td>180.293500</td>\n",
       "      <td>13.858078</td>\n",
       "      <td>7.9956</td>\n",
       "      <td>0.0</td>\n",
       "    </tr>\n",
       "    <tr>\n",
       "      <th>2017-10-13 15:00:00</th>\n",
       "      <td>386.414083</td>\n",
       "      <td>4.2</td>\n",
       "      <td>115.157986</td>\n",
       "      <td>160.103583</td>\n",
       "      <td>13.324236</td>\n",
       "      <td>7.5384</td>\n",
       "      <td>0.0</td>\n",
       "    </tr>\n",
       "    <tr>\n",
       "      <th>2017-10-13 15:30:00</th>\n",
       "      <td>100.581915</td>\n",
       "      <td>4.2</td>\n",
       "      <td>160.441383</td>\n",
       "      <td>134.562500</td>\n",
       "      <td>13.644751</td>\n",
       "      <td>7.8129</td>\n",
       "      <td>0.0</td>\n",
       "    </tr>\n",
       "    <tr>\n",
       "      <th>2017-10-13 16:00:00</th>\n",
       "      <td>213.599826</td>\n",
       "      <td>4.2</td>\n",
       "      <td>122.472183</td>\n",
       "      <td>108.268750</td>\n",
       "      <td>14.002047</td>\n",
       "      <td>8.1189</td>\n",
       "      <td>0.0</td>\n",
       "    </tr>\n",
       "    <tr>\n",
       "      <th>2017-10-13 16:30:00</th>\n",
       "      <td>367.032886</td>\n",
       "      <td>4.2</td>\n",
       "      <td>137.425991</td>\n",
       "      <td>80.606833</td>\n",
       "      <td>13.426170</td>\n",
       "      <td>7.6257</td>\n",
       "      <td>0.0</td>\n",
       "    </tr>\n",
       "  </tbody>\n",
       "</table>\n",
       "</div>"
      ],
      "text/plain": [
       "                            L_r  CoP         L_e          PV  adj_cpkWh  \\\n",
       "2017-10-13 14:30:00  263.133569  4.2   73.321360  180.293500  13.858078   \n",
       "2017-10-13 15:00:00  386.414083  4.2  115.157986  160.103583  13.324236   \n",
       "2017-10-13 15:30:00  100.581915  4.2  160.441383  134.562500  13.644751   \n",
       "2017-10-13 16:00:00  213.599826  4.2  122.472183  108.268750  14.002047   \n",
       "2017-10-13 16:30:00  367.032886  4.2  137.425991   80.606833  13.426170   \n",
       "\n",
       "                     exp_cpkWh  tou_cpkWh  \n",
       "2017-10-13 14:30:00     7.9956        0.0  \n",
       "2017-10-13 15:00:00     7.5384        0.0  \n",
       "2017-10-13 15:30:00     7.8129        0.0  \n",
       "2017-10-13 16:00:00     8.1189        0.0  \n",
       "2017-10-13 16:30:00     7.6257        0.0  "
      ]
     },
     "execution_count": 39,
     "metadata": {},
     "output_type": "execute_result"
    }
   ],
   "source": [
    "FOCUS_DF.head()"
   ]
  },
  {
   "cell_type": "code",
   "execution_count": 40,
   "metadata": {},
   "outputs": [
    {
     "data": {
      "text/html": [
       "<div>\n",
       "<style>\n",
       "    .dataframe thead tr:only-child th {\n",
       "        text-align: right;\n",
       "    }\n",
       "\n",
       "    .dataframe thead th {\n",
       "        text-align: left;\n",
       "    }\n",
       "\n",
       "    .dataframe tbody tr th {\n",
       "        vertical-align: top;\n",
       "    }\n",
       "</style>\n",
       "<table border=\"1\" class=\"dataframe\">\n",
       "  <thead>\n",
       "    <tr style=\"text-align: right;\">\n",
       "      <th></th>\n",
       "      <th>L_kWr</th>\n",
       "      <th>L_kWe</th>\n",
       "      <th>S_kWe</th>\n",
       "      <th>CoP</th>\n",
       "      <th>pi_i</th>\n",
       "      <th>pi_e</th>\n",
       "      <th>pi_d</th>\n",
       "      <th>lambda_dpkWh</th>\n",
       "      <th>mode</th>\n",
       "      <th>P_kWe</th>\n",
       "      <th>G_kWe</th>\n",
       "      <th>SoC_kWhr</th>\n",
       "      <th>C_kWr</th>\n",
       "    </tr>\n",
       "    <tr>\n",
       "      <th>time</th>\n",
       "      <th></th>\n",
       "      <th></th>\n",
       "      <th></th>\n",
       "      <th></th>\n",
       "      <th></th>\n",
       "      <th></th>\n",
       "      <th></th>\n",
       "      <th></th>\n",
       "      <th></th>\n",
       "      <th></th>\n",
       "      <th></th>\n",
       "      <th></th>\n",
       "      <th></th>\n",
       "    </tr>\n",
       "  </thead>\n",
       "  <tbody>\n",
       "    <tr>\n",
       "      <th>2017-10-13 14:30:00</th>\n",
       "      <td>263.134</td>\n",
       "      <td>73.321</td>\n",
       "      <td>180.294</td>\n",
       "      <td>3.850</td>\n",
       "      <td>0.139</td>\n",
       "      <td>0.080</td>\n",
       "      <td>0.020479</td>\n",
       "      <td>-5.768831e-09</td>\n",
       "      <td>Discharge</td>\n",
       "      <td>0.000</td>\n",
       "      <td>-106.972</td>\n",
       "      <td>1040.000</td>\n",
       "      <td>263.134</td>\n",
       "    </tr>\n",
       "    <tr>\n",
       "      <th>2017-10-13 15:00:00</th>\n",
       "      <td>386.414</td>\n",
       "      <td>115.158</td>\n",
       "      <td>160.104</td>\n",
       "      <td>3.774</td>\n",
       "      <td>0.133</td>\n",
       "      <td>0.075</td>\n",
       "      <td>0.020479</td>\n",
       "      <td>-5.768831e-09</td>\n",
       "      <td>Solar</td>\n",
       "      <td>44.946</td>\n",
       "      <td>0.000</td>\n",
       "      <td>1171.567</td>\n",
       "      <td>216.795</td>\n",
       "    </tr>\n",
       "    <tr>\n",
       "      <th>2017-10-13 15:30:00</th>\n",
       "      <td>100.582</td>\n",
       "      <td>160.441</td>\n",
       "      <td>134.562</td>\n",
       "      <td>3.705</td>\n",
       "      <td>0.136</td>\n",
       "      <td>0.078</td>\n",
       "      <td>0.020479</td>\n",
       "      <td>-5.768831e-09</td>\n",
       "      <td>Discharge</td>\n",
       "      <td>0.000</td>\n",
       "      <td>25.879</td>\n",
       "      <td>1279.964</td>\n",
       "      <td>100.582</td>\n",
       "    </tr>\n",
       "    <tr>\n",
       "      <th>2017-10-13 16:00:00</th>\n",
       "      <td>213.600</td>\n",
       "      <td>122.472</td>\n",
       "      <td>108.269</td>\n",
       "      <td>3.645</td>\n",
       "      <td>0.140</td>\n",
       "      <td>0.081</td>\n",
       "      <td>0.020479</td>\n",
       "      <td>-5.768831e-09</td>\n",
       "      <td>Discharge</td>\n",
       "      <td>0.000</td>\n",
       "      <td>14.203</td>\n",
       "      <td>1330.255</td>\n",
       "      <td>213.600</td>\n",
       "    </tr>\n",
       "    <tr>\n",
       "      <th>2017-10-13 16:30:00</th>\n",
       "      <td>367.033</td>\n",
       "      <td>137.426</td>\n",
       "      <td>80.607</td>\n",
       "      <td>3.594</td>\n",
       "      <td>0.134</td>\n",
       "      <td>0.076</td>\n",
       "      <td>0.020479</td>\n",
       "      <td>-5.768831e-09</td>\n",
       "      <td>Discharge</td>\n",
       "      <td>0.000</td>\n",
       "      <td>56.819</td>\n",
       "      <td>1437.055</td>\n",
       "      <td>367.033</td>\n",
       "    </tr>\n",
       "  </tbody>\n",
       "</table>\n",
       "</div>"
      ],
      "text/plain": [
       "                       L_kWr    L_kWe    S_kWe    CoP   pi_i   pi_e      pi_d  \\\n",
       "time                                                                            \n",
       "2017-10-13 14:30:00  263.134   73.321  180.294  3.850  0.139  0.080  0.020479   \n",
       "2017-10-13 15:00:00  386.414  115.158  160.104  3.774  0.133  0.075  0.020479   \n",
       "2017-10-13 15:30:00  100.582  160.441  134.562  3.705  0.136  0.078  0.020479   \n",
       "2017-10-13 16:00:00  213.600  122.472  108.269  3.645  0.140  0.081  0.020479   \n",
       "2017-10-13 16:30:00  367.033  137.426   80.607  3.594  0.134  0.076  0.020479   \n",
       "\n",
       "                     lambda_dpkWh       mode   P_kWe    G_kWe  SoC_kWhr  \\\n",
       "time                                                                      \n",
       "2017-10-13 14:30:00 -5.768831e-09  Discharge   0.000 -106.972  1040.000   \n",
       "2017-10-13 15:00:00 -5.768831e-09      Solar  44.946    0.000  1171.567   \n",
       "2017-10-13 15:30:00 -5.768831e-09  Discharge   0.000   25.879  1279.964   \n",
       "2017-10-13 16:00:00 -5.768831e-09  Discharge   0.000   14.203  1330.255   \n",
       "2017-10-13 16:30:00 -5.768831e-09  Discharge   0.000   56.819  1437.055   \n",
       "\n",
       "                       C_kWr  \n",
       "time                          \n",
       "2017-10-13 14:30:00  263.134  \n",
       "2017-10-13 15:00:00  216.795  \n",
       "2017-10-13 15:30:00  100.582  \n",
       "2017-10-13 16:00:00  213.600  \n",
       "2017-10-13 16:30:00  367.033  "
      ]
     },
     "execution_count": 40,
     "metadata": {},
     "output_type": "execute_result"
    }
   ],
   "source": [
    "baseline_output_df.head()"
   ]
  },
  {
   "cell_type": "code",
   "execution_count": 41,
   "metadata": {},
   "outputs": [
    {
     "data": {
      "text/plain": [
       "2017-10-13 14:30:00    0.138581\n",
       "2017-10-13 15:00:00    0.133242\n",
       "2017-10-13 15:30:00    0.136448\n",
       "2017-10-13 16:00:00    0.140020\n",
       "2017-10-13 16:30:00    0.134262\n",
       "Name: RRP, dtype: float64"
      ]
     },
     "execution_count": 41,
     "metadata": {},
     "output_type": "execute_result"
    }
   ],
   "source": [
    "LOAD_DF.RRP.head().apply(adjust_import_cost_dpkWh)"
   ]
  },
  {
   "cell_type": "markdown",
   "metadata": {},
   "source": [
    "then this! "
   ]
  },
  {
   "cell_type": "code",
   "execution_count": 42,
   "metadata": {
    "scrolled": false
   },
   "outputs": [
    {
     "name": "stderr",
     "output_type": "stream",
     "text": [
      " 2018-07-30 10:21:10,465 - INFO - energy cost details:\n",
      "PV only\t\tPV+Storage\tSaving\n",
      "$50574.25\t$44783.26\t$5790.98\n",
      "\n",
      " 2018-07-30 10:21:10,467 - INFO - demand cost details:\n",
      "PV only\t\tPV+Storage\tSaving\n",
      "$10045.74\t$8022.73\t$2023.01\n",
      "\n",
      " 2018-07-30 10:21:10,469 - INFO - costs savings:\n",
      "PV only\t\tPV+Storage\tSaving\n",
      "$60619.99\t$52806.00\t$7813.99\n",
      "\n"
     ]
    }
   ],
   "source": [
    "(result_df0, monthly_df0) = calculate_costs(output_df_vb, baseline_output_file)"
   ]
  },
  {
   "cell_type": "code",
   "execution_count": 43,
   "metadata": {
    "scrolled": false
   },
   "outputs": [
    {
     "name": "stderr",
     "output_type": "stream",
     "text": [
      " 2018-07-30 10:21:10,891 - INFO - Session output file './tmpOut/test2018-07-30_1021.html' already exists, will be overwritten.\n"
     ]
    }
   ],
   "source": [
    "plot_result_df(result_df0)"
   ]
  },
  {
   "cell_type": "markdown",
   "metadata": {},
   "source": [
    "# BREAKPOINT"
   ]
  },
  {
   "cell_type": "code",
   "execution_count": 44,
   "metadata": {
    "scrolled": false
   },
   "outputs": [
    {
     "name": "stdout",
     "output_type": "stream",
     "text": [
      "Need we go into the following weeds (y/anything else)y\n"
     ]
    }
   ],
   "source": [
    "check_mode = input('Need we go into the following weeds (y/anything else)')\n",
    "if not (check_mode == 'y'): print( cause_error )"
   ]
  },
  {
   "cell_type": "markdown",
   "metadata": {},
   "source": [
    "# BREAKPOINT"
   ]
  },
  {
   "cell_type": "code",
   "execution_count": 45,
   "metadata": {},
   "outputs": [
    {
     "name": "stderr",
     "output_type": "stream",
     "text": [
      " 2018-07-30 10:39:30,037 - INFO - 160493.1006022514\n"
     ]
    }
   ],
   "source": [
    "FOCUS_DF['G_original'] = FOCUS_DF.L_e + FOCUS_DF.L_r / MAX_COP\n",
    "FOCUS_DF['cost_no_RE'] = FOCUS_DF.G_original * result_df0.pi_i\n",
    "\n",
    "logger.info(FOCUS_DF.cost_no_RE.sum())"
   ]
  },
  {
   "cell_type": "code",
   "execution_count": 46,
   "metadata": {},
   "outputs": [
    {
     "data": {
      "text/plain": [
       "9484.636372320985"
      ]
     },
     "execution_count": 46,
     "metadata": {},
     "output_type": "execute_result"
    }
   ],
   "source": [
    "original_demand_cost = UniSA_data.analyse_monthly_distributor_demand(FOCUS_DF.G_original)\n",
    "original_demand_cost[0].sum()\n"
   ]
  },
  {
   "cell_type": "markdown",
   "metadata": {},
   "source": [
    "Ok so now we have an input file with all the appropriate data, \n",
    "we also have a baseline result with this file and we have a dictionary for renaming the column names\n",
    "\n",
    "For the fist investigation we want to just get the varius costs, based on the complete data set.  After this we will work back from 7 days one day at a time to 12 hours just to get a sense of the lost savings from having all the data.  \n",
    "\n",
    "I need to formulate some functions that I can call to evaluate the appropriate results in."
   ]
  },
  {
   "cell_type": "markdown",
   "metadata": {},
   "source": [
    "# Rolling window code"
   ]
  },
  {
   "cell_type": "code",
   "execution_count": 47,
   "metadata": {},
   "outputs": [],
   "source": [
    "# might need two input files, one with the perfect forecast\n",
    "INPUT_FILE = r'./data/tsv_TES_2080/test_data_2080.tsv'\n",
    "\n",
    "FORECAST_FILE = r'C:/temp/intermediate_files/tmp_fwindow.tsv'\n",
    "TRAJECTORY_FILE = r'C:/temp/intermediate_files/tmp_trajectory.tsv'"
   ]
  },
  {
   "cell_type": "code",
   "execution_count": 48,
   "metadata": {},
   "outputs": [],
   "source": [
    "window_time_duration = lambda x: timedelta(x); \n",
    "window_interval_duration = lambda x: int(np.round(48.0 * x))\n",
    "SYSTEM_PARAMETERS = ''"
   ]
  },
  {
   "cell_type": "markdown",
   "metadata": {},
   "source": [
    "deal with the parameters at the head of the file:"
   ]
  },
  {
   "cell_type": "code",
   "execution_count": 49,
   "metadata": {},
   "outputs": [],
   "source": [
    "def get_original_parameters(input_file):\n",
    "    parameters = None\n",
    "    with open(input_file) as in_file:\n",
    "        parameters = list(csv.reader(in_file, delimiter='\\t'))[:6]\n",
    "        logger.debug('got the following parameter list:\\n%s', parameters)\n",
    "    return parameters\n",
    "\n",
    "input_param_list = get_original_parameters(INPUT_FILE)\n",
    "if logger.getEffectiveLevel() < logging.DEBUG: \n",
    "    write_initial_SoC(r'./intermediate_files/test.tsv', input_param_list, intitial_SoC/2)\n",
    "\n",
    "input_df = pd.read_csv(INPUT_FILE, index_col=0, skiprows=6, \n",
    "                       infer_datetime_format=True, sep='\\t')\n",
    "\n",
    "# need to get the parameters from the first 6 lines here\n",
    "logger.debug('\\n%s', input_df.head())\n",
    "logger.debug('\\n%s', input_df.tail())\n",
    "\n",
    "if logger.getEffectiveLevel() < logging.DEBUG: \n",
    "    input_df.to_csv(r'./intermediate_files/test.tsv', mode='a')"
   ]
  },
  {
   "cell_type": "code",
   "execution_count": 50,
   "metadata": {},
   "outputs": [],
   "source": [
    "def prepare_intermediate_input(data_file, parameters, input_df, SoC_value):\n",
    "    # quick bounds check, using the same logic as in the cooling.lhs \n",
    "    # for resetting the SoC value just outside the boundary\n",
    "    target_SoC = SoC_value\n",
    "    \n",
    "    eps = 1.0e-1 # braket window for target SoC\n",
    "    maxCapacity = float(parameters[0][1])\n",
    "    if SoC_value > (1 - eps) * maxCapacity: target_SoC = (1 - eps) * maxCapacity\n",
    "    elif SoC_value < eps * maxCapacity: target_SoC = eps * maxCapacity\n",
    "    logger.debug('new SoC is: {:.7f}'.format(SoC_value))\n",
    "\n",
    "    parameters[4][1] = SoC_value\n",
    "    parameters[5][1] = target_SoC\n",
    "    \n",
    "    # do the do ...   \n",
    "    with open(data_file, 'w', newline='') as dfile:\n",
    "        logger.debug('updating parameters with:\\n%s', parameters)\n",
    "        \n",
    "        csv_write = csv.writer(dfile, delimiter='\\t', lineterminator='\\n')\n",
    "        for row in parameters: csv_write.writerow(row)\n",
    "        csv_write.writerow([]) # empty row as a spacer\n",
    "    \n",
    "    # append the data \n",
    "    input_df.to_csv(FORECAST_FILE, mode='a', sep='\\t')\n",
    "    \n",
    "    return None"
   ]
  },
  {
   "cell_type": "code",
   "execution_count": 51,
   "metadata": {
    "scrolled": false
   },
   "outputs": [
    {
     "name": "stderr",
     "output_type": "stream",
     "text": [
      " 2018-07-30 10:39:30,974 - INFO - about to set current SoC to 1040.00\n",
      " 2018-07-30 10:39:30,976 - INFO - what we want is for it to be: 1040.00\n"
     ]
    }
   ],
   "source": [
    "# check the current SoC elements\n",
    "logger.info('about to set current SoC to {:.2f}'.format(float(input_param_list[4][1])))\n",
    "logger.info('what we want is for it to be: {:.2f}'.format(float(input_param_list[0][1])/2.0))"
   ]
  },
  {
   "cell_type": "code",
   "execution_count": 52,
   "metadata": {},
   "outputs": [
    {
     "name": "stderr",
     "output_type": "stream",
     "text": [
      " 2018-07-30 10:39:31,314 - INFO - About to load keys for forecasts\n"
     ]
    }
   ],
   "source": [
    "from Get_NEM_PV_forecast import get_PV_forecast, load_PV_forecast_meta_data\n",
    "%reload_ext autoreload\n",
    "%autoreload 2\n",
    "\n",
    "_ = load_PV_forecast_meta_data()"
   ]
  },
  {
   "cell_type": "code",
   "execution_count": 53,
   "metadata": {
    "scrolled": false
   },
   "outputs": [
    {
     "name": "stderr",
     "output_type": "stream",
     "text": [
      " 2018-07-30 10:39:40,206 - INFO - about to optimise using a window of: 144\n",
      " 2018-07-30 10:39:40,207 - INFO - pass\ttime start\ttime end\tSoC\n",
      "C:\\ProgramData\\Anaconda3\\lib\\site-packages\\ipykernel_launcher.py:43: SettingWithCopyWarning: \n",
      "A value is trying to be set on a copy of a slice from a DataFrame.\n",
      "Try using .loc[row_indexer,col_indexer] = value instead\n",
      "\n",
      "See the caveats in the documentation: http://pandas.pydata.org/pandas-docs/stable/indexing.html#indexing-view-versus-copy\n",
      "C:\\ProgramData\\Anaconda3\\lib\\site-packages\\ipykernel_launcher.py:45: SettingWithCopyWarning: \n",
      "A value is trying to be set on a copy of a slice from a DataFrame.\n",
      "Try using .loc[row_indexer,col_indexer] = value instead\n",
      "\n",
      "See the caveats in the documentation: http://pandas.pydata.org/pandas-docs/stable/indexing.html#indexing-view-versus-copy\n",
      "C:\\ProgramData\\Anaconda3\\lib\\site-packages\\ipykernel_launcher.py:46: SettingWithCopyWarning: \n",
      "A value is trying to be set on a copy of a slice from a DataFrame.\n",
      "Try using .loc[row_indexer,col_indexer] = value instead\n",
      "\n",
      "See the caveats in the documentation: http://pandas.pydata.org/pandas-docs/stable/indexing.html#indexing-view-versus-copy\n",
      " 2018-07-30 10:39:46,592 - INFO - 0\t2017-10-13 14:30:00\t2017-10-16 14:00:00\t1004.2\n",
      " 2018-07-30 10:41:11,148 - INFO - 144\t2017-10-16 14:30:00\t2017-10-19 14:00:00\t0.0\n",
      " 2018-07-30 10:42:26,155 - INFO - 288\t2017-10-19 14:30:00\t2017-10-22 14:00:00\t94.1\n",
      " 2018-07-30 10:43:38,915 - INFO - 432\t2017-10-22 14:30:00\t2017-10-25 14:00:00\t78.8\n",
      " 2018-07-30 10:44:51,103 - INFO - 576\t2017-10-25 14:30:00\t2017-10-28 14:00:00\t0.0\n",
      " 2018-07-30 10:46:27,038 - INFO - 720\t2017-10-28 14:30:00\t2017-10-31 14:00:00\t1011.7\n",
      " 2018-07-30 10:48:24,248 - INFO - 864\t2017-10-31 14:30:00\t2017-11-03 14:00:00\t0.0\n",
      " 2018-07-30 10:50:14,046 - INFO - 1008\t2017-11-03 14:30:00\t2017-11-06 14:00:00\t530.0\n",
      " 2018-07-30 10:51:20,174 - INFO - 1152\t2017-11-06 14:30:00\t2017-11-09 14:00:00\t0.0\n",
      " 2018-07-30 10:52:34,668 - INFO - 1296\t2017-11-09 14:30:00\t2017-11-12 14:00:00\t23.6\n",
      " 2018-07-30 10:53:40,677 - INFO - 1440\t2017-11-12 14:30:00\t2017-11-15 14:00:00\t5.6\n",
      " 2018-07-30 10:54:49,284 - INFO - 1584\t2017-11-15 14:30:00\t2017-11-18 14:00:00\t248.4\n",
      " 2018-07-30 10:56:03,545 - INFO - 1728\t2017-11-18 14:30:00\t2017-11-21 14:00:00\t122.0\n",
      " 2018-07-30 10:57:16,848 - INFO - 1872\t2017-11-21 14:30:00\t2017-11-24 14:00:00\t69.0\n",
      " 2018-07-30 10:58:30,690 - INFO - 2016\t2017-11-24 14:30:00\t2017-11-27 14:00:00\t6.2\n",
      " 2018-07-30 10:59:48,992 - INFO - 2160\t2017-11-27 14:30:00\t2017-11-30 14:00:00\t0.0\n",
      " 2018-07-30 11:01:47,663 - INFO - 2304\t2017-11-30 14:30:00\t2017-12-03 14:00:00\t60.3\n",
      " 2018-07-30 11:03:29,148 - INFO - 2448\t2017-12-03 14:30:00\t2017-12-06 14:00:00\t254.8\n",
      " 2018-07-30 11:04:44,003 - INFO - 2592\t2017-12-06 14:30:00\t2017-12-09 14:00:00\t7.2\n",
      " 2018-07-30 11:05:50,002 - INFO - 2736\t2017-12-09 14:30:00\t2017-12-12 14:00:00\t271.7\n",
      " 2018-07-30 11:06:52,036 - INFO - 2880\t2017-12-12 14:30:00\t2017-12-15 14:00:00\t37.4\n",
      " 2018-07-30 11:07:57,283 - INFO - 3024\t2017-12-15 14:30:00\t2017-12-18 14:00:00\t0.0\n",
      " 2018-07-30 11:09:00,541 - INFO - 3168\t2017-12-18 14:30:00\t2017-12-21 14:00:00\t82.7\n",
      " 2018-07-30 11:10:07,324 - INFO - 3312\t2017-12-21 14:30:00\t2017-12-24 14:00:00\t195.2\n",
      " 2018-07-30 11:11:18,419 - INFO - 3456\t2017-12-24 14:30:00\t2017-12-27 14:00:00\t0.0\n",
      " 2018-07-30 11:12:23,582 - INFO - 3600\t2017-12-27 14:30:00\t2017-12-30 14:00:00\t139.2\n",
      " 2018-07-30 11:14:25,130 - INFO - 3744\t2017-12-30 14:30:00\t2018-01-02 14:00:00\t136.1\n",
      " 2018-07-30 11:16:26,899 - INFO - 3888\t2018-01-02 14:30:00\t2018-01-05 14:00:00\t259.7\n",
      " 2018-07-30 11:17:43,173 - INFO - 4032\t2018-01-05 14:30:00\t2018-01-08 14:00:00\t6.2\n",
      " 2018-07-30 11:18:51,985 - INFO - 4176\t2018-01-08 14:30:00\t2018-01-11 14:00:00\t34.9\n",
      " 2018-07-30 11:20:02,079 - INFO - 4320\t2018-01-11 14:30:00\t2018-01-14 14:00:00\t51.0\n",
      " 2018-07-30 11:21:12,835 - INFO - 4464\t2018-01-14 14:30:00\t2018-01-17 14:00:00\t0.0\n",
      " 2018-07-30 11:22:28,000 - INFO - 4608\t2018-01-17 14:30:00\t2018-01-20 14:00:00\t38.5\n",
      " 2018-07-30 11:23:45,601 - INFO - 4752\t2018-01-20 14:30:00\t2018-01-23 14:00:00\t319.5\n",
      " 2018-07-30 11:24:54,025 - INFO - 4896\t2018-01-23 14:30:00\t2018-01-26 14:00:00\t77.4\n",
      " 2018-07-30 11:26:11,267 - INFO - 5040\t2018-01-26 14:30:00\t2018-01-29 14:00:00\t588.8\n",
      " 2018-07-30 11:27:31,513 - INFO - 5040\t2018-01-26 14:30:00\t2018-01-29 14:00:00\t588.8 - trajectory completed\n"
     ]
    }
   ],
   "source": [
    "logging.disable(logging.DEBUG)\n",
    "\n",
    "current_SoC = float(input_param_list[0][1])/2.0\n",
    "logger.debug('The initial state of charge: {:.2f}'.format(current_SoC))\n",
    "\n",
    "end_str = ''\n",
    "trajectory_df = pd.DataFrame()\n",
    "output_df = pd.DataFrame()\n",
    "\n",
    "# FORECAST_INTERVALS = window_interval_duration(40/24) # at martins request\n",
    "FORECAST_INTERVALS = window_interval_duration(3) # \n",
    "\n",
    "logger.info('about to optimise using a window of: %s', FORECAST_INTERVALS)\n",
    "\n",
    "logger.info('pass\\ttime start\\ttime end\\tSoC')\n",
    "for i in range(0, len(input_df.index)-FORECAST_INTERVALS+1, 1):\n",
    "# for i in range(3308, len(input_df.index)-FORECAST_INTERVALS+1, 1):\n",
    "# for i in range(0, 3167, 1):\n",
    "# for i in range(0, 3, 1):\n",
    "    # prepend the parameters to the temp file\n",
    "    # and append the data to the temp file\n",
    "    \n",
    "    # I think this is where I need to replace forecasts based on just prices, \n",
    "    # with forecasts based on a combination of predispatch and padding data\n",
    "\n",
    "    timeStep = pd.to_datetime(input_df.index.values[i])\n",
    "    logger.debug('original input df\\n%s', input_df.iloc[i:i+FORECAST_INTERVALS].head())\n",
    "    \n",
    "    # get the forecast for the number of intervals \n",
    "    rrp_df = get_RRP_forecast(timeStep, FORECAST_INTERVALS, 'SA1')\n",
    "    logger.debug('forecast rrp head \\n%s', rrp_df.head())\n",
    "    logger.debug('forecast rrp indecies from %s %s',\n",
    "                 pd.to_datetime(rrp_df.index.values)[0], pd.to_datetime(rrp_df.index.values)[-1])\n",
    "    \n",
    "    pv_df = get_PV_forecast(timeStep, FORECAST_INTERVALS, 'SA1') * 0.250 * 0.5 * 3.0 * (242.2/297.407)\n",
    "    \n",
    "#     startIndex, endIndex = input_df.index.values[i], input_df.index.values[i+FORECAST_INTERVALS]\n",
    "#     input_df.loc[startIndex:endIndex, 'import price ($/kWh)'] = rrp_df.RRP.apply(adjust_import_cost)\n",
    "#     input_df.loc[startIndex:endIndex, 'export price ($/kWh)'] = rrp_df.RRP.apply(\n",
    "#         adjust_export_price_standalone)\n",
    "    \n",
    "    input_df.iloc[i:i+FORECAST_INTERVALS]['import price ($/kWh)'] = rrp_df.RRP.apply(\n",
    "        adjust_import_cost_dpkWh)\n",
    "    input_df.iloc[i:i+FORECAST_INTERVALS]['export price ($/kWh)'] = rrp_df.RRP.apply(\n",
    "        adjust_export_price_standalone_dpkWh)\n",
    "    input_df.iloc[i:i+FORECAST_INTERVALS]['solar (kWe)'] = pv_df.values\n",
    "    \n",
    "    prepare_intermediate_input(FORECAST_FILE, input_param_list, \n",
    "                               input_df.iloc[i:i+FORECAST_INTERVALS], current_SoC)\n",
    "    \n",
    "    \n",
    "    # execute the cooling code\n",
    "    if  os.system('cooling.exe {} {}'.format(FORECAST_FILE[:-4], TRAJECTORY_FILE[:-4])) > 0:\n",
    "        logger.error('something went wrong with cooling.exe at pass {:n} for time {}'.format(\n",
    "            i, input_df.iloc[i].name))\n",
    "        break\n",
    "    \n",
    "    # process the output to get the current interval behaviour, and append only the first interval to it\n",
    "    trajectory_df = pd.read_csv(TRAJECTORY_FILE, sep='\\t', index_col=0, infer_datetime_format=True)\n",
    "    logger.debug('first line: \\n%s', trajectory_df.iloc[0])\n",
    "    output_df = output_df.append(trajectory_df.iloc[0])\n",
    "    \n",
    "    # move onto the next interval \n",
    "    current_SoC = trajectory_df.iloc[1][-2]\n",
    "    \n",
    "    logger.debug('with new state of charge: %d + %d = %d', \n",
    "                 trajectory_df.iloc[0][-2], trajectory_df.iloc[0][-1], current_SoC)\n",
    "    \n",
    "    if i % FORECAST_INTERVALS == 0: \n",
    "#     if i % 1 == 0: \n",
    "        end_str = '{:n}\\t{}\\t{}\\t{:.1f}'.format(\n",
    "        i, input_df.iloc[i].name, input_df.iloc[i+FORECAST_INTERVALS-1].name, current_SoC)\n",
    "        logger.info('%s', end_str)\n",
    "    if logger.getEffectiveLevel() < logging.DEBUG:\n",
    "        trajectory_df.plot(); plt.show()\n",
    "        input('go around again?')\n",
    "\n",
    "# append the final trajectory to the output data frame\n",
    "# output_df.drop(output_df.iloc[-1].name, inplace=True)\n",
    "\n",
    "logger.info('%s - trajectory completed', end_str)\n",
    "logger.debug('final trajectory interval time stamp: %s', input_df.iloc[-1].name)\n",
    "logger.debug('final output data time stamp %s', output_df.iloc[-1].name)\n",
    "\n",
    "# append the final trajectory to the output data frame\n",
    "output_df.drop(output_df.iloc[-1].name, inplace=True)\n",
    "output_df = output_df.append(trajectory_df)\n",
    "\n",
    "output_df.to_csv(r'.\\data\\{:04n}_interval_window.tsv'.format(FORECAST_INTERVALS), sep='\\t')"
   ]
  },
  {
   "cell_type": "markdown",
   "metadata": {},
   "source": [
    "how do I automate the above code?\n",
    "\n",
    "need to set the system up consistently, then run the code and have the system return the output for cost estimation. \n",
    "\n"
   ]
  },
  {
   "cell_type": "code",
   "execution_count": 54,
   "metadata": {
    "scrolled": true
   },
   "outputs": [
    {
     "data": {
      "image/png": "[encoded data removed]",
      "text/plain": [
       "<matplotlib.figure.Figure at 0xe59ed68>"
      ]
     },
     "metadata": {},
     "output_type": "display_data"
    },
    {
     "data": {
      "image/png": "[encoded data removed]",
      "text/plain": [
       "<matplotlib.figure.Figure at 0xea62f28>"
      ]
     },
     "metadata": {},
     "output_type": "display_data"
    }
   ],
   "source": [
    "if logger.getEffectiveLevel() <= logging.DEBUG:\n",
    "    trajectory_df.plot(); plt.show()\n",
    "    output_df.plot(); plt.show()"
   ]
  },
  {
   "cell_type": "code",
   "execution_count": 55,
   "metadata": {},
   "outputs": [],
   "source": [
    "forecast_output_file = r'.\\data\\{:04n}_interval_window.tsv'.format(FORECAST_INTERVALS)\n",
    "forecast_result_filename = r'.\\data\\forecast_optimum_result.tsv'\n",
    "\n",
    "forecast_output_df = pd.read_csv(forecast_output_file, sep='\\t', index_col=0, infer_datetime_format=True, )"
   ]
  },
  {
   "cell_type": "code",
   "execution_count": 56,
   "metadata": {},
   "outputs": [
    {
     "name": "stderr",
     "output_type": "stream",
     "text": [
      " 2018-07-30 11:27:33,885 - INFO - None\n"
     ]
    }
   ],
   "source": [
    "logger.info(forecast_output_df.index.name)"
   ]
  },
  {
   "cell_type": "code",
   "execution_count": 57,
   "metadata": {
    "scrolled": false
   },
   "outputs": [
    {
     "name": "stderr",
     "output_type": "stream",
     "text": [
      " 2018-07-30 11:27:34,409 - INFO - old coulumn names:\n",
      "Index(['COP', 'compressor power (kW)', 'demand price ($/kW)',\n",
      "       'electrical load (kW)', 'export price ($/kWh)', 'grid (kW)',\n",
      "       'heat to store (kW)', 'import price ($/kWh)', 'lambda', 'mode',\n",
      "       'solar (kW)', 'stored thermal energy (kWh)', 'thermal load (kW)'],\n",
      "      dtype='object')\n",
      " 2018-07-30 11:27:34,412 - INFO - new coulumn names:\n",
      "Index(['CoP', 'P_kWe', 'pi_d', 'L_kWe', 'pi_e', 'G_kWe', 'C_kWr', 'pi_i',\n",
      "       'lambda_dpkWh', 'mode', 'S_kWe', 'SoC_kWhr', 'L_kWr'],\n",
      "      dtype='object')\n"
     ]
    }
   ],
   "source": [
    "forecast_output_df.index = pd.to_datetime(forecast_output_df.index)\n",
    "forecast_output_df.index.name = 'time'\n",
    "\n",
    "logger.info('old coulumn names:\\n%s', forecast_output_df.columns)\n",
    "forecast_output_df.rename(columns=OUTPUT_COLUMN_NAMES, inplace=True)\n",
    "logger.info('new coulumn names:\\n%s', forecast_output_df.columns)"
   ]
  },
  {
   "cell_type": "code",
   "execution_count": 58,
   "metadata": {},
   "outputs": [],
   "source": [
    "output_df_vb = forecast_output_df.copy()\n",
    "output_df_vb.pi_i = FOCUS_DF.adj_cpkWh/100\n",
    "output_df_vb.pi_e = FOCUS_DF.exp_cpkWh/100"
   ]
  },
  {
   "cell_type": "code",
   "execution_count": 59,
   "metadata": {},
   "outputs": [],
   "source": [
    "output_df_vb.S_kWe = FOCUS_DF.PV\n",
    "over_export = output_df_vb.G_kWe < -output_df_vb.S_kWe"
   ]
  },
  {
   "cell_type": "code",
   "execution_count": 60,
   "metadata": {},
   "outputs": [
    {
     "name": "stderr",
     "output_type": "stream",
     "text": [
      "C:\\ProgramData\\Anaconda3\\lib\\site-packages\\pandas\\core\\indexing.py:179: SettingWithCopyWarning: \n",
      "A value is trying to be set on a copy of a slice from a DataFrame\n",
      "\n",
      "See the caveats in the documentation: http://pandas.pydata.org/pandas-docs/stable/indexing.html#indexing-view-versus-copy\n",
      "  self._setitem_with_indexer(indexer, value)\n"
     ]
    }
   ],
   "source": [
    "output_df_vb.G_kWe.loc[over_export] = -1*(\n",
    "    output_df_vb.S_kWe.loc[over_export] +\n",
    "    output_df_vb.G_kWe.loc[over_export] )"
   ]
  },
  {
   "cell_type": "code",
   "execution_count": 61,
   "metadata": {
    "scrolled": true
   },
   "outputs": [
    {
     "data": {
      "text/plain": [
       "'.\\\\data\\\\forecast_optimum_result.tsv'"
      ]
     },
     "execution_count": 61,
     "metadata": {},
     "output_type": "execute_result"
    }
   ],
   "source": [
    "forecast_result_filename"
   ]
  },
  {
   "cell_type": "code",
   "execution_count": 62,
   "metadata": {
    "scrolled": false
   },
   "outputs": [
    {
     "data": {
      "image/png": "[encoded data removed]",
      "text/plain": [
       "<matplotlib.figure.Figure at 0xfcb3f28>"
      ]
     },
     "metadata": {},
     "output_type": "display_data"
    }
   ],
   "source": [
    "forecast_output_df.L_kWr.plot()\n",
    "(forecast_output_df.P_kWe*forecast_output_df.CoP + forecast_output_df.C_kWr).plot(label='total kW$_r$')\n",
    "plt.legend()\n",
    "plt.show()"
   ]
  },
  {
   "cell_type": "markdown",
   "metadata": {},
   "source": [
    "then this! "
   ]
  },
  {
   "cell_type": "code",
   "execution_count": 63,
   "metadata": {
    "scrolled": true
   },
   "outputs": [
    {
     "name": "stderr",
     "output_type": "stream",
     "text": [
      " 2018-07-30 11:27:39,258 - INFO - energy cost details:\n",
      "PV only\t\tPV+Storage\tSaving\n",
      "$50574.24\t$46357.63\t$4216.62\n",
      "\n",
      " 2018-07-30 11:27:39,260 - INFO - demand cost details:\n",
      "PV only\t\tPV+Storage\tSaving\n",
      "$10045.74\t$7847.28\t$2198.46\n",
      "\n",
      " 2018-07-30 11:27:39,262 - INFO - costs savings:\n",
      "PV only\t\tPV+Storage\tSaving\n",
      "$60619.98\t$54204.90\t$6415.08\n",
      "\n"
     ]
    }
   ],
   "source": [
    "(result_df, monthly_df) = calculate_costs(output_df_vb, forecast_result_filename)"
   ]
  },
  {
   "cell_type": "code",
   "execution_count": 64,
   "metadata": {
    "scrolled": false
   },
   "outputs": [],
   "source": [
    "plot_result_df(result_df)"
   ]
  },
  {
   "cell_type": "code",
   "execution_count": 65,
   "metadata": {},
   "outputs": [
    {
     "data": {
      "text/html": [
       "<div>\n",
       "<style>\n",
       "    .dataframe thead tr:only-child th {\n",
       "        text-align: right;\n",
       "    }\n",
       "\n",
       "    .dataframe thead th {\n",
       "        text-align: left;\n",
       "    }\n",
       "\n",
       "    .dataframe tbody tr th {\n",
       "        vertical-align: top;\n",
       "    }\n",
       "</style>\n",
       "<table border=\"1\" class=\"dataframe\">\n",
       "  <thead>\n",
       "    <tr style=\"text-align: right;\">\n",
       "      <th></th>\n",
       "      <th>cost_e</th>\n",
       "      <th>cost_PV_only_e</th>\n",
       "      <th>cost_d</th>\n",
       "      <th>cost_pv_only_d</th>\n",
       "    </tr>\n",
       "    <tr>\n",
       "      <th>time</th>\n",
       "      <th></th>\n",
       "      <th></th>\n",
       "      <th></th>\n",
       "      <th></th>\n",
       "    </tr>\n",
       "  </thead>\n",
       "  <tbody>\n",
       "    <tr>\n",
       "      <th>2017-10-31</th>\n",
       "      <td>4552.051527</td>\n",
       "      <td>4998.274718</td>\n",
       "      <td>1012.037218</td>\n",
       "      <td>1246.456091</td>\n",
       "    </tr>\n",
       "    <tr>\n",
       "      <th>2017-11-30</th>\n",
       "      <td>14175.580763</td>\n",
       "      <td>15008.974408</td>\n",
       "      <td>2408.644584</td>\n",
       "      <td>3001.374388</td>\n",
       "    </tr>\n",
       "    <tr>\n",
       "      <th>2017-12-31</th>\n",
       "      <td>9956.833181</td>\n",
       "      <td>10253.818200</td>\n",
       "      <td>2286.822496</td>\n",
       "      <td>2905.847584</td>\n",
       "    </tr>\n",
       "    <tr>\n",
       "      <th>2018-01-31</th>\n",
       "      <td>17673.160657</td>\n",
       "      <td>20313.175853</td>\n",
       "      <td>2139.773437</td>\n",
       "      <td>2892.061919</td>\n",
       "    </tr>\n",
       "  </tbody>\n",
       "</table>\n",
       "</div>"
      ],
      "text/plain": [
       "                  cost_e  cost_PV_only_e       cost_d  cost_pv_only_d\n",
       "time                                                                 \n",
       "2017-10-31   4552.051527     4998.274718  1012.037218     1246.456091\n",
       "2017-11-30  14175.580763    15008.974408  2408.644584     3001.374388\n",
       "2017-12-31   9956.833181    10253.818200  2286.822496     2905.847584\n",
       "2018-01-31  17673.160657    20313.175853  2139.773437     2892.061919"
      ]
     },
     "execution_count": 65,
     "metadata": {},
     "output_type": "execute_result"
    }
   ],
   "source": [
    "monthly_df"
   ]
  },
  {
   "cell_type": "code",
   "execution_count": 66,
   "metadata": {
    "scrolled": true
   },
   "outputs": [
    {
     "data": {
      "text/plain": [
       "287.70499999999998"
      ]
     },
     "execution_count": 66,
     "metadata": {},
     "output_type": "execute_result"
    }
   ],
   "source": [
    "result_df0.S_kWe.max()"
   ]
  },
  {
   "cell_type": "code",
   "execution_count": 67,
   "metadata": {
    "scrolled": false
   },
   "outputs": [
    {
     "data": {
      "text/plain": [
       "287.70474999999988"
      ]
     },
     "execution_count": 67,
     "metadata": {},
     "output_type": "execute_result"
    }
   ],
   "source": [
    "result_df.S_kWe.max()"
   ]
  },
  {
   "cell_type": "code",
   "execution_count": 68,
   "metadata": {},
   "outputs": [
    {
     "data": {
      "text/plain": [
       "0.10582490638248734"
      ]
     },
     "execution_count": 68,
     "metadata": {},
     "output_type": "execute_result"
    }
   ],
   "source": [
    "6415/60619"
   ]
  },
  {
   "cell_type": "code",
   "execution_count": 69,
   "metadata": {},
   "outputs": [
    {
     "data": {
      "text/plain": [
       "0.12888698262920867"
      ]
     },
     "execution_count": 69,
     "metadata": {},
     "output_type": "execute_result"
    }
   ],
   "source": [
    "7813/60619"
   ]
  }
 ],
 "metadata": {
  "kernelspec": {
   "display_name": "Python 3",
   "language": "python",
   "name": "python3"
  },
  "language_info": {
   "codemirror_mode": {
    "name": "ipython",
    "version": 3
   },
   "file_extension": ".py",
   "mimetype": "text/x-python",
   "name": "python",
   "nbconvert_exporter": "python",
   "pygments_lexer": "ipython3",
   "version": "3.6.3"
  }
 },
 "nbformat": 4,
 "nbformat_minor": 2
}
