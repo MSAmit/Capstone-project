{
 "cells": [
  {
   "cell_type": "markdown",
   "metadata": {},
   "source": [
    "This module takes the '1 minute solar' data from the Bureau of Meteorology.  \n",
    "It aggregates the supplied monthly Solar Generation Data into yearly files, process dates and creates CSV files"
   ]
  },
  {
   "cell_type": "markdown",
   "metadata": {},
   "source": [
    "### Import modules and load data"
   ]
  },
  {
   "cell_type": "code",
   "execution_count": 1,
   "metadata": {},
   "outputs": [],
   "source": [
    "import datetime\n",
    "import glob\n",
    "import os\n",
    "import pandas as pd\n",
    "import pytz"
   ]
  },
  {
   "cell_type": "code",
   "execution_count": 2,
   "metadata": {},
   "outputs": [],
   "source": [
    "# Location of data files (unzipped) relative to working directory\n",
    "data_path = '..\\\\solar_data'\n",
    "mths = glob.glob(data_path + \"/*.txt\")"
   ]
  },
  {
   "cell_type": "code",
   "execution_count": 3,
   "metadata": {},
   "outputs": [],
   "source": [
    "colspec = [(1,2), (3,9), (10,14), (15,17), (18,20), (21,23), (24,26), \n",
    "           (27,34), (35,42), (43,50), (51,58), (59,66), \n",
    "           (67,74), (75,82), (83,90), (91,98), (99,106), \n",
    "           (107,114), (115,122), (123,130), (131,138), (139,146), \n",
    "           (147,154), (155,162), (163,170), (171,178), (179,186), \n",
    "           (187,194), (195,202), (203,210), (211, 218), (219,226), \n",
    "           (227,232), (233,238), (239,244), (245,252)]\n",
    "\n",
    "headers = ['record_id', 'station_number', 'yr', 'mth', 'day', 'hr', 'mnt', \n",
    "          'mean_global', 'min_global', 'max_global', 'sd_global', 'uncert_mean_global',\n",
    "          'mean_direct', 'min_direct', 'max_direct', 'sd_direct', 'uncert_mean_direct',\n",
    "          'mean_diffuse', 'min_diffuse', 'max_diffuse', 'sd_diffuse', 'uncert_mean_diffuse',\n",
    "          'mean_terr', 'min_terr', 'max_terr', 'sd_terr', 'uncert_mean_terr',\n",
    "          'mean_dir_horiz', 'min_dir_horiz', 'max_dir_horiz', 'sd_dir_horiz', 'uncert_dir_horiz',\n",
    "          'sunsh_sec_96', 'sunsh_sec_120', 'sunsh_sec_144', 'zenith_dist']"
   ]
  },
  {
   "cell_type": "code",
   "execution_count": 4,
   "metadata": {},
   "outputs": [],
   "source": [
    "def load_1_sec_solar(path):\n",
    "    return pd.read_fwf(path, colspecs=colspec, names=headers, index_col=False, skiprows=[0])"
   ]
  },
  {
   "cell_type": "code",
   "execution_count": 5,
   "metadata": {},
   "outputs": [],
   "source": [
    "from_year = 2016\n",
    "to_year = 2017"
   ]
  },
  {
   "cell_type": "code",
   "execution_count": 6,
   "metadata": {},
   "outputs": [],
   "source": [
    "# Create dictionary of dataframes corresponding to each year specified below:\n",
    "from_year = 2016\n",
    "to_year = 2017\n",
    "\n",
    "solar = {}\n",
    "\n",
    "for year in range(from_year,to_year+1):\n",
    "    solar['PV_' + str(year)] = pd.concat(\n",
    "        (load_1_sec_solar(f) for f in mths if f.split('_')[-2] == str(year)), ignore_index=True)"
   ]
  },
  {
   "cell_type": "markdown",
   "metadata": {},
   "source": [
    "### Process date fields and move to index"
   ]
  },
  {
   "cell_type": "code",
   "execution_count": 7,
   "metadata": {},
   "outputs": [
    {
     "data": {
      "text/plain": [
       "0"
      ]
     },
     "execution_count": 7,
     "metadata": {},
     "output_type": "execute_result"
    }
   ],
   "source": [
    "# Check continuity of time information - any duplicates?\n",
    "solar['PV_' + str(to_year)].duplicated(['yr','mth','day','hr','mnt']).sum()"
   ]
  },
  {
   "cell_type": "markdown",
   "metadata": {},
   "source": [
    "There are no duplicate dates, which would be the case if the datetime represented local time accounting for daylight saving. The BOM's description of the date [here](http://www.bom.gov.au/climate/data/oneminsolar/IDCJAC0022-format.txt) suggests that it is local standard time, so ignores daylight saving.\n",
    "\n",
    "In this case, it might be best to use a timezone naive DatetimeIndex."
   ]
  },
  {
   "cell_type": "code",
   "execution_count": 8,
   "metadata": {},
   "outputs": [],
   "source": [
    "for key, df in solar.items():\n",
    "    dt = df.apply(lambda x: datetime.datetime(x['yr'], x['mth'], x['day'], x['hr'], x['mnt']), axis=1)\n",
    "    df['date_time'] = dt\n",
    "    df.drop(['yr', 'mth', 'day', 'hr', 'mnt'], axis=1, inplace=True)\n",
    "    df.set_index('date_time', inplace=True)"
   ]
  },
  {
   "cell_type": "markdown",
   "metadata": {},
   "source": [
    "Check the number of rows in each year's dataframe"
   ]
  },
  {
   "cell_type": "code",
   "execution_count": 9,
   "metadata": {},
   "outputs": [
    {
     "name": "stdout",
     "output_type": "stream",
     "text": [
      "PV_2016 : 527040 rows\n",
      "PV_2017 : 521280 rows\n"
     ]
    }
   ],
   "source": [
    "for key, df in solar.items():\n",
    "    print(key,':',len(df),'rows')"
   ]
  },
  {
   "cell_type": "markdown",
   "metadata": {},
   "source": [
    "### Save to csv files for further analysis"
   ]
  },
  {
   "cell_type": "code",
   "execution_count": 10,
   "metadata": {},
   "outputs": [],
   "source": [
    "for key, df in solar.items():\n",
    "    df.to_csv('..//solar_data//' + key + '.csv')"
   ]
  }
 ],
 "metadata": {
  "hide_input": false,
  "kernelspec": {
   "display_name": "Python 3",
   "language": "python",
   "name": "python3"
  },
  "language_info": {
   "codemirror_mode": {
    "name": "ipython",
    "version": 3
   },
   "file_extension": ".py",
   "mimetype": "text/x-python",
   "name": "python",
   "nbconvert_exporter": "python",
   "pygments_lexer": "ipython3",
   "version": "3.7.0"
  },
  "latex_envs": {
   "LaTeX_envs_menu_present": true,
   "autoclose": false,
   "autocomplete": true,
   "bibliofile": "biblio.bib",
   "cite_by": "apalike",
   "current_citInitial": 1,
   "eqLabelWithNumbers": true,
   "eqNumInitial": 1,
   "hotkeys": {
    "equation": "Ctrl-E",
    "itemize": "Ctrl-I"
   },
   "labels_anchors": false,
   "latex_user_defs": false,
   "report_style_numbering": false,
   "user_envs_cfg": false
  },
  "toc": {
   "base_numbering": 1,
   "nav_menu": {},
   "number_sections": true,
   "sideBar": true,
   "skip_h1_title": false,
   "title_cell": "Table of Contents",
   "title_sidebar": "Contents",
   "toc_cell": false,
   "toc_position": {},
   "toc_section_display": true,
   "toc_window_display": false
  },
  "varInspector": {
   "cols": {
    "lenName": 16,
    "lenType": 16,
    "lenVar": 40
   },
   "kernels_config": {
    "python": {
     "delete_cmd_postfix": "",
     "delete_cmd_prefix": "del ",
     "library": "var_list.py",
     "varRefreshCmd": "print(var_dic_list())"
    },
    "r": {
     "delete_cmd_postfix": ") ",
     "delete_cmd_prefix": "rm(",
     "library": "var_list.r",
     "varRefreshCmd": "cat(var_dic_list()) "
    }
   },
   "types_to_exclude": [
    "module",
    "function",
    "builtin_function_or_method",
    "instance",
    "_Feature"
   ],
   "window_display": false
  }
 },
 "nbformat": 4,
 "nbformat_minor": 2
}
