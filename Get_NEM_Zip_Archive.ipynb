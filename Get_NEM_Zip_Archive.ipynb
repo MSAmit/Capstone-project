{
 "cells": [
  {
   "cell_type": "markdown",
   "metadata": {},
   "source": [
    "This file is where I got my ideas toghether for a file updater, there are some nice bits and pieces in here.  Ultimately I will republish the useful bits as a straight .py file maybe as a package, or just a collection of functions."
   ]
  },
  {
   "cell_type": "code",
   "execution_count": 1,
   "metadata": {},
   "outputs": [],
   "source": [
    "import numpy as np\n",
    "import pandas as pd\n",
    "import os\n",
    "import re\n",
    "\n",
    "import requests\n",
    "from bs4 import BeautifulSoup # To scrape data"
   ]
  },
  {
   "cell_type": "code",
   "execution_count": 2,
   "metadata": {},
   "outputs": [],
   "source": [
    "import unittest\n",
    "\n",
    "import logging\n",
    "logging.basicConfig(level=logging.DEBUG,\n",
    "                    format=' %(asctime)s - %(levelname)s - %(message)s')\n",
    "logger = logging.getLogger()\n",
    "\n",
    "logging.disable(0) # switched debug on. \n",
    "logging.disable(logging.DEBUG) # debug and below not reported.\n",
    "# logging.disable(logging.INFO)\n",
    "# logging.disable(logging.WARNING)\n",
    "# logging.disable(logging.ERROR)\n",
    "# logging.disable(logging.CRITICAL)"
   ]
  },
  {
   "cell_type": "code",
   "execution_count": 3,
   "metadata": {},
   "outputs": [],
   "source": [
    "nemweb_url = r'http://nemweb.com.au/'\n",
    "MMSDM_archive_url = nemweb_url + r'Data_Archive/Wholesale_Electricity/MMSDM/'\n",
    "ZIPDIR_root = r'E:\\doc\\ICT Project\\MMSDM_ZIPS'"
   ]
  },
  {
   "cell_type": "markdown",
   "metadata": {},
   "source": [
    "from the `not_lacie()` example at the beautiful soup documentation page: https://www.crummy.com/software/BeautifulSoup/bs4/doc/#attrs"
   ]
  },
  {
   "cell_type": "code",
   "execution_count": 4,
   "metadata": {},
   "outputs": [],
   "source": [
    "def is_year_ref(href):\n",
    "    return href and re.compile('(.*\\d{4}\\/$)').search(href)  # a href and last 5 chars in a string are yyyy/\n",
    "\n",
    "def is_month_zip(href):\n",
    "    return href and re.compile('(.*\\d{4}\\_\\d{2}\\.zip$)').search(href)"
   ]
  },
  {
   "cell_type": "code",
   "execution_count": 5,
   "metadata": {},
   "outputs": [],
   "source": [
    "def get_year_urls(url):\n",
    "    try: \n",
    "        r = requests.get(url)\n",
    "        if r.ok: return [item['href'] for item in\n",
    "                         BeautifulSoup(r.text, 'html.parser').find_all(href=is_year_ref)]\n",
    "    except: \n",
    "        logger.critical('cannot get to url: %s', url)\n",
    "        return None\n",
    "\n",
    "def get_remote_zip(year_rl):\n",
    "    url = nemweb_url + year_rl\n",
    "    try: \n",
    "        r = requests.get(url)\n",
    "        if r.ok: return [item['href'][-17:] for item in\n",
    "                         BeautifulSoup(r.text, 'html.parser').find_all(href=is_month_zip)]\n",
    "    except: \n",
    "        logger.critical('cannot get to url: %s', url)\n",
    "        return None\n",
    "    \n",
    "def get_local_zip(year_rl):\n",
    "    return os.listdir(os.path.join(ZIPDIR_root, year_rl[-5:-1]))"
   ]
  },
  {
   "cell_type": "code",
   "execution_count": 6,
   "metadata": {
    "scrolled": true
   },
   "outputs": [],
   "source": [
    "def update_zips():\n",
    "    remote_zip_files = list() \n",
    "    local_zip_files = list()\n",
    "\n",
    "    for year_rl in get_year_urls(MMSDM_archive_url): \n",
    "        remote_zip_files.extend(get_remote_zip(year_rl))  \n",
    "        local_zip_files.extend(get_local_zip(year_rl))    \n",
    "\n",
    "    logger.debug('remote file names: \\n%s', remote_zip_files)\n",
    "    logger.debug('local file names: \\n%s', local_zip_files)\n",
    "\n",
    "    remote_file_set = set(); remote_file_set = set(remote_zip_files)\n",
    "    local_file_set = set(); local_file_set = set(local_zip_files)\n",
    "\n",
    "    missing_files = remote_file_set - local_file_set #assume there are more remotes than locals\n",
    "\n",
    "    logger.debug('The set of missing files:\\n%s', missing_files)\n",
    "\n",
    "    for zip_file in missing_files:\n",
    "        year = zip_file[6:10]\n",
    "        file_url = MMSDM_archive_url+year+'/'+zip_file\n",
    "        file_local = os.path.join(ZIPDIR_root, year, zip_file)\n",
    "        logger.info('looking for remote:\\n%s', file_url)\n",
    "        logger.info('and saving to local:\\n%s', file_local)\n",
    "\n",
    "        if not os.path.exists(os.path.join(ZIPDIR_root, year)): \n",
    "            os.makedirs(os.path.join(ZIPDIR_root, year))\n",
    "\n",
    "        # the following bits of code need to be done where there is a good data connection \n",
    "        # i.e. not at home:\n",
    "\n",
    "        r = requests.get(file_url, stream=True) # stream=True as data is big\n",
    "        with open(file_local, 'wb') as f:\n",
    "            for chunk in r.iter_content(chunk_size=512): # Over 2gig of data, need to stream it in chunks\n",
    "                if chunk: f.write(chunk) # filter out keep-alive new chunks\n",
    "\n",
    "        logger.info('\\n%s - saved locally', file_local)\n",
    "    else: logger.info('No new files to transfer.')\n",
    "        \n",
    "    return None"
   ]
  },
  {
   "cell_type": "markdown",
   "metadata": {},
   "source": [
    "Using the prototype `monkey see, monkey do` for unit testing from: https://stackoverflow.com/questions/37895781/unable-to-run-unittests-main-function-in-ipython-jupyter-notebook#38012249\n",
    "\n",
    "the return code is alway going to be None, but now I can run this in stand alone, or as an integrated module."
   ]
  },
  {
   "cell_type": "code",
   "execution_count": 7,
   "metadata": {},
   "outputs": [],
   "source": [
    "class Get_NEM_Zip_Archive(unittest.TestCase):\n",
    "\n",
    "    def testUpdate(self):\n",
    "        assert update_zips() == None\n"
   ]
  },
  {
   "cell_type": "code",
   "execution_count": 8,
   "metadata": {},
   "outputs": [
    {
     "name": "stderr",
     "output_type": "stream",
     "text": [
      "testUpdate (__main__.Get_NEM_Zip_Archive) ...  2018-08-08 15:34:20,426 - INFO - No new files to transfer.\n",
      "ok\n",
      "\n",
      "----------------------------------------------------------------------\n",
      "Ran 1 test in 1.798s\n",
      "\n",
      "OK\n"
     ]
    }
   ],
   "source": [
    "if __name__ == '__main__':\n",
    "    unittest.main(argv=['ignored', '-v'], exit=False)"
   ]
  },
  {
   "cell_type": "code",
   "execution_count": null,
   "metadata": {},
   "outputs": [],
   "source": []
  }
 ],
 "metadata": {
  "kernelspec": {
   "display_name": "Python 3",
   "language": "python",
   "name": "python3"
  },
  "language_info": {
   "codemirror_mode": {
    "name": "ipython",
    "version": 3
   },
   "file_extension": ".py",
   "mimetype": "text/x-python",
   "name": "python",
   "nbconvert_exporter": "python",
   "pygments_lexer": "ipython3",
   "version": "3.6.3"
  }
 },
 "nbformat": 4,
 "nbformat_minor": 2
}
